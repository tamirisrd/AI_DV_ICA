{
 "cells": [
  {
   "cell_type": "markdown",
   "id": "cdc8677a",
   "metadata": {},
   "source": [
    "# CCT College\n",
    "\n",
    "###### Module Title(s):\t\n",
    "Artificial Inteligence, Data Visualisation & Comms \n",
    "###### Lecturer Name(s):\t\n",
    "David McQuaid, Sam Weiss\n",
    "###### Assessment Title:\t\n",
    "AI_DV _Lv8_ICA_v5\n",
    "###### Student Name: \n",
    "Tamiris Rodrigues Duarte\n",
    "###### Student Number:\n",
    "2020294\n",
    "###### Due Date (Deadline):\t\n",
    "5th January 2024\n",
    "\n",
    "###### GitHub:\t\n",
    "https://github.com/tamirisrd/AI_DV_ICA"
   ]
  },
  {
   "cell_type": "markdown",
   "id": "77082dc2",
   "metadata": {},
   "source": [
    "Ciara is looking for employees for her new company, which develops and provides AI based logistic software for retailers. Ciara has determined that she needs:\n",
    "\n",
    "2 Python Programmers, 2 AI Engineers, 1 Web Designer, 1 Database Admin, and 1 Systems Engineer.\n",
    "Assume that if a person has two abilities, he or she can take on two roles in the company.\n",
    "\n",
    "So Ciara narrowed down her selections to the following people:\n",
    "\n",
    "Name \tAbilities\n",
    "Peter \tPython and AI\n",
    "Juan \tWeb and AI\n",
    "Jim \tAI and Systems\n",
    "Jane \tPython and Database\n",
    "Mary \tWeb and Systems\n",
    "Bruce \tSystems and Python\n",
    "Anita \tWeb and AI\n",
    "\n",
    "Variables: PP, AE, WD, DA, SE\n",
    "\n",
    "Value: 2, 2, 1, 1, 1\n",
    "\n",
    "Domain: Peter (PP, AE), Juan (WD, AE), Jim (AE, SE), Jane (PP, DA), Mary (WD, SE), Bruce (SE, PP), Anita (WD, AE)"
   ]
  },
  {
   "cell_type": "markdown",
   "id": "43da94ca",
   "metadata": {},
   "source": [
    "\n",
    "\n",
    "# Scenario 1\n",
    "#### Suppose Ciara knows Python, and only has funds to hire three more people.\n",
    "\n",
    "Ciara knows python, so the other 3 people need to cover the areas: AE, WD, SE and/or DA.\n",
    "\n",
    "Variables: PP, AE, WD, DA, SE /\n",
    "Value: 2, 2, 1, 1, 1 /\n",
    "Constrain: Ciara knows python, hire only 3 people. \n",
    "\n",
    "\n",
    "For AE: Peter, Juan, Jim, Anita\n",
    "\n",
    "For WD: Juan, Mary, Anita\n",
    "\n",
    "For SE: Jim, Mary, Bruce\n",
    "\n",
    "DA: Jane\n",
    "\n",
    "For AE: Peter can be selected, as the other skill is python\n",
    "For WD: Mary, Juan or Anita\n",
    "For SE: Mary or Bruce is the only\n",
    "DA: Jane is the only one  with this skill\n"
   ]
  },
  {
   "cell_type": "code",
   "execution_count": 24,
   "id": "88d7071c",
   "metadata": {},
   "outputs": [
    {
     "name": "stdout",
     "output_type": "stream",
     "text": [
      "Requirement already satisfied: python-constraint in c:\\users\\tahro\\anaconda3\\lib\\site-packages (1.4.0)\n"
     ]
    }
   ],
   "source": [
    "!pip install python-constraint"
   ]
  },
  {
   "cell_type": "code",
   "execution_count": 25,
   "id": "f8505813",
   "metadata": {},
   "outputs": [],
   "source": [
    "from constraint import *"
   ]
  },
  {
   "cell_type": "code",
   "execution_count": 23,
   "id": "bec245f5",
   "metadata": {},
   "outputs": [],
   "source": [
    "roles = {\n",
    "    'PP': 2, \n",
    "    'AE': 2,\n",
    "    'WD': 1,\n",
    "    'DA': 1,\n",
    "    'SE': 1    \n",
    "}\n",
    "\n",
    "people = {\n",
    "    'Peter': ['PP', 'AE'], \n",
    "    'Juan': ['WD', 'AE'], \n",
    "    'Jim': ['AE', 'SE'], \n",
    "    'Jane': ['PP', 'DA'], \n",
    "    'Mary': ['WD', 'SE'], \n",
    "    'Bruce': ['SE', 'PP'], \n",
    "    'Anita': ['WD', 'AE']\n",
    "}"
   ]
  },
  {
   "cell_type": "markdown",
   "id": "53a6442f",
   "metadata": {},
   "source": [
    "# Task 2\n",
    "#### 1.Using any CSP (Constraint Satisfaction Problem) framework (using variables, value domains, and constraints), discover if the above problems can be solved and if so detail who would be in hired.[0-30] "
   ]
  },
  {
   "cell_type": "code",
   "execution_count": null,
   "id": "6886dd3b",
   "metadata": {},
   "outputs": [],
   "source": []
  },
  {
   "cell_type": "markdown",
   "id": "048de363",
   "metadata": {},
   "source": [
    "# References\n",
    "https://pypi.org/project/python-constraint/ [28/12/2023]\n"
   ]
  }
 ],
 "metadata": {
  "kernelspec": {
   "display_name": "Python 3 (ipykernel)",
   "language": "python",
   "name": "python3"
  },
  "language_info": {
   "codemirror_mode": {
    "name": "ipython",
    "version": 3
   },
   "file_extension": ".py",
   "mimetype": "text/x-python",
   "name": "python",
   "nbconvert_exporter": "python",
   "pygments_lexer": "ipython3",
   "version": "3.11.5"
  }
 },
 "nbformat": 4,
 "nbformat_minor": 5
}
