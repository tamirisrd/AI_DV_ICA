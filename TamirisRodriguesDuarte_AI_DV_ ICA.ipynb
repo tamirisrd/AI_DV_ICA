{
 "cells": [
  {
   "cell_type": "markdown",
   "id": "d84aa016",
   "metadata": {},
   "source": [
    "# CCT College\n",
    "\n",
    "###### Module Title(s):\t\n",
    "Artificial Inteligence, Data Visualisation & Comms \n",
    "###### Lecturer Name(s):\t\n",
    "David McQuaid, Sam Weiss\n",
    "###### Assessment Title:\t\n",
    "AI_DV _Lv8_ICA_v5\n",
    "###### Student Name: \n",
    "Tamiris Rodrigues Duarte\n",
    "###### Student Number:\n",
    "2020294\n",
    "###### Due Date (Deadline):\t\n",
    "5th January 2024\n",
    "\n",
    "###### GitHub:\t\n",
    "https://github.com/tamirisrd/AI_DV_ICA"
   ]
  },
  {
   "cell_type": "markdown",
   "id": "b90d2d8b",
   "metadata": {},
   "source": [
    "Ciara is looking for employees for her new company, which develops and provides AI based logistic software for retailers. Ciara has determined that she needs:\n",
    "\n",
    "2 Python Programmers, 2 AI Engineers, 1 Web Designer, 1 Database Admin, and 1 Systems Engineer.\n",
    "Assume that if a person has two abilities, he or she can take on two roles in the company.\n",
    "\n",
    "So Ciara narrowed down her selections to the following people:\n",
    "\n",
    "Name \tAbilities\n",
    "Peter \tPython and AI\n",
    "Juan \tWeb and AI\n",
    "Jim \tAI and Systems\n",
    "Jane \tPython and Database\n",
    "Mary \tWeb and Systems\n",
    "Bruce \tSystems and Python\n",
    "Anita \tWeb and AI\n"
   ]
  },
  {
   "cell_type": "markdown",
   "id": "c3b5c6fd",
   "metadata": {},
   "source": [
    "\n",
    "\n",
    "# Scenario 1\n",
    "#### Suppose Ciara knows Python, and only has funds to hire three more people.\n",
    "\n",
    "Ciara knows python, so the other 3 people need to cover the areas: AE, WD, SE and/or DA.\n",
    "\n",
    "Variables: PP, AE, WD, DA, SE /\n",
    "Value/Domain: Peter, Juan, Jim, Anita, Jim, Mary, Bruce, Jane\n",
    "(2, 2, 1, 1, 1)\n",
    "Constrain: Ciara knows python, hire only 3 people. \n",
    "\n",
    "\n",
    "For AE: Peter, Juan, Jim, Anita, Bruce\n",
    "\n",
    "For WD: Juan, Mary, Anita\n",
    "\n",
    "For SE: Jim, Mary, Bruce\n",
    "\n",
    "DA: Jane\n",
    "\n",
    "For AE: Peter can be selected, as the other skill is python\n",
    "For WD: Juan or Anita\n",
    "For SE: Mary or Bruce\n",
    "DA: Jane is the only one  with this skill\n"
   ]
  },
  {
   "cell_type": "code",
   "execution_count": 2,
   "id": "88094728",
   "metadata": {},
   "outputs": [
    {
     "name": "stdout",
     "output_type": "stream",
     "text": [
      "Requirement already satisfied: python-constraint in c:\\users\\tahro\\anaconda3\\lib\\site-packages (1.4.0)\n"
     ]
    }
   ],
   "source": [
    "!pip install python-constraint"
   ]
  },
  {
   "cell_type": "code",
   "execution_count": 3,
   "id": "acb7f131",
   "metadata": {},
   "outputs": [],
   "source": [
    "from constraint import Problem, AllDifferentConstraint"
   ]
  },
  {
   "cell_type": "code",
   "execution_count": 6,
   "id": "c02c69c8",
   "metadata": {},
   "outputs": [],
   "source": [
    "problem = Problem()\n",
    "\n",
    "roles = [\n",
    "    'PP', \n",
    "    'AE',\n",
    "    'WD',\n",
    "    'DA',\n",
    "    'SE']\n",
    "\n",
    "people = [\n",
    "    'Ciara',\n",
    "    'Peter', \n",
    "    'Juan', \n",
    "    'Jim', \n",
    "    'Jane', \n",
    "    'Mary', \n",
    "    'Bruce', \n",
    "    'Anita']\n",
    "\n",
    "for person in people:\n",
    "    problem.addVariable(person, roles)\n",
    "    \n",
    "problem.addConstraint(AllDifferentConstraint())\n",
    "\n",
    "def hire_constraint(p1, p2, p3):\n",
    "    return len(set([p1, p2, p3])) == 3\n",
    "\n",
    "problem.addConstraint(hire_constraint, people)\n",
    "\n",
    "solutions = problem.getSolutions()\n",
    "\n",
    "for solution in solutions:\n",
    "    hired_people = [person for person, role in solution.items() if role]\n",
    "    print(hired_people)"
   ]
  },
  {
   "cell_type": "markdown",
   "id": "4d19ea1b",
   "metadata": {},
   "source": [
    "# Scenario 2\n",
    "#### Suppose Ciara and Juan become partners, with the additional funds they can now employ four more people but must employ another AI Engineer, so they need 2 Python Programmers, 3 AI Engineers, 1 Web Designer, 1 Database Admin, and 1 Systems Engineer."
   ]
  },
  {
   "cell_type": "code",
   "execution_count": null,
   "id": "b100acb8",
   "metadata": {},
   "outputs": [],
   "source": []
  },
  {
   "cell_type": "markdown",
   "id": "c36542f7",
   "metadata": {},
   "source": [
    "# References\n",
    "https://pypi.org/project/python-constraint/ [28/12/2023]\n",
    "Fire Officer Constraint file (in class) [30/12/2023]\n",
    "https://www.geeksforgeeks.org/constraint-satisfaction-problems-csp-in-artificial-intelligence/ [04/12/2023]"
   ]
  },
  {
   "cell_type": "code",
   "execution_count": null,
   "id": "2187d236",
   "metadata": {},
   "outputs": [],
   "source": []
  }
 ],
 "metadata": {
  "kernelspec": {
   "display_name": "Python 3 (ipykernel)",
   "language": "python",
   "name": "python3"
  },
  "language_info": {
   "codemirror_mode": {
    "name": "ipython",
    "version": 3
   },
   "file_extension": ".py",
   "mimetype": "text/x-python",
   "name": "python",
   "nbconvert_exporter": "python",
   "pygments_lexer": "ipython3",
   "version": "3.11.5"
  }
 },
 "nbformat": 4,
 "nbformat_minor": 5
}
