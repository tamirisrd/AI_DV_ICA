{
 "cells": [
  {
   "cell_type": "markdown",
   "id": "d84aa016",
   "metadata": {},
   "source": [
    "# CCT College\n",
    "\n",
    "###### Module Title(s):\t\n",
    "Artificial Inteligence, Data Visualisation & Comms \n",
    "###### Lecturer Name(s):\t\n",
    "David McQuaid, Sam Weiss\n",
    "###### Assessment Title:\t\n",
    "AI_DV _Lv8_ICA_v5\n",
    "###### Student Name: \n",
    "Tamiris Rodrigues Duarte\n",
    "###### Student Number:\n",
    "2020294\n",
    "###### Due Date (Deadline):\t\n",
    "5th January 2024\n",
    "\n",
    "###### GitHub:\t\n",
    "https://github.com/tamirisrd/AI_DV_ICA"
   ]
  },
  {
   "cell_type": "markdown",
   "id": "b90d2d8b",
   "metadata": {},
   "source": [
    "Ciara is looking for employees for her new company, which develops and provides AI based logistic software for retailers. Ciara has determined that she needs:\n",
    "\n",
    "2 Python Programmers, 2 AI Engineers, 1 Web Designer, 1 Database Admin, and 1 Systems Engineer.\n",
    "Assume that if a person has two abilities, he or she can take on two roles in the company.\n",
    "\n",
    "So Ciara narrowed down her selections to the following people:\n",
    "\n",
    "Name \tAbilities\n",
    "Peter \tPython and AI\n",
    "Juan \tWeb and AI\n",
    "Jim \tAI and Systems\n",
    "Jane \tPython and Database\n",
    "Mary \tWeb and Systems\n",
    "Bruce \tSystems and Python\n",
    "Anita \tWeb and AI\n"
   ]
  },
  {
   "cell_type": "markdown",
   "id": "c3b5c6fd",
   "metadata": {},
   "source": [
    "\n",
    "\n",
    "# Scenario 1\n",
    "#### Suppose Ciara knows Python, and only has funds to hire three more people.\n"
   ]
  },
  {
   "cell_type": "code",
   "execution_count": 1,
   "id": "88094728",
   "metadata": {},
   "outputs": [
    {
     "name": "stdout",
     "output_type": "stream",
     "text": [
      "Requirement already satisfied: python-constraint in c:\\users\\tahro\\anaconda3\\lib\\site-packages (1.4.0)\n"
     ]
    }
   ],
   "source": [
    "!pip install python-constraint"
   ]
  },
  {
   "cell_type": "code",
   "execution_count": 2,
   "id": "acb7f131",
   "metadata": {},
   "outputs": [],
   "source": [
    "from constraint import Problem"
   ]
  },
  {
   "cell_type": "code",
   "execution_count": 11,
   "id": "c02c69c8",
   "metadata": {},
   "outputs": [
    {
     "ename": "TypeError",
     "evalue": "unhashable type: 'list'",
     "output_type": "error",
     "traceback": [
      "\u001b[1;31m---------------------------------------------------------------------------\u001b[0m",
      "\u001b[1;31mTypeError\u001b[0m                                 Traceback (most recent call last)",
      "Cell \u001b[1;32mIn[11], line 25\u001b[0m\n\u001b[0;32m     23\u001b[0m \u001b[38;5;66;03m# Define the variables and domains\u001b[39;00m\n\u001b[0;32m     24\u001b[0m \u001b[38;5;28;01mfor\u001b[39;00m role \u001b[38;5;129;01min\u001b[39;00m roles:\n\u001b[1;32m---> 25\u001b[0m     problem\u001b[38;5;241m.\u001b[39maddVariable(roles, people\u001b[38;5;241m.\u001b[39mkeys())\n\u001b[0;32m     27\u001b[0m \u001b[38;5;66;03m# Define constraints\u001b[39;00m\n\u001b[0;32m     28\u001b[0m \u001b[38;5;28;01mdef\u001b[39;00m \u001b[38;5;21mciara_cons\u001b[39m(PP_1):\n",
      "File \u001b[1;32m~\\anaconda3\\Lib\\site-packages\\constraint\\__init__.py:165\u001b[0m, in \u001b[0;36mProblem.addVariable\u001b[1;34m(self, variable, domain)\u001b[0m\n\u001b[0;32m    148\u001b[0m \u001b[38;5;28;01mdef\u001b[39;00m \u001b[38;5;21maddVariable\u001b[39m(\u001b[38;5;28mself\u001b[39m, variable, domain):\n\u001b[0;32m    149\u001b[0m \u001b[38;5;250m    \u001b[39m\u001b[38;5;124;03m\"\"\"\u001b[39;00m\n\u001b[0;32m    150\u001b[0m \u001b[38;5;124;03m    Add a variable to the problem\u001b[39;00m\n\u001b[0;32m    151\u001b[0m \n\u001b[1;32m   (...)\u001b[0m\n\u001b[0;32m    163\u001b[0m \u001b[38;5;124;03m    @type  domain: list, tuple, or instance of C{Domain}\u001b[39;00m\n\u001b[0;32m    164\u001b[0m \u001b[38;5;124;03m    \"\"\"\u001b[39;00m\n\u001b[1;32m--> 165\u001b[0m     \u001b[38;5;28;01mif\u001b[39;00m variable \u001b[38;5;129;01min\u001b[39;00m \u001b[38;5;28mself\u001b[39m\u001b[38;5;241m.\u001b[39m_variables:\n\u001b[0;32m    166\u001b[0m         msg \u001b[38;5;241m=\u001b[39m \u001b[38;5;124m\"\u001b[39m\u001b[38;5;124mTried to insert duplicated variable \u001b[39m\u001b[38;5;132;01m%s\u001b[39;00m\u001b[38;5;124m\"\u001b[39m \u001b[38;5;241m%\u001b[39m \u001b[38;5;28mrepr\u001b[39m(variable)\n\u001b[0;32m    167\u001b[0m         \u001b[38;5;28;01mraise\u001b[39;00m \u001b[38;5;167;01mValueError\u001b[39;00m(msg)\n",
      "\u001b[1;31mTypeError\u001b[0m: unhashable type: 'list'"
     ]
    }
   ],
   "source": [
    "# variables and domains\n",
    "roles = [\n",
    "    'PP_1',\n",
    "    'PP_2'\n",
    "    'AI_1',\n",
    "    'AI_2',\n",
    "    'WD',\n",
    "    'DB',\n",
    "    'SE']\n",
    "\n",
    "people = {\n",
    "    'Ciara': [\"PP_1\"],\n",
    "    'Peter': [\"PP_2\", \"AI_1\", \"AI_2\"], \n",
    "    'Juan': [\"WD\", \"AI_1\", \"AI_2\"], \n",
    "    'Jim': [\"AI_1\", \"AI_2\",\"SE\"], \n",
    "    'Jane':[\"PP_2\", \"DB\"], \n",
    "    'Mary':[\"WD\", \"SE\"], \n",
    "    'Bruce':[\"PP_2\", \"SE\"], \n",
    "    'Anita':[\"AI_1\", \"AI_2\",\"WD\"]}\n",
    "\n",
    "problem = Problem()\n",
    "\n",
    "# Define the variables and domains\n",
    "for role in roles:\n",
    "    problem.addVariable(roles, people.keys())\n",
    "\n",
    "# Define constraints\n",
    "def ciara_cons(PP_1):\n",
    "    return PP_1 == \"Ciara\"\n",
    "\n",
    "def AI_cons (AI_1, AI_2):\n",
    "    return AI_1 != AI_2\n",
    "\n",
    "def db_cons(DB):\n",
    "    return DB == \"Jane\"\n",
    "\n",
    "def two_roles_cons(roles):\n",
    "    people_count = {role: 0 for role in roles}\n",
    "    for role in roles:\n",
    "        people_count[role] += 1\n",
    "    return all(count <= 2 for count in people_count.values())\n",
    "\n",
    "def skill_cons(roles):\n",
    "    for role in roles: \n",
    "        if role not in people[role]:\n",
    "            return False\n",
    "        return True\n",
    "    \n",
    "def hiring_cons(roles):\n",
    "    return len(set(roles)) == 3\n",
    "    \n",
    "problem.addConstraint(ciara_cons, [\"PP_1\"])    \n",
    "problem.addConstraint(AI_cons, [\"AI_1\", \"AI_2\"])\n",
    "problem.addConstraint(db_cons, [\"DB\"])\n",
    "problem.addConstraint(two_roles_cons, roles)\n",
    "problem.addConstraint(skill_cons, roles)\n",
    "problem.addConstraint(hiring_cons, roles)\n",
    "\n",
    "# Solution\n",
    "solutions = problem.getSolutions()\n",
    "\n",
    "#unique_solutions = []\n",
    "\n",
    "for solution in solutions:\n",
    "    hired_people = [person for person, role in solution.items() if role]\n",
    "    print(hired_people)"
   ]
  },
  {
   "cell_type": "markdown",
   "id": "4d19ea1b",
   "metadata": {},
   "source": [
    "# Scenario 2\n",
    "#### Suppose Ciara and Juan become partners, with the additional funds they can now employ four more people but must employ another AI Engineer, so they need 2 Python Programmers, 3 AI Engineers, 1 Web Designer, 1 Database Admin, and 1 Systems Engineer."
   ]
  },
  {
   "cell_type": "code",
   "execution_count": null,
   "id": "b100acb8",
   "metadata": {},
   "outputs": [],
   "source": []
  }
 ],
 "metadata": {
  "kernelspec": {
   "display_name": "Python 3 (ipykernel)",
   "language": "python",
   "name": "python3"
  },
  "language_info": {
   "codemirror_mode": {
    "name": "ipython",
    "version": 3
   },
   "file_extension": ".py",
   "mimetype": "text/x-python",
   "name": "python",
   "nbconvert_exporter": "python",
   "pygments_lexer": "ipython3",
   "version": "3.11.5"
  }
 },
 "nbformat": 4,
 "nbformat_minor": 5
}
