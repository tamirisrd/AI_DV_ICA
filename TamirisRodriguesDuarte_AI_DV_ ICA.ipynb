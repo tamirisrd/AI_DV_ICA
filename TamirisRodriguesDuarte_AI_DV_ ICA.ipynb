{
 "cells": [
  {
   "cell_type": "markdown",
   "id": "d84aa016",
   "metadata": {},
   "source": [
    "# CCT College\n",
    "\n",
    "###### Module Title(s):\t\n",
    "Artificial Inteligence, Data Visualisation & Comms \n",
    "###### Lecturer Name(s):\t\n",
    "David McQuaid, Sam Weiss\n",
    "###### Assessment Title:\t\n",
    "AI_DV _Lv8_ICA_v5\n",
    "###### Student Name: \n",
    "Tamiris Rodrigues Duarte\n",
    "###### Student Number:\n",
    "2020294\n",
    "###### Due Date (Deadline):\t\n",
    "5th January 2024\n",
    "\n",
    "###### GitHub:\t\n",
    "https://github.com/tamirisrd/AI_DV_ICA"
   ]
  },
  {
   "cell_type": "markdown",
   "id": "b90d2d8b",
   "metadata": {},
   "source": [
    "Ciara is looking for employees for her new company, which develops and provides AI based logistic software for retailers. Ciara has determined that she needs:\n",
    "\n",
    "2 Python Programmers, 2 AI Engineers, 1 Web Designer, 1 Database Admin, and 1 Systems Engineer.\n",
    "Assume that if a person has two abilities, he or she can take on two roles in the company.\n",
    "\n",
    "So Ciara narrowed down her selections to the following people:\n",
    "\n",
    "Name \tAbilities\n",
    "Peter \tPython and AI\n",
    "Juan \tWeb and AI\n",
    "Jim \tAI and Systems\n",
    "Jane \tPython and Database\n",
    "Mary \tWeb and Systems\n",
    "Bruce \tSystems and Python\n",
    "Anita \tWeb and AI\n"
   ]
  },
  {
   "cell_type": "markdown",
   "id": "c3b5c6fd",
   "metadata": {},
   "source": [
    "\n",
    "\n",
    "# Scenario 1\n",
    "#### Suppose Ciara knows Python, and only has funds to hire three more people.\n"
   ]
  },
  {
   "cell_type": "code",
   "execution_count": 2,
   "id": "88094728",
   "metadata": {},
   "outputs": [
    {
     "name": "stdout",
     "output_type": "stream",
     "text": [
      "Requirement already satisfied: python-constraint in c:\\users\\tahro\\anaconda3\\lib\\site-packages (1.4.0)\n"
     ]
    }
   ],
   "source": [
    "!pip install python-constraint"
   ]
  },
  {
   "cell_type": "code",
   "execution_count": 3,
   "id": "acb7f131",
   "metadata": {},
   "outputs": [],
   "source": [
    "from constraint import Problem"
   ]
  },
  {
   "cell_type": "code",
   "execution_count": 6,
   "id": "c02c69c8",
   "metadata": {},
   "outputs": [],
   "source": [
    "# variables and domains\n",
    "roles = [\n",
    "    'PP_1',\n",
    "    'PP_2'\n",
    "    'AI_1',\n",
    "    'AI_2',\n",
    "    'WD',\n",
    "    'DB',\n",
    "    'SE']\n",
    "\n",
    "people = [\n",
    "    'Ciara',\n",
    "    'Peter', \n",
    "    'Juan', \n",
    "    'Jim', \n",
    "    'Jane', \n",
    "    'Mary', \n",
    "    'Bruce', \n",
    "    'Anita']\n",
    "\n",
    "problem = Problem()\n",
    "\n",
    "# Define the variables and domains\n",
    "for roles in role:\n",
    "    problem.addVariable(roles, list(hires.keys()))\n",
    "\n",
    "problem.addConstraint(ciara_cons, [\"PP_1\"])    \n",
    "problem.addConstraint(AI_cons, [\"AI_1\", \"AI_2\"])\n",
    "problem.addConstraint(db_cons, [\"DB\"])\n",
    "problem.addConstraint(two_roles_cons, roles)\n",
    "problem.addConstraint(skill_cons, roles)\n",
    "problem.addConstraint(hiring_cons, roles)\n",
    "\n",
    "# Solution\n",
    "solutions = problem.getSolutions()\n",
    "\n",
    "unique_solutions = []\n",
    "\n",
    "for solution in solutions:\n",
    "    hired_people = [person for person, role in solution.items() if role]\n",
    "    print(hired_people)"
   ]
  },
  {
   "cell_type": "markdown",
   "id": "4d19ea1b",
   "metadata": {},
   "source": [
    "# Scenario 2\n",
    "#### Suppose Ciara and Juan become partners, with the additional funds they can now employ four more people but must employ another AI Engineer, so they need 2 Python Programmers, 3 AI Engineers, 1 Web Designer, 1 Database Admin, and 1 Systems Engineer."
   ]
  },
  {
   "cell_type": "code",
   "execution_count": null,
   "id": "b100acb8",
   "metadata": {},
   "outputs": [],
   "source": []
  }
 ],
 "metadata": {
  "kernelspec": {
   "display_name": "Python 3 (ipykernel)",
   "language": "python",
   "name": "python3"
  },
  "language_info": {
   "codemirror_mode": {
    "name": "ipython",
    "version": 3
   },
   "file_extension": ".py",
   "mimetype": "text/x-python",
   "name": "python",
   "nbconvert_exporter": "python",
   "pygments_lexer": "ipython3",
   "version": "3.11.5"
  }
 },
 "nbformat": 4,
 "nbformat_minor": 5
}
