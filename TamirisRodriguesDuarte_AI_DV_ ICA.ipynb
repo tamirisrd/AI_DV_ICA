{
 "cells": [
  {
   "cell_type": "markdown",
   "id": "d84aa016",
   "metadata": {},
   "source": [
    "# CCT College\n",
    "\n",
    "###### Module Title(s):\t\n",
    "Artificial Inteligence, Data Visualisation & Comms \n",
    "###### Lecturer Name(s):\t\n",
    "David McQuaid, Sam Weiss\n",
    "###### Assessment Title:\t\n",
    "AI_DV _Lv8_ICA_v5\n",
    "###### Student Name: \n",
    "Tamiris Rodrigues Duarte\n",
    "###### Student Number:\n",
    "2020294\n",
    "###### Due Date (Deadline):\t\n",
    "5th January 2024\n",
    "\n",
    "###### GitHub:\t\n",
    "https://github.com/tamirisrd/AI_DV_ICA"
   ]
  },
  {
   "cell_type": "markdown",
   "id": "b90d2d8b",
   "metadata": {},
   "source": [
    "# Artificial Intelligence\n",
    "\n",
    "Ciara is looking for employees for her new company, which develops and provides AI based logistic software for retailers. Ciara has determined that she needs:\n",
    "\n",
    "2 Python Programmers, 2 AI Engineers, 1 Web Designer, 1 Database Admin, and 1 Systems Engineer.\n",
    "Assume that if a person has two abilities, he or she can take on two roles in the company.\n",
    "\n",
    "So Ciara narrowed down her selections to the following people:\n",
    "\n",
    "Name \tAbilities\n",
    "Peter \tPython and AI\n",
    "Juan \tWeb and AI\n",
    "Jim \tAI and Systems\n",
    "Jane \tPython and Database\n",
    "Mary \tWeb and Systems\n",
    "Bruce \tSystems and Python\n",
    "Anita \tWeb and AI\n"
   ]
  },
  {
   "cell_type": "markdown",
   "id": "c3b5c6fd",
   "metadata": {},
   "source": [
    "\n",
    "\n",
    "## Scenario 1\n",
    "#### Suppose Ciara knows Python, and only has funds to hire three more people.\n"
   ]
  },
  {
   "cell_type": "code",
   "execution_count": 1,
   "id": "88094728",
   "metadata": {},
   "outputs": [
    {
     "name": "stdout",
     "output_type": "stream",
     "text": [
      "Requirement already satisfied: python-constraint in c:\\users\\tahro\\anaconda3\\lib\\site-packages (1.4.0)\n"
     ]
    }
   ],
   "source": [
    "!pip install python-constraint"
   ]
  },
  {
   "cell_type": "code",
   "execution_count": 2,
   "id": "acb7f131",
   "metadata": {},
   "outputs": [],
   "source": [
    "from constraint import Problem"
   ]
  },
  {
   "cell_type": "code",
   "execution_count": 3,
   "id": "c02c69c8",
   "metadata": {},
   "outputs": [
    {
     "name": "stdout",
     "output_type": "stream",
     "text": [
      "AI_1: Anita\n",
      "AI_2: Jim\n",
      "DB: Jane\n",
      "PP_1: Ciara\n",
      "PP_2: Jane\n",
      "SE: Jim\n",
      "WD: Anita\n",
      "\n",
      "AI_1: Jim\n",
      "AI_2: Anita\n",
      "DB: Jane\n",
      "PP_1: Ciara\n",
      "PP_2: Jane\n",
      "SE: Jim\n",
      "WD: Anita\n",
      "\n",
      "AI_1: Jim\n",
      "AI_2: Juan\n",
      "DB: Jane\n",
      "PP_1: Ciara\n",
      "PP_2: Jane\n",
      "SE: Jim\n",
      "WD: Juan\n",
      "\n",
      "AI_1: Juan\n",
      "AI_2: Jim\n",
      "DB: Jane\n",
      "PP_1: Ciara\n",
      "PP_2: Jane\n",
      "SE: Jim\n",
      "WD: Juan\n",
      "\n"
     ]
    }
   ],
   "source": [
    "# variables and domains\n",
    "roles = [\n",
    "    'PP_1',\n",
    "    'PP_2',\n",
    "    'AI_1',\n",
    "    'AI_2',\n",
    "    'WD',\n",
    "    'DB',\n",
    "    'SE']\n",
    "\n",
    "people = {\n",
    "    'Ciara': [\"PP_1\"],\n",
    "    'Peter': [\"PP_2\", \"AI_1\", \"AI_2\"], \n",
    "    'Juan': [\"WD\", \"AI_1\", \"AI_2\"], \n",
    "    'Jim': [\"AI_1\", \"AI_2\",\"SE\"], \n",
    "    'Jane':[\"PP_2\", \"DB\"], \n",
    "    'Mary':[\"WD\", \"SE\"], \n",
    "    'Bruce':[\"PP_2\", \"SE\"], \n",
    "    'Anita':[\"AI_1\", \"AI_2\",\"WD\"]}\n",
    "\n",
    "problem = Problem()\n",
    "\n",
    "# Define the variables and domains\n",
    "for role in roles:\n",
    "    problem.addVariable(role, list(people.keys()))\n",
    "\n",
    "# Define constraints\n",
    "def ciara_cons(PP_1):\n",
    "    return PP_1 == \"Ciara\"\n",
    "\n",
    "def AI_cons (AI_1, AI_2):\n",
    "    return AI_1 != AI_2\n",
    "\n",
    "def db_cons(DB):\n",
    "    return DB == \"Jane\"\n",
    "\n",
    "def two_roles_cons(*roles):\n",
    "    people_count = dict()\n",
    "    for role in roles:\n",
    "        if role in people_count:\n",
    "            people_count[role] += 1\n",
    "        else:\n",
    "            people_count[role] = 1\n",
    "    return all(count <= 2 for count in people_count.values())\n",
    "\n",
    "def skill_cons(*args):\n",
    "    for role_arg, people_arg in zip(roles, args):  \n",
    "        if role_arg not in people[people_arg]:\n",
    "            return False\n",
    "    return True\n",
    "    \n",
    "def hiring_cons(*roles):\n",
    "    return len(set(roles)) == 4\n",
    "    \n",
    "problem.addConstraint(ciara_cons, [\"PP_1\"])    \n",
    "problem.addConstraint(AI_cons, [\"AI_1\", \"AI_2\"])\n",
    "problem.addConstraint(db_cons, [\"DB\"])\n",
    "problem.addConstraint(two_roles_cons, roles)\n",
    "problem.addConstraint(skill_cons, roles)\n",
    "problem.addConstraint(hiring_cons, roles)\n",
    "\n",
    "# Solution\n",
    "solutions = problem.getSolutions()\n",
    "\n",
    "for solution in solutions:\n",
    "    for role, person in solution.items():\n",
    "        if person:\n",
    "            print(f\"{role}: {person}\")\n",
    "    print()     "
   ]
  },
  {
   "cell_type": "markdown",
   "id": "4d19ea1b",
   "metadata": {},
   "source": [
    "## Scenario 2\n",
    "#### Suppose Ciara and Juan become partners, with the additional funds they can now employ four more people but must employ another AI Engineer, so they need 2 Python Programmers, 3 AI Engineers, 1 Web Designer, 1 Database Admin, and 1 Systems Engineer."
   ]
  },
  {
   "cell_type": "code",
   "execution_count": 34,
   "id": "b100acb8",
   "metadata": {},
   "outputs": [
    {
     "name": "stdout",
     "output_type": "stream",
     "text": [
      "AI_1: Anita\n",
      "AI_2: Jim\n",
      "AI_3: Juan\n",
      "DB: Jane\n",
      "PP_1: Ciara\n",
      "PP_2: Bruce\n",
      "SE: Bruce\n",
      "WD: Anita\n",
      "\n",
      "AI_1: Anita\n",
      "AI_2: Jim\n",
      "AI_3: Juan\n",
      "DB: Jane\n",
      "PP_1: Ciara\n",
      "PP_2: Bruce\n",
      "SE: Bruce\n",
      "WD: Juan\n",
      "\n",
      "AI_1: Anita\n",
      "AI_2: Jim\n",
      "AI_3: Juan\n",
      "DB: Jane\n",
      "PP_1: Ciara\n",
      "PP_2: Bruce\n",
      "SE: Jim\n",
      "WD: Anita\n",
      "\n",
      "AI_1: Anita\n",
      "AI_2: Jim\n",
      "AI_3: Juan\n",
      "DB: Jane\n",
      "PP_1: Ciara\n",
      "PP_2: Bruce\n",
      "SE: Jim\n",
      "WD: Juan\n",
      "\n",
      "AI_1: Anita\n",
      "AI_2: Jim\n",
      "AI_3: Juan\n",
      "DB: Jane\n",
      "PP_1: Ciara\n",
      "PP_2: Jane\n",
      "SE: Bruce\n",
      "WD: Anita\n",
      "\n",
      "AI_1: Anita\n",
      "AI_2: Jim\n",
      "AI_3: Juan\n",
      "DB: Jane\n",
      "PP_1: Ciara\n",
      "PP_2: Jane\n",
      "SE: Bruce\n",
      "WD: Juan\n",
      "\n",
      "AI_1: Anita\n",
      "AI_2: Jim\n",
      "AI_3: Juan\n",
      "DB: Jane\n",
      "PP_1: Ciara\n",
      "PP_2: Jane\n",
      "SE: Mary\n",
      "WD: Mary\n",
      "\n",
      "AI_1: Anita\n",
      "AI_2: Jim\n",
      "AI_3: Juan\n",
      "DB: Jane\n",
      "PP_1: Ciara\n",
      "PP_2: Jane\n",
      "SE: Mary\n",
      "WD: Anita\n",
      "\n",
      "AI_1: Anita\n",
      "AI_2: Jim\n",
      "AI_3: Juan\n",
      "DB: Jane\n",
      "PP_1: Ciara\n",
      "PP_2: Jane\n",
      "SE: Mary\n",
      "WD: Juan\n",
      "\n",
      "AI_1: Anita\n",
      "AI_2: Jim\n",
      "AI_3: Juan\n",
      "DB: Jane\n",
      "PP_1: Ciara\n",
      "PP_2: Jane\n",
      "SE: Jim\n",
      "WD: Mary\n",
      "\n",
      "AI_1: Anita\n",
      "AI_2: Jim\n",
      "AI_3: Juan\n",
      "DB: Jane\n",
      "PP_1: Ciara\n",
      "PP_2: Jane\n",
      "SE: Jim\n",
      "WD: Anita\n",
      "\n",
      "AI_1: Anita\n",
      "AI_2: Jim\n",
      "AI_3: Juan\n",
      "DB: Jane\n",
      "PP_1: Ciara\n",
      "PP_2: Jane\n",
      "SE: Jim\n",
      "WD: Juan\n",
      "\n",
      "AI_1: Anita\n",
      "AI_2: Jim\n",
      "AI_3: Juan\n",
      "DB: Jane\n",
      "PP_1: Ciara\n",
      "PP_2: Peter\n",
      "SE: Jim\n",
      "WD: Anita\n",
      "\n",
      "AI_1: Anita\n",
      "AI_2: Jim\n",
      "AI_3: Juan\n",
      "DB: Jane\n",
      "PP_1: Ciara\n",
      "PP_2: Peter\n",
      "SE: Jim\n",
      "WD: Juan\n",
      "\n",
      "AI_1: Anita\n",
      "AI_2: Jim\n",
      "AI_3: Peter\n",
      "DB: Jane\n",
      "PP_1: Ciara\n",
      "PP_2: Jane\n",
      "SE: Jim\n",
      "WD: Juan\n",
      "\n",
      "AI_1: Anita\n",
      "AI_2: Jim\n",
      "AI_3: Peter\n",
      "DB: Jane\n",
      "PP_1: Ciara\n",
      "PP_2: Peter\n",
      "SE: Jim\n",
      "WD: Juan\n",
      "\n",
      "AI_1: Anita\n",
      "AI_2: Juan\n",
      "AI_3: Jim\n",
      "DB: Jane\n",
      "PP_1: Ciara\n",
      "PP_2: Bruce\n",
      "SE: Bruce\n",
      "WD: Anita\n",
      "\n",
      "AI_1: Anita\n",
      "AI_2: Juan\n",
      "AI_3: Jim\n",
      "DB: Jane\n",
      "PP_1: Ciara\n",
      "PP_2: Bruce\n",
      "SE: Bruce\n",
      "WD: Juan\n",
      "\n",
      "AI_1: Anita\n",
      "AI_2: Juan\n",
      "AI_3: Jim\n",
      "DB: Jane\n",
      "PP_1: Ciara\n",
      "PP_2: Bruce\n",
      "SE: Jim\n",
      "WD: Anita\n",
      "\n",
      "AI_1: Anita\n",
      "AI_2: Juan\n",
      "AI_3: Jim\n",
      "DB: Jane\n",
      "PP_1: Ciara\n",
      "PP_2: Bruce\n",
      "SE: Jim\n",
      "WD: Juan\n",
      "\n",
      "AI_1: Anita\n",
      "AI_2: Juan\n",
      "AI_3: Jim\n",
      "DB: Jane\n",
      "PP_1: Ciara\n",
      "PP_2: Jane\n",
      "SE: Bruce\n",
      "WD: Anita\n",
      "\n",
      "AI_1: Anita\n",
      "AI_2: Juan\n",
      "AI_3: Jim\n",
      "DB: Jane\n",
      "PP_1: Ciara\n",
      "PP_2: Jane\n",
      "SE: Bruce\n",
      "WD: Juan\n",
      "\n",
      "AI_1: Anita\n",
      "AI_2: Juan\n",
      "AI_3: Jim\n",
      "DB: Jane\n",
      "PP_1: Ciara\n",
      "PP_2: Jane\n",
      "SE: Mary\n",
      "WD: Mary\n",
      "\n",
      "AI_1: Anita\n",
      "AI_2: Juan\n",
      "AI_3: Jim\n",
      "DB: Jane\n",
      "PP_1: Ciara\n",
      "PP_2: Jane\n",
      "SE: Mary\n",
      "WD: Anita\n",
      "\n",
      "AI_1: Anita\n",
      "AI_2: Juan\n",
      "AI_3: Jim\n",
      "DB: Jane\n",
      "PP_1: Ciara\n",
      "PP_2: Jane\n",
      "SE: Mary\n",
      "WD: Juan\n",
      "\n",
      "AI_1: Anita\n",
      "AI_2: Juan\n",
      "AI_3: Jim\n",
      "DB: Jane\n",
      "PP_1: Ciara\n",
      "PP_2: Jane\n",
      "SE: Jim\n",
      "WD: Mary\n",
      "\n",
      "AI_1: Anita\n",
      "AI_2: Juan\n",
      "AI_3: Jim\n",
      "DB: Jane\n",
      "PP_1: Ciara\n",
      "PP_2: Jane\n",
      "SE: Jim\n",
      "WD: Anita\n",
      "\n",
      "AI_1: Anita\n",
      "AI_2: Juan\n",
      "AI_3: Jim\n",
      "DB: Jane\n",
      "PP_1: Ciara\n",
      "PP_2: Jane\n",
      "SE: Jim\n",
      "WD: Juan\n",
      "\n",
      "AI_1: Anita\n",
      "AI_2: Juan\n",
      "AI_3: Jim\n",
      "DB: Jane\n",
      "PP_1: Ciara\n",
      "PP_2: Peter\n",
      "SE: Jim\n",
      "WD: Anita\n",
      "\n",
      "AI_1: Anita\n",
      "AI_2: Juan\n",
      "AI_3: Jim\n",
      "DB: Jane\n",
      "PP_1: Ciara\n",
      "PP_2: Peter\n",
      "SE: Jim\n",
      "WD: Juan\n",
      "\n",
      "AI_1: Anita\n",
      "AI_2: Juan\n",
      "AI_3: Peter\n",
      "DB: Jane\n",
      "PP_1: Ciara\n",
      "PP_2: Bruce\n",
      "SE: Bruce\n",
      "WD: Anita\n",
      "\n",
      "AI_1: Anita\n",
      "AI_2: Juan\n",
      "AI_3: Peter\n",
      "DB: Jane\n",
      "PP_1: Ciara\n",
      "PP_2: Bruce\n",
      "SE: Bruce\n",
      "WD: Juan\n",
      "\n",
      "AI_1: Anita\n",
      "AI_2: Juan\n",
      "AI_3: Peter\n",
      "DB: Jane\n",
      "PP_1: Ciara\n",
      "PP_2: Jane\n",
      "SE: Bruce\n",
      "WD: Anita\n",
      "\n",
      "AI_1: Anita\n",
      "AI_2: Juan\n",
      "AI_3: Peter\n",
      "DB: Jane\n",
      "PP_1: Ciara\n",
      "PP_2: Jane\n",
      "SE: Bruce\n",
      "WD: Juan\n",
      "\n",
      "AI_1: Anita\n",
      "AI_2: Juan\n",
      "AI_3: Peter\n",
      "DB: Jane\n",
      "PP_1: Ciara\n",
      "PP_2: Jane\n",
      "SE: Mary\n",
      "WD: Mary\n",
      "\n",
      "AI_1: Anita\n",
      "AI_2: Juan\n",
      "AI_3: Peter\n",
      "DB: Jane\n",
      "PP_1: Ciara\n",
      "PP_2: Jane\n",
      "SE: Mary\n",
      "WD: Anita\n",
      "\n",
      "AI_1: Anita\n",
      "AI_2: Juan\n",
      "AI_3: Peter\n",
      "DB: Jane\n",
      "PP_1: Ciara\n",
      "PP_2: Jane\n",
      "SE: Mary\n",
      "WD: Juan\n",
      "\n",
      "AI_1: Anita\n",
      "AI_2: Juan\n",
      "AI_3: Peter\n",
      "DB: Jane\n",
      "PP_1: Ciara\n",
      "PP_2: Jane\n",
      "SE: Jim\n",
      "WD: Anita\n",
      "\n",
      "AI_1: Anita\n",
      "AI_2: Juan\n",
      "AI_3: Peter\n",
      "DB: Jane\n",
      "PP_1: Ciara\n",
      "PP_2: Jane\n",
      "SE: Jim\n",
      "WD: Juan\n",
      "\n",
      "AI_1: Anita\n",
      "AI_2: Juan\n",
      "AI_3: Peter\n",
      "DB: Jane\n",
      "PP_1: Ciara\n",
      "PP_2: Peter\n",
      "SE: Bruce\n",
      "WD: Anita\n",
      "\n",
      "AI_1: Anita\n",
      "AI_2: Juan\n",
      "AI_3: Peter\n",
      "DB: Jane\n",
      "PP_1: Ciara\n",
      "PP_2: Peter\n",
      "SE: Bruce\n",
      "WD: Juan\n",
      "\n",
      "AI_1: Anita\n",
      "AI_2: Juan\n",
      "AI_3: Peter\n",
      "DB: Jane\n",
      "PP_1: Ciara\n",
      "PP_2: Peter\n",
      "SE: Mary\n",
      "WD: Mary\n",
      "\n",
      "AI_1: Anita\n",
      "AI_2: Juan\n",
      "AI_3: Peter\n",
      "DB: Jane\n",
      "PP_1: Ciara\n",
      "PP_2: Peter\n",
      "SE: Mary\n",
      "WD: Anita\n",
      "\n",
      "AI_1: Anita\n",
      "AI_2: Juan\n",
      "AI_3: Peter\n",
      "DB: Jane\n",
      "PP_1: Ciara\n",
      "PP_2: Peter\n",
      "SE: Mary\n",
      "WD: Juan\n",
      "\n",
      "AI_1: Anita\n",
      "AI_2: Juan\n",
      "AI_3: Peter\n",
      "DB: Jane\n",
      "PP_1: Ciara\n",
      "PP_2: Peter\n",
      "SE: Jim\n",
      "WD: Anita\n",
      "\n",
      "AI_1: Anita\n",
      "AI_2: Juan\n",
      "AI_3: Peter\n",
      "DB: Jane\n",
      "PP_1: Ciara\n",
      "PP_2: Peter\n",
      "SE: Jim\n",
      "WD: Juan\n",
      "\n",
      "AI_1: Anita\n",
      "AI_2: Peter\n",
      "AI_3: Juan\n",
      "DB: Jane\n",
      "PP_1: Ciara\n",
      "PP_2: Bruce\n",
      "SE: Bruce\n",
      "WD: Anita\n",
      "\n",
      "AI_1: Anita\n",
      "AI_2: Peter\n",
      "AI_3: Juan\n",
      "DB: Jane\n",
      "PP_1: Ciara\n",
      "PP_2: Bruce\n",
      "SE: Bruce\n",
      "WD: Juan\n",
      "\n",
      "AI_1: Anita\n",
      "AI_2: Peter\n",
      "AI_3: Juan\n",
      "DB: Jane\n",
      "PP_1: Ciara\n",
      "PP_2: Jane\n",
      "SE: Bruce\n",
      "WD: Anita\n",
      "\n",
      "AI_1: Anita\n",
      "AI_2: Peter\n",
      "AI_3: Juan\n",
      "DB: Jane\n",
      "PP_1: Ciara\n",
      "PP_2: Jane\n",
      "SE: Bruce\n",
      "WD: Juan\n",
      "\n",
      "AI_1: Anita\n",
      "AI_2: Peter\n",
      "AI_3: Juan\n",
      "DB: Jane\n",
      "PP_1: Ciara\n",
      "PP_2: Jane\n",
      "SE: Mary\n",
      "WD: Mary\n",
      "\n",
      "AI_1: Anita\n",
      "AI_2: Peter\n",
      "AI_3: Juan\n",
      "DB: Jane\n",
      "PP_1: Ciara\n",
      "PP_2: Jane\n",
      "SE: Mary\n",
      "WD: Anita\n",
      "\n",
      "AI_1: Anita\n",
      "AI_2: Peter\n",
      "AI_3: Juan\n",
      "DB: Jane\n",
      "PP_1: Ciara\n",
      "PP_2: Jane\n",
      "SE: Mary\n",
      "WD: Juan\n",
      "\n",
      "AI_1: Anita\n",
      "AI_2: Peter\n",
      "AI_3: Juan\n",
      "DB: Jane\n",
      "PP_1: Ciara\n",
      "PP_2: Jane\n",
      "SE: Jim\n",
      "WD: Anita\n",
      "\n",
      "AI_1: Anita\n",
      "AI_2: Peter\n",
      "AI_3: Juan\n",
      "DB: Jane\n",
      "PP_1: Ciara\n",
      "PP_2: Jane\n",
      "SE: Jim\n",
      "WD: Juan\n",
      "\n",
      "AI_1: Anita\n",
      "AI_2: Peter\n",
      "AI_3: Juan\n",
      "DB: Jane\n",
      "PP_1: Ciara\n",
      "PP_2: Peter\n",
      "SE: Bruce\n",
      "WD: Anita\n",
      "\n",
      "AI_1: Anita\n",
      "AI_2: Peter\n",
      "AI_3: Juan\n",
      "DB: Jane\n",
      "PP_1: Ciara\n",
      "PP_2: Peter\n",
      "SE: Bruce\n",
      "WD: Juan\n",
      "\n",
      "AI_1: Anita\n",
      "AI_2: Peter\n",
      "AI_3: Juan\n",
      "DB: Jane\n",
      "PP_1: Ciara\n",
      "PP_2: Peter\n",
      "SE: Mary\n",
      "WD: Mary\n",
      "\n",
      "AI_1: Anita\n",
      "AI_2: Peter\n",
      "AI_3: Juan\n",
      "DB: Jane\n",
      "PP_1: Ciara\n",
      "PP_2: Peter\n",
      "SE: Mary\n",
      "WD: Anita\n",
      "\n",
      "AI_1: Anita\n",
      "AI_2: Peter\n",
      "AI_3: Juan\n",
      "DB: Jane\n",
      "PP_1: Ciara\n",
      "PP_2: Peter\n",
      "SE: Mary\n",
      "WD: Juan\n",
      "\n",
      "AI_1: Anita\n",
      "AI_2: Peter\n",
      "AI_3: Juan\n",
      "DB: Jane\n",
      "PP_1: Ciara\n",
      "PP_2: Peter\n",
      "SE: Jim\n",
      "WD: Anita\n",
      "\n",
      "AI_1: Anita\n",
      "AI_2: Peter\n",
      "AI_3: Juan\n",
      "DB: Jane\n",
      "PP_1: Ciara\n",
      "PP_2: Peter\n",
      "SE: Jim\n",
      "WD: Juan\n",
      "\n",
      "AI_1: Anita\n",
      "AI_2: Peter\n",
      "AI_3: Jim\n",
      "DB: Jane\n",
      "PP_1: Ciara\n",
      "PP_2: Jane\n",
      "SE: Jim\n",
      "WD: Juan\n",
      "\n",
      "AI_1: Anita\n",
      "AI_2: Peter\n",
      "AI_3: Jim\n",
      "DB: Jane\n",
      "PP_1: Ciara\n",
      "PP_2: Peter\n",
      "SE: Jim\n",
      "WD: Juan\n",
      "\n",
      "AI_1: Jim\n",
      "AI_2: Anita\n",
      "AI_3: Peter\n",
      "DB: Jane\n",
      "PP_1: Ciara\n",
      "PP_2: Jane\n",
      "SE: Jim\n",
      "WD: Juan\n",
      "\n",
      "AI_1: Jim\n",
      "AI_2: Anita\n",
      "AI_3: Peter\n",
      "DB: Jane\n",
      "PP_1: Ciara\n",
      "PP_2: Peter\n",
      "SE: Jim\n",
      "WD: Juan\n",
      "\n",
      "AI_1: Jim\n",
      "AI_2: Anita\n",
      "AI_3: Juan\n",
      "DB: Jane\n",
      "PP_1: Ciara\n",
      "PP_2: Bruce\n",
      "SE: Bruce\n",
      "WD: Anita\n",
      "\n",
      "AI_1: Jim\n",
      "AI_2: Anita\n",
      "AI_3: Juan\n",
      "DB: Jane\n",
      "PP_1: Ciara\n",
      "PP_2: Bruce\n",
      "SE: Bruce\n",
      "WD: Juan\n",
      "\n",
      "AI_1: Jim\n",
      "AI_2: Anita\n",
      "AI_3: Juan\n",
      "DB: Jane\n",
      "PP_1: Ciara\n",
      "PP_2: Bruce\n",
      "SE: Jim\n",
      "WD: Anita\n",
      "\n",
      "AI_1: Jim\n",
      "AI_2: Anita\n",
      "AI_3: Juan\n",
      "DB: Jane\n",
      "PP_1: Ciara\n",
      "PP_2: Bruce\n",
      "SE: Jim\n",
      "WD: Juan\n",
      "\n",
      "AI_1: Jim\n",
      "AI_2: Anita\n",
      "AI_3: Juan\n",
      "DB: Jane\n",
      "PP_1: Ciara\n",
      "PP_2: Jane\n",
      "SE: Bruce\n",
      "WD: Anita\n",
      "\n",
      "AI_1: Jim\n",
      "AI_2: Anita\n",
      "AI_3: Juan\n",
      "DB: Jane\n",
      "PP_1: Ciara\n",
      "PP_2: Jane\n",
      "SE: Bruce\n",
      "WD: Juan\n",
      "\n",
      "AI_1: Jim\n",
      "AI_2: Anita\n",
      "AI_3: Juan\n",
      "DB: Jane\n",
      "PP_1: Ciara\n",
      "PP_2: Jane\n",
      "SE: Mary\n",
      "WD: Mary\n",
      "\n",
      "AI_1: Jim\n",
      "AI_2: Anita\n",
      "AI_3: Juan\n",
      "DB: Jane\n",
      "PP_1: Ciara\n",
      "PP_2: Jane\n",
      "SE: Mary\n",
      "WD: Anita\n",
      "\n",
      "AI_1: Jim\n",
      "AI_2: Anita\n",
      "AI_3: Juan\n",
      "DB: Jane\n",
      "PP_1: Ciara\n",
      "PP_2: Jane\n",
      "SE: Mary\n",
      "WD: Juan\n",
      "\n",
      "AI_1: Jim\n",
      "AI_2: Anita\n",
      "AI_3: Juan\n",
      "DB: Jane\n",
      "PP_1: Ciara\n",
      "PP_2: Jane\n",
      "SE: Jim\n",
      "WD: Mary\n",
      "\n",
      "AI_1: Jim\n",
      "AI_2: Anita\n",
      "AI_3: Juan\n",
      "DB: Jane\n",
      "PP_1: Ciara\n",
      "PP_2: Jane\n",
      "SE: Jim\n",
      "WD: Anita\n",
      "\n",
      "AI_1: Jim\n",
      "AI_2: Anita\n",
      "AI_3: Juan\n",
      "DB: Jane\n",
      "PP_1: Ciara\n",
      "PP_2: Jane\n",
      "SE: Jim\n",
      "WD: Juan\n",
      "\n",
      "AI_1: Jim\n",
      "AI_2: Anita\n",
      "AI_3: Juan\n",
      "DB: Jane\n",
      "PP_1: Ciara\n",
      "PP_2: Peter\n",
      "SE: Jim\n",
      "WD: Anita\n",
      "\n",
      "AI_1: Jim\n",
      "AI_2: Anita\n",
      "AI_3: Juan\n",
      "DB: Jane\n",
      "PP_1: Ciara\n",
      "PP_2: Peter\n",
      "SE: Jim\n",
      "WD: Juan\n",
      "\n",
      "AI_1: Jim\n",
      "AI_2: Juan\n",
      "AI_3: Anita\n",
      "DB: Jane\n",
      "PP_1: Ciara\n",
      "PP_2: Bruce\n",
      "SE: Bruce\n",
      "WD: Anita\n",
      "\n",
      "AI_1: Jim\n",
      "AI_2: Juan\n",
      "AI_3: Anita\n",
      "DB: Jane\n",
      "PP_1: Ciara\n",
      "PP_2: Bruce\n",
      "SE: Bruce\n",
      "WD: Juan\n",
      "\n",
      "AI_1: Jim\n",
      "AI_2: Juan\n",
      "AI_3: Anita\n",
      "DB: Jane\n",
      "PP_1: Ciara\n",
      "PP_2: Bruce\n",
      "SE: Jim\n",
      "WD: Anita\n",
      "\n",
      "AI_1: Jim\n",
      "AI_2: Juan\n",
      "AI_3: Anita\n",
      "DB: Jane\n",
      "PP_1: Ciara\n",
      "PP_2: Bruce\n",
      "SE: Jim\n",
      "WD: Juan\n",
      "\n",
      "AI_1: Jim\n",
      "AI_2: Juan\n",
      "AI_3: Anita\n",
      "DB: Jane\n",
      "PP_1: Ciara\n",
      "PP_2: Jane\n",
      "SE: Bruce\n",
      "WD: Anita\n",
      "\n",
      "AI_1: Jim\n",
      "AI_2: Juan\n",
      "AI_3: Anita\n",
      "DB: Jane\n",
      "PP_1: Ciara\n",
      "PP_2: Jane\n",
      "SE: Bruce\n",
      "WD: Juan\n",
      "\n",
      "AI_1: Jim\n",
      "AI_2: Juan\n",
      "AI_3: Anita\n",
      "DB: Jane\n",
      "PP_1: Ciara\n",
      "PP_2: Jane\n",
      "SE: Mary\n",
      "WD: Mary\n",
      "\n",
      "AI_1: Jim\n",
      "AI_2: Juan\n",
      "AI_3: Anita\n",
      "DB: Jane\n",
      "PP_1: Ciara\n",
      "PP_2: Jane\n",
      "SE: Mary\n",
      "WD: Anita\n",
      "\n",
      "AI_1: Jim\n",
      "AI_2: Juan\n",
      "AI_3: Anita\n",
      "DB: Jane\n",
      "PP_1: Ciara\n",
      "PP_2: Jane\n",
      "SE: Mary\n",
      "WD: Juan\n",
      "\n",
      "AI_1: Jim\n",
      "AI_2: Juan\n",
      "AI_3: Anita\n",
      "DB: Jane\n",
      "PP_1: Ciara\n",
      "PP_2: Jane\n",
      "SE: Jim\n",
      "WD: Mary\n",
      "\n",
      "AI_1: Jim\n",
      "AI_2: Juan\n",
      "AI_3: Anita\n",
      "DB: Jane\n",
      "PP_1: Ciara\n",
      "PP_2: Jane\n",
      "SE: Jim\n",
      "WD: Anita\n",
      "\n",
      "AI_1: Jim\n",
      "AI_2: Juan\n",
      "AI_3: Anita\n",
      "DB: Jane\n",
      "PP_1: Ciara\n",
      "PP_2: Jane\n",
      "SE: Jim\n",
      "WD: Juan\n",
      "\n",
      "AI_1: Jim\n",
      "AI_2: Juan\n",
      "AI_3: Anita\n",
      "DB: Jane\n",
      "PP_1: Ciara\n",
      "PP_2: Peter\n",
      "SE: Jim\n",
      "WD: Anita\n",
      "\n",
      "AI_1: Jim\n",
      "AI_2: Juan\n",
      "AI_3: Anita\n",
      "DB: Jane\n",
      "PP_1: Ciara\n",
      "PP_2: Peter\n",
      "SE: Jim\n",
      "WD: Juan\n",
      "\n",
      "AI_1: Jim\n",
      "AI_2: Juan\n",
      "AI_3: Peter\n",
      "DB: Jane\n",
      "PP_1: Ciara\n",
      "PP_2: Bruce\n",
      "SE: Bruce\n",
      "WD: Juan\n",
      "\n",
      "AI_1: Jim\n",
      "AI_2: Juan\n",
      "AI_3: Peter\n",
      "DB: Jane\n",
      "PP_1: Ciara\n",
      "PP_2: Bruce\n",
      "SE: Jim\n",
      "WD: Juan\n",
      "\n",
      "AI_1: Jim\n",
      "AI_2: Juan\n",
      "AI_3: Peter\n",
      "DB: Jane\n",
      "PP_1: Ciara\n",
      "PP_2: Jane\n",
      "SE: Bruce\n",
      "WD: Juan\n",
      "\n",
      "AI_1: Jim\n",
      "AI_2: Juan\n",
      "AI_3: Peter\n",
      "DB: Jane\n",
      "PP_1: Ciara\n",
      "PP_2: Jane\n",
      "SE: Mary\n",
      "WD: Mary\n",
      "\n",
      "AI_1: Jim\n",
      "AI_2: Juan\n",
      "AI_3: Peter\n",
      "DB: Jane\n",
      "PP_1: Ciara\n",
      "PP_2: Jane\n",
      "SE: Mary\n",
      "WD: Juan\n",
      "\n",
      "AI_1: Jim\n",
      "AI_2: Juan\n",
      "AI_3: Peter\n",
      "DB: Jane\n",
      "PP_1: Ciara\n",
      "PP_2: Jane\n",
      "SE: Jim\n",
      "WD: Anita\n",
      "\n",
      "AI_1: Jim\n",
      "AI_2: Juan\n",
      "AI_3: Peter\n",
      "DB: Jane\n",
      "PP_1: Ciara\n",
      "PP_2: Jane\n",
      "SE: Jim\n",
      "WD: Mary\n",
      "\n",
      "AI_1: Jim\n",
      "AI_2: Juan\n",
      "AI_3: Peter\n",
      "DB: Jane\n",
      "PP_1: Ciara\n",
      "PP_2: Jane\n",
      "SE: Jim\n",
      "WD: Juan\n",
      "\n",
      "AI_1: Jim\n",
      "AI_2: Juan\n",
      "AI_3: Peter\n",
      "DB: Jane\n",
      "PP_1: Ciara\n",
      "PP_2: Peter\n",
      "SE: Bruce\n",
      "WD: Juan\n",
      "\n",
      "AI_1: Jim\n",
      "AI_2: Juan\n",
      "AI_3: Peter\n",
      "DB: Jane\n",
      "PP_1: Ciara\n",
      "PP_2: Peter\n",
      "SE: Mary\n",
      "WD: Mary\n",
      "\n",
      "AI_1: Jim\n",
      "AI_2: Juan\n",
      "AI_3: Peter\n",
      "DB: Jane\n",
      "PP_1: Ciara\n",
      "PP_2: Peter\n",
      "SE: Mary\n",
      "WD: Juan\n",
      "\n",
      "AI_1: Jim\n",
      "AI_2: Juan\n",
      "AI_3: Peter\n",
      "DB: Jane\n",
      "PP_1: Ciara\n",
      "PP_2: Peter\n",
      "SE: Jim\n",
      "WD: Anita\n",
      "\n",
      "AI_1: Jim\n",
      "AI_2: Juan\n",
      "AI_3: Peter\n",
      "DB: Jane\n",
      "PP_1: Ciara\n",
      "PP_2: Peter\n",
      "SE: Jim\n",
      "WD: Mary\n",
      "\n",
      "AI_1: Jim\n",
      "AI_2: Juan\n",
      "AI_3: Peter\n",
      "DB: Jane\n",
      "PP_1: Ciara\n",
      "PP_2: Peter\n",
      "SE: Jim\n",
      "WD: Juan\n",
      "\n",
      "AI_1: Jim\n",
      "AI_2: Peter\n",
      "AI_3: Juan\n",
      "DB: Jane\n",
      "PP_1: Ciara\n",
      "PP_2: Bruce\n",
      "SE: Bruce\n",
      "WD: Juan\n",
      "\n",
      "AI_1: Jim\n",
      "AI_2: Peter\n",
      "AI_3: Juan\n",
      "DB: Jane\n",
      "PP_1: Ciara\n",
      "PP_2: Bruce\n",
      "SE: Jim\n",
      "WD: Juan\n",
      "\n",
      "AI_1: Jim\n",
      "AI_2: Peter\n",
      "AI_3: Juan\n",
      "DB: Jane\n",
      "PP_1: Ciara\n",
      "PP_2: Jane\n",
      "SE: Bruce\n",
      "WD: Juan\n",
      "\n",
      "AI_1: Jim\n",
      "AI_2: Peter\n",
      "AI_3: Juan\n",
      "DB: Jane\n",
      "PP_1: Ciara\n",
      "PP_2: Jane\n",
      "SE: Mary\n",
      "WD: Mary\n",
      "\n",
      "AI_1: Jim\n",
      "AI_2: Peter\n",
      "AI_3: Juan\n",
      "DB: Jane\n",
      "PP_1: Ciara\n",
      "PP_2: Jane\n",
      "SE: Mary\n",
      "WD: Juan\n",
      "\n",
      "AI_1: Jim\n",
      "AI_2: Peter\n",
      "AI_3: Juan\n",
      "DB: Jane\n",
      "PP_1: Ciara\n",
      "PP_2: Jane\n",
      "SE: Jim\n",
      "WD: Anita\n",
      "\n",
      "AI_1: Jim\n",
      "AI_2: Peter\n",
      "AI_3: Juan\n",
      "DB: Jane\n",
      "PP_1: Ciara\n",
      "PP_2: Jane\n",
      "SE: Jim\n",
      "WD: Mary\n",
      "\n",
      "AI_1: Jim\n",
      "AI_2: Peter\n",
      "AI_3: Juan\n",
      "DB: Jane\n",
      "PP_1: Ciara\n",
      "PP_2: Jane\n",
      "SE: Jim\n",
      "WD: Juan\n",
      "\n",
      "AI_1: Jim\n",
      "AI_2: Peter\n",
      "AI_3: Juan\n",
      "DB: Jane\n",
      "PP_1: Ciara\n",
      "PP_2: Peter\n",
      "SE: Bruce\n",
      "WD: Juan\n",
      "\n",
      "AI_1: Jim\n",
      "AI_2: Peter\n",
      "AI_3: Juan\n",
      "DB: Jane\n",
      "PP_1: Ciara\n",
      "PP_2: Peter\n",
      "SE: Mary\n",
      "WD: Mary\n",
      "\n",
      "AI_1: Jim\n",
      "AI_2: Peter\n",
      "AI_3: Juan\n",
      "DB: Jane\n",
      "PP_1: Ciara\n",
      "PP_2: Peter\n",
      "SE: Mary\n",
      "WD: Juan\n",
      "\n",
      "AI_1: Jim\n",
      "AI_2: Peter\n",
      "AI_3: Juan\n",
      "DB: Jane\n",
      "PP_1: Ciara\n",
      "PP_2: Peter\n",
      "SE: Jim\n",
      "WD: Anita\n",
      "\n",
      "AI_1: Jim\n",
      "AI_2: Peter\n",
      "AI_3: Juan\n",
      "DB: Jane\n",
      "PP_1: Ciara\n",
      "PP_2: Peter\n",
      "SE: Jim\n",
      "WD: Mary\n",
      "\n",
      "AI_1: Jim\n",
      "AI_2: Peter\n",
      "AI_3: Juan\n",
      "DB: Jane\n",
      "PP_1: Ciara\n",
      "PP_2: Peter\n",
      "SE: Jim\n",
      "WD: Juan\n",
      "\n",
      "AI_1: Jim\n",
      "AI_2: Peter\n",
      "AI_3: Anita\n",
      "DB: Jane\n",
      "PP_1: Ciara\n",
      "PP_2: Jane\n",
      "SE: Jim\n",
      "WD: Juan\n",
      "\n",
      "AI_1: Jim\n",
      "AI_2: Peter\n",
      "AI_3: Anita\n",
      "DB: Jane\n",
      "PP_1: Ciara\n",
      "PP_2: Peter\n",
      "SE: Jim\n",
      "WD: Juan\n",
      "\n",
      "AI_1: Juan\n",
      "AI_2: Anita\n",
      "AI_3: Jim\n",
      "DB: Jane\n",
      "PP_1: Ciara\n",
      "PP_2: Bruce\n",
      "SE: Bruce\n",
      "WD: Anita\n",
      "\n",
      "AI_1: Juan\n",
      "AI_2: Anita\n",
      "AI_3: Jim\n",
      "DB: Jane\n",
      "PP_1: Ciara\n",
      "PP_2: Bruce\n",
      "SE: Bruce\n",
      "WD: Juan\n",
      "\n",
      "AI_1: Juan\n",
      "AI_2: Anita\n",
      "AI_3: Jim\n",
      "DB: Jane\n",
      "PP_1: Ciara\n",
      "PP_2: Bruce\n",
      "SE: Jim\n",
      "WD: Anita\n",
      "\n",
      "AI_1: Juan\n",
      "AI_2: Anita\n",
      "AI_3: Jim\n",
      "DB: Jane\n",
      "PP_1: Ciara\n",
      "PP_2: Bruce\n",
      "SE: Jim\n",
      "WD: Juan\n",
      "\n",
      "AI_1: Juan\n",
      "AI_2: Anita\n",
      "AI_3: Jim\n",
      "DB: Jane\n",
      "PP_1: Ciara\n",
      "PP_2: Jane\n",
      "SE: Bruce\n",
      "WD: Anita\n",
      "\n",
      "AI_1: Juan\n",
      "AI_2: Anita\n",
      "AI_3: Jim\n",
      "DB: Jane\n",
      "PP_1: Ciara\n",
      "PP_2: Jane\n",
      "SE: Bruce\n",
      "WD: Juan\n",
      "\n",
      "AI_1: Juan\n",
      "AI_2: Anita\n",
      "AI_3: Jim\n",
      "DB: Jane\n",
      "PP_1: Ciara\n",
      "PP_2: Jane\n",
      "SE: Mary\n",
      "WD: Mary\n",
      "\n",
      "AI_1: Juan\n",
      "AI_2: Anita\n",
      "AI_3: Jim\n",
      "DB: Jane\n",
      "PP_1: Ciara\n",
      "PP_2: Jane\n",
      "SE: Mary\n",
      "WD: Anita\n",
      "\n",
      "AI_1: Juan\n",
      "AI_2: Anita\n",
      "AI_3: Jim\n",
      "DB: Jane\n",
      "PP_1: Ciara\n",
      "PP_2: Jane\n",
      "SE: Mary\n",
      "WD: Juan\n",
      "\n",
      "AI_1: Juan\n",
      "AI_2: Anita\n",
      "AI_3: Jim\n",
      "DB: Jane\n",
      "PP_1: Ciara\n",
      "PP_2: Jane\n",
      "SE: Jim\n",
      "WD: Mary\n",
      "\n",
      "AI_1: Juan\n",
      "AI_2: Anita\n",
      "AI_3: Jim\n",
      "DB: Jane\n",
      "PP_1: Ciara\n",
      "PP_2: Jane\n",
      "SE: Jim\n",
      "WD: Anita\n",
      "\n",
      "AI_1: Juan\n",
      "AI_2: Anita\n",
      "AI_3: Jim\n",
      "DB: Jane\n",
      "PP_1: Ciara\n",
      "PP_2: Jane\n",
      "SE: Jim\n",
      "WD: Juan\n",
      "\n",
      "AI_1: Juan\n",
      "AI_2: Anita\n",
      "AI_3: Jim\n",
      "DB: Jane\n",
      "PP_1: Ciara\n",
      "PP_2: Peter\n",
      "SE: Jim\n",
      "WD: Anita\n",
      "\n",
      "AI_1: Juan\n",
      "AI_2: Anita\n",
      "AI_3: Jim\n",
      "DB: Jane\n",
      "PP_1: Ciara\n",
      "PP_2: Peter\n",
      "SE: Jim\n",
      "WD: Juan\n",
      "\n",
      "AI_1: Juan\n",
      "AI_2: Anita\n",
      "AI_3: Peter\n",
      "DB: Jane\n",
      "PP_1: Ciara\n",
      "PP_2: Bruce\n",
      "SE: Bruce\n",
      "WD: Anita\n",
      "\n",
      "AI_1: Juan\n",
      "AI_2: Anita\n",
      "AI_3: Peter\n",
      "DB: Jane\n",
      "PP_1: Ciara\n",
      "PP_2: Bruce\n",
      "SE: Bruce\n",
      "WD: Juan\n",
      "\n",
      "AI_1: Juan\n",
      "AI_2: Anita\n",
      "AI_3: Peter\n",
      "DB: Jane\n",
      "PP_1: Ciara\n",
      "PP_2: Jane\n",
      "SE: Bruce\n",
      "WD: Anita\n",
      "\n",
      "AI_1: Juan\n",
      "AI_2: Anita\n",
      "AI_3: Peter\n",
      "DB: Jane\n",
      "PP_1: Ciara\n",
      "PP_2: Jane\n",
      "SE: Bruce\n",
      "WD: Juan\n",
      "\n",
      "AI_1: Juan\n",
      "AI_2: Anita\n",
      "AI_3: Peter\n",
      "DB: Jane\n",
      "PP_1: Ciara\n",
      "PP_2: Jane\n",
      "SE: Mary\n",
      "WD: Mary\n",
      "\n",
      "AI_1: Juan\n",
      "AI_2: Anita\n",
      "AI_3: Peter\n",
      "DB: Jane\n",
      "PP_1: Ciara\n",
      "PP_2: Jane\n",
      "SE: Mary\n",
      "WD: Anita\n",
      "\n",
      "AI_1: Juan\n",
      "AI_2: Anita\n",
      "AI_3: Peter\n",
      "DB: Jane\n",
      "PP_1: Ciara\n",
      "PP_2: Jane\n",
      "SE: Mary\n",
      "WD: Juan\n",
      "\n",
      "AI_1: Juan\n",
      "AI_2: Anita\n",
      "AI_3: Peter\n",
      "DB: Jane\n",
      "PP_1: Ciara\n",
      "PP_2: Jane\n",
      "SE: Jim\n",
      "WD: Anita\n",
      "\n",
      "AI_1: Juan\n",
      "AI_2: Anita\n",
      "AI_3: Peter\n",
      "DB: Jane\n",
      "PP_1: Ciara\n",
      "PP_2: Jane\n",
      "SE: Jim\n",
      "WD: Juan\n",
      "\n",
      "AI_1: Juan\n",
      "AI_2: Anita\n",
      "AI_3: Peter\n",
      "DB: Jane\n",
      "PP_1: Ciara\n",
      "PP_2: Peter\n",
      "SE: Bruce\n",
      "WD: Anita\n",
      "\n",
      "AI_1: Juan\n",
      "AI_2: Anita\n",
      "AI_3: Peter\n",
      "DB: Jane\n",
      "PP_1: Ciara\n",
      "PP_2: Peter\n",
      "SE: Bruce\n",
      "WD: Juan\n",
      "\n",
      "AI_1: Juan\n",
      "AI_2: Anita\n",
      "AI_3: Peter\n",
      "DB: Jane\n",
      "PP_1: Ciara\n",
      "PP_2: Peter\n",
      "SE: Mary\n",
      "WD: Mary\n",
      "\n",
      "AI_1: Juan\n",
      "AI_2: Anita\n",
      "AI_3: Peter\n",
      "DB: Jane\n",
      "PP_1: Ciara\n",
      "PP_2: Peter\n",
      "SE: Mary\n",
      "WD: Anita\n",
      "\n",
      "AI_1: Juan\n",
      "AI_2: Anita\n",
      "AI_3: Peter\n",
      "DB: Jane\n",
      "PP_1: Ciara\n",
      "PP_2: Peter\n",
      "SE: Mary\n",
      "WD: Juan\n",
      "\n",
      "AI_1: Juan\n",
      "AI_2: Anita\n",
      "AI_3: Peter\n",
      "DB: Jane\n",
      "PP_1: Ciara\n",
      "PP_2: Peter\n",
      "SE: Jim\n",
      "WD: Anita\n",
      "\n",
      "AI_1: Juan\n",
      "AI_2: Anita\n",
      "AI_3: Peter\n",
      "DB: Jane\n",
      "PP_1: Ciara\n",
      "PP_2: Peter\n",
      "SE: Jim\n",
      "WD: Juan\n",
      "\n",
      "AI_1: Juan\n",
      "AI_2: Jim\n",
      "AI_3: Anita\n",
      "DB: Jane\n",
      "PP_1: Ciara\n",
      "PP_2: Bruce\n",
      "SE: Bruce\n",
      "WD: Anita\n",
      "\n",
      "AI_1: Juan\n",
      "AI_2: Jim\n",
      "AI_3: Anita\n",
      "DB: Jane\n",
      "PP_1: Ciara\n",
      "PP_2: Bruce\n",
      "SE: Bruce\n",
      "WD: Juan\n",
      "\n",
      "AI_1: Juan\n",
      "AI_2: Jim\n",
      "AI_3: Anita\n",
      "DB: Jane\n",
      "PP_1: Ciara\n",
      "PP_2: Bruce\n",
      "SE: Jim\n",
      "WD: Anita\n",
      "\n",
      "AI_1: Juan\n",
      "AI_2: Jim\n",
      "AI_3: Anita\n",
      "DB: Jane\n",
      "PP_1: Ciara\n",
      "PP_2: Bruce\n",
      "SE: Jim\n",
      "WD: Juan\n",
      "\n",
      "AI_1: Juan\n",
      "AI_2: Jim\n",
      "AI_3: Anita\n",
      "DB: Jane\n",
      "PP_1: Ciara\n",
      "PP_2: Jane\n",
      "SE: Bruce\n",
      "WD: Anita\n",
      "\n",
      "AI_1: Juan\n",
      "AI_2: Jim\n",
      "AI_3: Anita\n",
      "DB: Jane\n",
      "PP_1: Ciara\n",
      "PP_2: Jane\n",
      "SE: Bruce\n",
      "WD: Juan\n",
      "\n",
      "AI_1: Juan\n",
      "AI_2: Jim\n",
      "AI_3: Anita\n",
      "DB: Jane\n",
      "PP_1: Ciara\n",
      "PP_2: Jane\n",
      "SE: Mary\n",
      "WD: Mary\n",
      "\n",
      "AI_1: Juan\n",
      "AI_2: Jim\n",
      "AI_3: Anita\n",
      "DB: Jane\n",
      "PP_1: Ciara\n",
      "PP_2: Jane\n",
      "SE: Mary\n",
      "WD: Anita\n",
      "\n",
      "AI_1: Juan\n",
      "AI_2: Jim\n",
      "AI_3: Anita\n",
      "DB: Jane\n",
      "PP_1: Ciara\n",
      "PP_2: Jane\n",
      "SE: Mary\n",
      "WD: Juan\n",
      "\n",
      "AI_1: Juan\n",
      "AI_2: Jim\n",
      "AI_3: Anita\n",
      "DB: Jane\n",
      "PP_1: Ciara\n",
      "PP_2: Jane\n",
      "SE: Jim\n",
      "WD: Mary\n",
      "\n",
      "AI_1: Juan\n",
      "AI_2: Jim\n",
      "AI_3: Anita\n",
      "DB: Jane\n",
      "PP_1: Ciara\n",
      "PP_2: Jane\n",
      "SE: Jim\n",
      "WD: Anita\n",
      "\n",
      "AI_1: Juan\n",
      "AI_2: Jim\n",
      "AI_3: Anita\n",
      "DB: Jane\n",
      "PP_1: Ciara\n",
      "PP_2: Jane\n",
      "SE: Jim\n",
      "WD: Juan\n",
      "\n",
      "AI_1: Juan\n",
      "AI_2: Jim\n",
      "AI_3: Anita\n",
      "DB: Jane\n",
      "PP_1: Ciara\n",
      "PP_2: Peter\n",
      "SE: Jim\n",
      "WD: Anita\n",
      "\n",
      "AI_1: Juan\n",
      "AI_2: Jim\n",
      "AI_3: Anita\n",
      "DB: Jane\n",
      "PP_1: Ciara\n",
      "PP_2: Peter\n",
      "SE: Jim\n",
      "WD: Juan\n",
      "\n",
      "AI_1: Juan\n",
      "AI_2: Jim\n",
      "AI_3: Peter\n",
      "DB: Jane\n",
      "PP_1: Ciara\n",
      "PP_2: Bruce\n",
      "SE: Bruce\n",
      "WD: Juan\n",
      "\n",
      "AI_1: Juan\n",
      "AI_2: Jim\n",
      "AI_3: Peter\n",
      "DB: Jane\n",
      "PP_1: Ciara\n",
      "PP_2: Bruce\n",
      "SE: Jim\n",
      "WD: Juan\n",
      "\n",
      "AI_1: Juan\n",
      "AI_2: Jim\n",
      "AI_3: Peter\n",
      "DB: Jane\n",
      "PP_1: Ciara\n",
      "PP_2: Jane\n",
      "SE: Bruce\n",
      "WD: Juan\n",
      "\n",
      "AI_1: Juan\n",
      "AI_2: Jim\n",
      "AI_3: Peter\n",
      "DB: Jane\n",
      "PP_1: Ciara\n",
      "PP_2: Jane\n",
      "SE: Mary\n",
      "WD: Mary\n",
      "\n",
      "AI_1: Juan\n",
      "AI_2: Jim\n",
      "AI_3: Peter\n",
      "DB: Jane\n",
      "PP_1: Ciara\n",
      "PP_2: Jane\n",
      "SE: Mary\n",
      "WD: Juan\n",
      "\n",
      "AI_1: Juan\n",
      "AI_2: Jim\n",
      "AI_3: Peter\n",
      "DB: Jane\n",
      "PP_1: Ciara\n",
      "PP_2: Jane\n",
      "SE: Jim\n",
      "WD: Anita\n",
      "\n",
      "AI_1: Juan\n",
      "AI_2: Jim\n",
      "AI_3: Peter\n",
      "DB: Jane\n",
      "PP_1: Ciara\n",
      "PP_2: Jane\n",
      "SE: Jim\n",
      "WD: Mary\n",
      "\n",
      "AI_1: Juan\n",
      "AI_2: Jim\n",
      "AI_3: Peter\n",
      "DB: Jane\n",
      "PP_1: Ciara\n",
      "PP_2: Jane\n",
      "SE: Jim\n",
      "WD: Juan\n",
      "\n",
      "AI_1: Juan\n",
      "AI_2: Jim\n",
      "AI_3: Peter\n",
      "DB: Jane\n",
      "PP_1: Ciara\n",
      "PP_2: Peter\n",
      "SE: Bruce\n",
      "WD: Juan\n",
      "\n",
      "AI_1: Juan\n",
      "AI_2: Jim\n",
      "AI_3: Peter\n",
      "DB: Jane\n",
      "PP_1: Ciara\n",
      "PP_2: Peter\n",
      "SE: Mary\n",
      "WD: Mary\n",
      "\n",
      "AI_1: Juan\n",
      "AI_2: Jim\n",
      "AI_3: Peter\n",
      "DB: Jane\n",
      "PP_1: Ciara\n",
      "PP_2: Peter\n",
      "SE: Mary\n",
      "WD: Juan\n",
      "\n",
      "AI_1: Juan\n",
      "AI_2: Jim\n",
      "AI_3: Peter\n",
      "DB: Jane\n",
      "PP_1: Ciara\n",
      "PP_2: Peter\n",
      "SE: Jim\n",
      "WD: Anita\n",
      "\n",
      "AI_1: Juan\n",
      "AI_2: Jim\n",
      "AI_3: Peter\n",
      "DB: Jane\n",
      "PP_1: Ciara\n",
      "PP_2: Peter\n",
      "SE: Jim\n",
      "WD: Mary\n",
      "\n",
      "AI_1: Juan\n",
      "AI_2: Jim\n",
      "AI_3: Peter\n",
      "DB: Jane\n",
      "PP_1: Ciara\n",
      "PP_2: Peter\n",
      "SE: Jim\n",
      "WD: Juan\n",
      "\n",
      "AI_1: Juan\n",
      "AI_2: Peter\n",
      "AI_3: Jim\n",
      "DB: Jane\n",
      "PP_1: Ciara\n",
      "PP_2: Bruce\n",
      "SE: Bruce\n",
      "WD: Juan\n",
      "\n",
      "AI_1: Juan\n",
      "AI_2: Peter\n",
      "AI_3: Jim\n",
      "DB: Jane\n",
      "PP_1: Ciara\n",
      "PP_2: Bruce\n",
      "SE: Jim\n",
      "WD: Juan\n",
      "\n",
      "AI_1: Juan\n",
      "AI_2: Peter\n",
      "AI_3: Jim\n",
      "DB: Jane\n",
      "PP_1: Ciara\n",
      "PP_2: Jane\n",
      "SE: Bruce\n",
      "WD: Juan\n",
      "\n",
      "AI_1: Juan\n",
      "AI_2: Peter\n",
      "AI_3: Jim\n",
      "DB: Jane\n",
      "PP_1: Ciara\n",
      "PP_2: Jane\n",
      "SE: Mary\n",
      "WD: Mary\n",
      "\n",
      "AI_1: Juan\n",
      "AI_2: Peter\n",
      "AI_3: Jim\n",
      "DB: Jane\n",
      "PP_1: Ciara\n",
      "PP_2: Jane\n",
      "SE: Mary\n",
      "WD: Juan\n",
      "\n",
      "AI_1: Juan\n",
      "AI_2: Peter\n",
      "AI_3: Jim\n",
      "DB: Jane\n",
      "PP_1: Ciara\n",
      "PP_2: Jane\n",
      "SE: Jim\n",
      "WD: Anita\n",
      "\n",
      "AI_1: Juan\n",
      "AI_2: Peter\n",
      "AI_3: Jim\n",
      "DB: Jane\n",
      "PP_1: Ciara\n",
      "PP_2: Jane\n",
      "SE: Jim\n",
      "WD: Mary\n",
      "\n",
      "AI_1: Juan\n",
      "AI_2: Peter\n",
      "AI_3: Jim\n",
      "DB: Jane\n",
      "PP_1: Ciara\n",
      "PP_2: Jane\n",
      "SE: Jim\n",
      "WD: Juan\n",
      "\n",
      "AI_1: Juan\n",
      "AI_2: Peter\n",
      "AI_3: Jim\n",
      "DB: Jane\n",
      "PP_1: Ciara\n",
      "PP_2: Peter\n",
      "SE: Bruce\n",
      "WD: Juan\n",
      "\n",
      "AI_1: Juan\n",
      "AI_2: Peter\n",
      "AI_3: Jim\n",
      "DB: Jane\n",
      "PP_1: Ciara\n",
      "PP_2: Peter\n",
      "SE: Mary\n",
      "WD: Mary\n",
      "\n",
      "AI_1: Juan\n",
      "AI_2: Peter\n",
      "AI_3: Jim\n",
      "DB: Jane\n",
      "PP_1: Ciara\n",
      "PP_2: Peter\n",
      "SE: Mary\n",
      "WD: Juan\n",
      "\n",
      "AI_1: Juan\n",
      "AI_2: Peter\n",
      "AI_3: Jim\n",
      "DB: Jane\n",
      "PP_1: Ciara\n",
      "PP_2: Peter\n",
      "SE: Jim\n",
      "WD: Anita\n",
      "\n",
      "AI_1: Juan\n",
      "AI_2: Peter\n",
      "AI_3: Jim\n",
      "DB: Jane\n",
      "PP_1: Ciara\n",
      "PP_2: Peter\n",
      "SE: Jim\n",
      "WD: Mary\n",
      "\n",
      "AI_1: Juan\n",
      "AI_2: Peter\n",
      "AI_3: Jim\n",
      "DB: Jane\n",
      "PP_1: Ciara\n",
      "PP_2: Peter\n",
      "SE: Jim\n",
      "WD: Juan\n",
      "\n",
      "AI_1: Juan\n",
      "AI_2: Peter\n",
      "AI_3: Anita\n",
      "DB: Jane\n",
      "PP_1: Ciara\n",
      "PP_2: Bruce\n",
      "SE: Bruce\n",
      "WD: Anita\n",
      "\n",
      "AI_1: Juan\n",
      "AI_2: Peter\n",
      "AI_3: Anita\n",
      "DB: Jane\n",
      "PP_1: Ciara\n",
      "PP_2: Bruce\n",
      "SE: Bruce\n",
      "WD: Juan\n",
      "\n",
      "AI_1: Juan\n",
      "AI_2: Peter\n",
      "AI_3: Anita\n",
      "DB: Jane\n",
      "PP_1: Ciara\n",
      "PP_2: Jane\n",
      "SE: Bruce\n",
      "WD: Anita\n",
      "\n",
      "AI_1: Juan\n",
      "AI_2: Peter\n",
      "AI_3: Anita\n",
      "DB: Jane\n",
      "PP_1: Ciara\n",
      "PP_2: Jane\n",
      "SE: Bruce\n",
      "WD: Juan\n",
      "\n",
      "AI_1: Juan\n",
      "AI_2: Peter\n",
      "AI_3: Anita\n",
      "DB: Jane\n",
      "PP_1: Ciara\n",
      "PP_2: Jane\n",
      "SE: Mary\n",
      "WD: Mary\n",
      "\n",
      "AI_1: Juan\n",
      "AI_2: Peter\n",
      "AI_3: Anita\n",
      "DB: Jane\n",
      "PP_1: Ciara\n",
      "PP_2: Jane\n",
      "SE: Mary\n",
      "WD: Anita\n",
      "\n",
      "AI_1: Juan\n",
      "AI_2: Peter\n",
      "AI_3: Anita\n",
      "DB: Jane\n",
      "PP_1: Ciara\n",
      "PP_2: Jane\n",
      "SE: Mary\n",
      "WD: Juan\n",
      "\n",
      "AI_1: Juan\n",
      "AI_2: Peter\n",
      "AI_3: Anita\n",
      "DB: Jane\n",
      "PP_1: Ciara\n",
      "PP_2: Jane\n",
      "SE: Jim\n",
      "WD: Anita\n",
      "\n",
      "AI_1: Juan\n",
      "AI_2: Peter\n",
      "AI_3: Anita\n",
      "DB: Jane\n",
      "PP_1: Ciara\n",
      "PP_2: Jane\n",
      "SE: Jim\n",
      "WD: Juan\n",
      "\n",
      "AI_1: Juan\n",
      "AI_2: Peter\n",
      "AI_3: Anita\n",
      "DB: Jane\n",
      "PP_1: Ciara\n",
      "PP_2: Peter\n",
      "SE: Bruce\n",
      "WD: Anita\n",
      "\n",
      "AI_1: Juan\n",
      "AI_2: Peter\n",
      "AI_3: Anita\n",
      "DB: Jane\n",
      "PP_1: Ciara\n",
      "PP_2: Peter\n",
      "SE: Bruce\n",
      "WD: Juan\n",
      "\n",
      "AI_1: Juan\n",
      "AI_2: Peter\n",
      "AI_3: Anita\n",
      "DB: Jane\n",
      "PP_1: Ciara\n",
      "PP_2: Peter\n",
      "SE: Mary\n",
      "WD: Mary\n",
      "\n",
      "AI_1: Juan\n",
      "AI_2: Peter\n",
      "AI_3: Anita\n",
      "DB: Jane\n",
      "PP_1: Ciara\n",
      "PP_2: Peter\n",
      "SE: Mary\n",
      "WD: Anita\n",
      "\n",
      "AI_1: Juan\n",
      "AI_2: Peter\n",
      "AI_3: Anita\n",
      "DB: Jane\n",
      "PP_1: Ciara\n",
      "PP_2: Peter\n",
      "SE: Mary\n",
      "WD: Juan\n",
      "\n",
      "AI_1: Juan\n",
      "AI_2: Peter\n",
      "AI_3: Anita\n",
      "DB: Jane\n",
      "PP_1: Ciara\n",
      "PP_2: Peter\n",
      "SE: Jim\n",
      "WD: Anita\n",
      "\n",
      "AI_1: Juan\n",
      "AI_2: Peter\n",
      "AI_3: Anita\n",
      "DB: Jane\n",
      "PP_1: Ciara\n",
      "PP_2: Peter\n",
      "SE: Jim\n",
      "WD: Juan\n",
      "\n",
      "AI_1: Peter\n",
      "AI_2: Anita\n",
      "AI_3: Juan\n",
      "DB: Jane\n",
      "PP_1: Ciara\n",
      "PP_2: Bruce\n",
      "SE: Bruce\n",
      "WD: Anita\n",
      "\n",
      "AI_1: Peter\n",
      "AI_2: Anita\n",
      "AI_3: Juan\n",
      "DB: Jane\n",
      "PP_1: Ciara\n",
      "PP_2: Bruce\n",
      "SE: Bruce\n",
      "WD: Juan\n",
      "\n",
      "AI_1: Peter\n",
      "AI_2: Anita\n",
      "AI_3: Juan\n",
      "DB: Jane\n",
      "PP_1: Ciara\n",
      "PP_2: Jane\n",
      "SE: Bruce\n",
      "WD: Anita\n",
      "\n",
      "AI_1: Peter\n",
      "AI_2: Anita\n",
      "AI_3: Juan\n",
      "DB: Jane\n",
      "PP_1: Ciara\n",
      "PP_2: Jane\n",
      "SE: Bruce\n",
      "WD: Juan\n",
      "\n",
      "AI_1: Peter\n",
      "AI_2: Anita\n",
      "AI_3: Juan\n",
      "DB: Jane\n",
      "PP_1: Ciara\n",
      "PP_2: Jane\n",
      "SE: Mary\n",
      "WD: Mary\n",
      "\n",
      "AI_1: Peter\n",
      "AI_2: Anita\n",
      "AI_3: Juan\n",
      "DB: Jane\n",
      "PP_1: Ciara\n",
      "PP_2: Jane\n",
      "SE: Mary\n",
      "WD: Anita\n",
      "\n",
      "AI_1: Peter\n",
      "AI_2: Anita\n",
      "AI_3: Juan\n",
      "DB: Jane\n",
      "PP_1: Ciara\n",
      "PP_2: Jane\n",
      "SE: Mary\n",
      "WD: Juan\n",
      "\n",
      "AI_1: Peter\n",
      "AI_2: Anita\n",
      "AI_3: Juan\n",
      "DB: Jane\n",
      "PP_1: Ciara\n",
      "PP_2: Jane\n",
      "SE: Jim\n",
      "WD: Anita\n",
      "\n",
      "AI_1: Peter\n",
      "AI_2: Anita\n",
      "AI_3: Juan\n",
      "DB: Jane\n",
      "PP_1: Ciara\n",
      "PP_2: Jane\n",
      "SE: Jim\n",
      "WD: Juan\n",
      "\n",
      "AI_1: Peter\n",
      "AI_2: Anita\n",
      "AI_3: Juan\n",
      "DB: Jane\n",
      "PP_1: Ciara\n",
      "PP_2: Peter\n",
      "SE: Bruce\n",
      "WD: Anita\n",
      "\n",
      "AI_1: Peter\n",
      "AI_2: Anita\n",
      "AI_3: Juan\n",
      "DB: Jane\n",
      "PP_1: Ciara\n",
      "PP_2: Peter\n",
      "SE: Bruce\n",
      "WD: Juan\n",
      "\n",
      "AI_1: Peter\n",
      "AI_2: Anita\n",
      "AI_3: Juan\n",
      "DB: Jane\n",
      "PP_1: Ciara\n",
      "PP_2: Peter\n",
      "SE: Mary\n",
      "WD: Mary\n",
      "\n",
      "AI_1: Peter\n",
      "AI_2: Anita\n",
      "AI_3: Juan\n",
      "DB: Jane\n",
      "PP_1: Ciara\n",
      "PP_2: Peter\n",
      "SE: Mary\n",
      "WD: Anita\n",
      "\n",
      "AI_1: Peter\n",
      "AI_2: Anita\n",
      "AI_3: Juan\n",
      "DB: Jane\n",
      "PP_1: Ciara\n",
      "PP_2: Peter\n",
      "SE: Mary\n",
      "WD: Juan\n",
      "\n",
      "AI_1: Peter\n",
      "AI_2: Anita\n",
      "AI_3: Juan\n",
      "DB: Jane\n",
      "PP_1: Ciara\n",
      "PP_2: Peter\n",
      "SE: Jim\n",
      "WD: Anita\n",
      "\n",
      "AI_1: Peter\n",
      "AI_2: Anita\n",
      "AI_3: Juan\n",
      "DB: Jane\n",
      "PP_1: Ciara\n",
      "PP_2: Peter\n",
      "SE: Jim\n",
      "WD: Juan\n",
      "\n",
      "AI_1: Peter\n",
      "AI_2: Anita\n",
      "AI_3: Jim\n",
      "DB: Jane\n",
      "PP_1: Ciara\n",
      "PP_2: Jane\n",
      "SE: Jim\n",
      "WD: Juan\n",
      "\n",
      "AI_1: Peter\n",
      "AI_2: Anita\n",
      "AI_3: Jim\n",
      "DB: Jane\n",
      "PP_1: Ciara\n",
      "PP_2: Peter\n",
      "SE: Jim\n",
      "WD: Juan\n",
      "\n",
      "AI_1: Peter\n",
      "AI_2: Jim\n",
      "AI_3: Anita\n",
      "DB: Jane\n",
      "PP_1: Ciara\n",
      "PP_2: Jane\n",
      "SE: Jim\n",
      "WD: Juan\n",
      "\n",
      "AI_1: Peter\n",
      "AI_2: Jim\n",
      "AI_3: Anita\n",
      "DB: Jane\n",
      "PP_1: Ciara\n",
      "PP_2: Peter\n",
      "SE: Jim\n",
      "WD: Juan\n",
      "\n",
      "AI_1: Peter\n",
      "AI_2: Jim\n",
      "AI_3: Juan\n",
      "DB: Jane\n",
      "PP_1: Ciara\n",
      "PP_2: Bruce\n",
      "SE: Bruce\n",
      "WD: Juan\n",
      "\n",
      "AI_1: Peter\n",
      "AI_2: Jim\n",
      "AI_3: Juan\n",
      "DB: Jane\n",
      "PP_1: Ciara\n",
      "PP_2: Bruce\n",
      "SE: Jim\n",
      "WD: Juan\n",
      "\n",
      "AI_1: Peter\n",
      "AI_2: Jim\n",
      "AI_3: Juan\n",
      "DB: Jane\n",
      "PP_1: Ciara\n",
      "PP_2: Jane\n",
      "SE: Bruce\n",
      "WD: Juan\n",
      "\n",
      "AI_1: Peter\n",
      "AI_2: Jim\n",
      "AI_3: Juan\n",
      "DB: Jane\n",
      "PP_1: Ciara\n",
      "PP_2: Jane\n",
      "SE: Mary\n",
      "WD: Mary\n",
      "\n",
      "AI_1: Peter\n",
      "AI_2: Jim\n",
      "AI_3: Juan\n",
      "DB: Jane\n",
      "PP_1: Ciara\n",
      "PP_2: Jane\n",
      "SE: Mary\n",
      "WD: Juan\n",
      "\n",
      "AI_1: Peter\n",
      "AI_2: Jim\n",
      "AI_3: Juan\n",
      "DB: Jane\n",
      "PP_1: Ciara\n",
      "PP_2: Jane\n",
      "SE: Jim\n",
      "WD: Anita\n",
      "\n",
      "AI_1: Peter\n",
      "AI_2: Jim\n",
      "AI_3: Juan\n",
      "DB: Jane\n",
      "PP_1: Ciara\n",
      "PP_2: Jane\n",
      "SE: Jim\n",
      "WD: Mary\n",
      "\n",
      "AI_1: Peter\n",
      "AI_2: Jim\n",
      "AI_3: Juan\n",
      "DB: Jane\n",
      "PP_1: Ciara\n",
      "PP_2: Jane\n",
      "SE: Jim\n",
      "WD: Juan\n",
      "\n",
      "AI_1: Peter\n",
      "AI_2: Jim\n",
      "AI_3: Juan\n",
      "DB: Jane\n",
      "PP_1: Ciara\n",
      "PP_2: Peter\n",
      "SE: Bruce\n",
      "WD: Juan\n",
      "\n",
      "AI_1: Peter\n",
      "AI_2: Jim\n",
      "AI_3: Juan\n",
      "DB: Jane\n",
      "PP_1: Ciara\n",
      "PP_2: Peter\n",
      "SE: Mary\n",
      "WD: Mary\n",
      "\n",
      "AI_1: Peter\n",
      "AI_2: Jim\n",
      "AI_3: Juan\n",
      "DB: Jane\n",
      "PP_1: Ciara\n",
      "PP_2: Peter\n",
      "SE: Mary\n",
      "WD: Juan\n",
      "\n",
      "AI_1: Peter\n",
      "AI_2: Jim\n",
      "AI_3: Juan\n",
      "DB: Jane\n",
      "PP_1: Ciara\n",
      "PP_2: Peter\n",
      "SE: Jim\n",
      "WD: Anita\n",
      "\n",
      "AI_1: Peter\n",
      "AI_2: Jim\n",
      "AI_3: Juan\n",
      "DB: Jane\n",
      "PP_1: Ciara\n",
      "PP_2: Peter\n",
      "SE: Jim\n",
      "WD: Mary\n",
      "\n",
      "AI_1: Peter\n",
      "AI_2: Jim\n",
      "AI_3: Juan\n",
      "DB: Jane\n",
      "PP_1: Ciara\n",
      "PP_2: Peter\n",
      "SE: Jim\n",
      "WD: Juan\n",
      "\n",
      "AI_1: Peter\n",
      "AI_2: Juan\n",
      "AI_3: Jim\n",
      "DB: Jane\n",
      "PP_1: Ciara\n",
      "PP_2: Bruce\n",
      "SE: Bruce\n",
      "WD: Juan\n",
      "\n",
      "AI_1: Peter\n",
      "AI_2: Juan\n",
      "AI_3: Jim\n",
      "DB: Jane\n",
      "PP_1: Ciara\n",
      "PP_2: Bruce\n",
      "SE: Jim\n",
      "WD: Juan\n",
      "\n",
      "AI_1: Peter\n",
      "AI_2: Juan\n",
      "AI_3: Jim\n",
      "DB: Jane\n",
      "PP_1: Ciara\n",
      "PP_2: Jane\n",
      "SE: Bruce\n",
      "WD: Juan\n",
      "\n",
      "AI_1: Peter\n",
      "AI_2: Juan\n",
      "AI_3: Jim\n",
      "DB: Jane\n",
      "PP_1: Ciara\n",
      "PP_2: Jane\n",
      "SE: Mary\n",
      "WD: Mary\n",
      "\n",
      "AI_1: Peter\n",
      "AI_2: Juan\n",
      "AI_3: Jim\n",
      "DB: Jane\n",
      "PP_1: Ciara\n",
      "PP_2: Jane\n",
      "SE: Mary\n",
      "WD: Juan\n",
      "\n",
      "AI_1: Peter\n",
      "AI_2: Juan\n",
      "AI_3: Jim\n",
      "DB: Jane\n",
      "PP_1: Ciara\n",
      "PP_2: Jane\n",
      "SE: Jim\n",
      "WD: Anita\n",
      "\n",
      "AI_1: Peter\n",
      "AI_2: Juan\n",
      "AI_3: Jim\n",
      "DB: Jane\n",
      "PP_1: Ciara\n",
      "PP_2: Jane\n",
      "SE: Jim\n",
      "WD: Mary\n",
      "\n",
      "AI_1: Peter\n",
      "AI_2: Juan\n",
      "AI_3: Jim\n",
      "DB: Jane\n",
      "PP_1: Ciara\n",
      "PP_2: Jane\n",
      "SE: Jim\n",
      "WD: Juan\n",
      "\n",
      "AI_1: Peter\n",
      "AI_2: Juan\n",
      "AI_3: Jim\n",
      "DB: Jane\n",
      "PP_1: Ciara\n",
      "PP_2: Peter\n",
      "SE: Bruce\n",
      "WD: Juan\n",
      "\n",
      "AI_1: Peter\n",
      "AI_2: Juan\n",
      "AI_3: Jim\n",
      "DB: Jane\n",
      "PP_1: Ciara\n",
      "PP_2: Peter\n",
      "SE: Mary\n",
      "WD: Mary\n",
      "\n",
      "AI_1: Peter\n",
      "AI_2: Juan\n",
      "AI_3: Jim\n",
      "DB: Jane\n",
      "PP_1: Ciara\n",
      "PP_2: Peter\n",
      "SE: Mary\n",
      "WD: Juan\n",
      "\n",
      "AI_1: Peter\n",
      "AI_2: Juan\n",
      "AI_3: Jim\n",
      "DB: Jane\n",
      "PP_1: Ciara\n",
      "PP_2: Peter\n",
      "SE: Jim\n",
      "WD: Anita\n",
      "\n",
      "AI_1: Peter\n",
      "AI_2: Juan\n",
      "AI_3: Jim\n",
      "DB: Jane\n",
      "PP_1: Ciara\n",
      "PP_2: Peter\n",
      "SE: Jim\n",
      "WD: Mary\n",
      "\n",
      "AI_1: Peter\n",
      "AI_2: Juan\n",
      "AI_3: Jim\n",
      "DB: Jane\n",
      "PP_1: Ciara\n",
      "PP_2: Peter\n",
      "SE: Jim\n",
      "WD: Juan\n",
      "\n",
      "AI_1: Peter\n",
      "AI_2: Juan\n",
      "AI_3: Anita\n",
      "DB: Jane\n",
      "PP_1: Ciara\n",
      "PP_2: Bruce\n",
      "SE: Bruce\n",
      "WD: Anita\n",
      "\n",
      "AI_1: Peter\n",
      "AI_2: Juan\n",
      "AI_3: Anita\n",
      "DB: Jane\n",
      "PP_1: Ciara\n",
      "PP_2: Bruce\n",
      "SE: Bruce\n",
      "WD: Juan\n",
      "\n",
      "AI_1: Peter\n",
      "AI_2: Juan\n",
      "AI_3: Anita\n",
      "DB: Jane\n",
      "PP_1: Ciara\n",
      "PP_2: Jane\n",
      "SE: Bruce\n",
      "WD: Anita\n",
      "\n",
      "AI_1: Peter\n",
      "AI_2: Juan\n",
      "AI_3: Anita\n",
      "DB: Jane\n",
      "PP_1: Ciara\n",
      "PP_2: Jane\n",
      "SE: Bruce\n",
      "WD: Juan\n",
      "\n",
      "AI_1: Peter\n",
      "AI_2: Juan\n",
      "AI_3: Anita\n",
      "DB: Jane\n",
      "PP_1: Ciara\n",
      "PP_2: Jane\n",
      "SE: Mary\n",
      "WD: Mary\n",
      "\n",
      "AI_1: Peter\n",
      "AI_2: Juan\n",
      "AI_3: Anita\n",
      "DB: Jane\n",
      "PP_1: Ciara\n",
      "PP_2: Jane\n",
      "SE: Mary\n",
      "WD: Anita\n",
      "\n",
      "AI_1: Peter\n",
      "AI_2: Juan\n",
      "AI_3: Anita\n",
      "DB: Jane\n",
      "PP_1: Ciara\n",
      "PP_2: Jane\n",
      "SE: Mary\n",
      "WD: Juan\n",
      "\n",
      "AI_1: Peter\n",
      "AI_2: Juan\n",
      "AI_3: Anita\n",
      "DB: Jane\n",
      "PP_1: Ciara\n",
      "PP_2: Jane\n",
      "SE: Jim\n",
      "WD: Anita\n",
      "\n",
      "AI_1: Peter\n",
      "AI_2: Juan\n",
      "AI_3: Anita\n",
      "DB: Jane\n",
      "PP_1: Ciara\n",
      "PP_2: Jane\n",
      "SE: Jim\n",
      "WD: Juan\n",
      "\n",
      "AI_1: Peter\n",
      "AI_2: Juan\n",
      "AI_3: Anita\n",
      "DB: Jane\n",
      "PP_1: Ciara\n",
      "PP_2: Peter\n",
      "SE: Bruce\n",
      "WD: Anita\n",
      "\n",
      "AI_1: Peter\n",
      "AI_2: Juan\n",
      "AI_3: Anita\n",
      "DB: Jane\n",
      "PP_1: Ciara\n",
      "PP_2: Peter\n",
      "SE: Bruce\n",
      "WD: Juan\n",
      "\n",
      "AI_1: Peter\n",
      "AI_2: Juan\n",
      "AI_3: Anita\n",
      "DB: Jane\n",
      "PP_1: Ciara\n",
      "PP_2: Peter\n",
      "SE: Mary\n",
      "WD: Mary\n",
      "\n",
      "AI_1: Peter\n",
      "AI_2: Juan\n",
      "AI_3: Anita\n",
      "DB: Jane\n",
      "PP_1: Ciara\n",
      "PP_2: Peter\n",
      "SE: Mary\n",
      "WD: Anita\n",
      "\n",
      "AI_1: Peter\n",
      "AI_2: Juan\n",
      "AI_3: Anita\n",
      "DB: Jane\n",
      "PP_1: Ciara\n",
      "PP_2: Peter\n",
      "SE: Mary\n",
      "WD: Juan\n",
      "\n",
      "AI_1: Peter\n",
      "AI_2: Juan\n",
      "AI_3: Anita\n",
      "DB: Jane\n",
      "PP_1: Ciara\n",
      "PP_2: Peter\n",
      "SE: Jim\n",
      "WD: Anita\n",
      "\n",
      "AI_1: Peter\n",
      "AI_2: Juan\n",
      "AI_3: Anita\n",
      "DB: Jane\n",
      "PP_1: Ciara\n",
      "PP_2: Peter\n",
      "SE: Jim\n",
      "WD: Juan\n",
      "\n"
     ]
    }
   ],
   "source": [
    "# variables and domains\n",
    "roles = [\n",
    "    'PP_1',\n",
    "    'PP_2',\n",
    "    'AI_1',\n",
    "    'AI_2',\n",
    "    'AI_3',\n",
    "    'WD',\n",
    "    'DB',\n",
    "    'SE']\n",
    "\n",
    "people = {\n",
    "    'Ciara': [\"PP_1\"],\n",
    "    'Peter': [\"PP_2\", \"AI_1\", \"AI_2\", \"AI_3\"], \n",
    "    'Juan': [\"WD\", \"AI_1\", \"AI_2\",\"AI_3\"], \n",
    "    'Jim': [\"AI_1\", \"AI_2\", \"AI_3\", \"SE\"], \n",
    "    'Jane':[\"PP_2\", \"DB\"], \n",
    "    'Mary':[\"WD\", \"SE\"], \n",
    "    'Bruce':[\"PP_2\", \"SE\"], \n",
    "    'Anita':[\"AI_1\", \"AI_2\", \"AI_3\", \"WD\"]}\n",
    "\n",
    "problem = Problem()\n",
    "\n",
    "# Define the variables and domains\n",
    "for role in roles:\n",
    "    problem.addVariable(role, list(people.keys()))\n",
    "\n",
    "# Define constraints\n",
    "def ciara_cons(PP_1):\n",
    "    return PP_1 == \"Ciara\"\n",
    "\n",
    "def python_cons(PP_1, PP_2):\n",
    "    return PP_1 != PP_2\n",
    "\n",
    "def AI_cons (AI_1, AI_2, AI_3):\n",
    "     return AI_1 != AI_2 and AI_1 != AI_3 and AI_2 != AI_3 \n",
    "    \n",
    "def db_cons(DB):\n",
    "    return DB == \"Jane\"\n",
    "\n",
    "# changed to Ciara and Juan hiring 4 more people\n",
    "def hiring_cons(*args):\n",
    "    people_set = set(args)\n",
    "    if \"Ciara\" in people_set and \"Juan\" in people_set:\n",
    "        return len(people_set) <= 6\n",
    "    if \"Ciara\" in people_set and \"Juan\" in people_set:\n",
    "        return len(people_set) <= 5\n",
    "    else:\n",
    "        return len(people_set) == 4\n",
    "\n",
    "def skill_cons(*args):\n",
    "    for role_arg, people_arg in zip(roles, args):  \n",
    "        if role_arg not in people[people_arg]:\n",
    "            return False\n",
    "    return True\n",
    "\n",
    "# A person can only take to positions\n",
    "def two_roles_cons(*roles):\n",
    "    people_count = dict()\n",
    "    for role in roles:\n",
    "        if role in people_count:\n",
    "            people_count[role] += 1\n",
    "        else:\n",
    "            people_count[role] = 1\n",
    "    return all(count <= 2 for count in people_count.values())\n",
    "    \n",
    "problem.addConstraint(ciara_cons, [\"PP_1\"])    \n",
    "problem.addConstraint(AI_cons, [\"AI_1\", \"AI_2\", \"AI_3\"])\n",
    "problem.addConstraint(db_cons, [\"DB\"])\n",
    "problem.addConstraint(skill_cons, roles)\n",
    "problem.addConstraint(hiring_cons, roles)\n",
    "problem.addConstraint(two_roles_cons, roles)\n",
    "\n",
    "# Solution\n",
    "solutions2 = problem.getSolutions()\n",
    "\n",
    "if solutions2:\n",
    "    for solution in solutions2:\n",
    "        for role, person in solution.items():\n",
    "            if person: \n",
    "                print(f\"{role}: {person}\")\n",
    "        print()\n",
    "                \n",
    "else: \n",
    "    print(\"No solutions found\")"
   ]
  },
  {
   "cell_type": "markdown",
   "id": "80146108",
   "metadata": {},
   "source": [
    "# Data Visualisation"
   ]
  },
  {
   "cell_type": "code",
   "execution_count": 37,
   "id": "0a0c8f80",
   "metadata": {},
   "outputs": [
    {
     "name": "stdout",
     "output_type": "stream",
     "text": [
      "Scenario 1 Table\n",
      "      Ciara  Peter  Juan  Jim  Jane  Mary  Bruce  Anita\n",
      "PP_1      4      0     0    0     0     0      0      0\n",
      "PP_2      0      0     0    0     4     0      0      0\n",
      "AI_1      0      0     1    2     0     0      0      1\n",
      "AI_2      0      0     1    2     0     0      0      1\n",
      "AI_3      0      0     0    0     0     0      0      0\n",
      "WD        0      0     2    0     0     0      0      2\n",
      "DB        0      0     0    0     4     0      0      0\n",
      "SE        0      0     0    4     0     0      0      0\n",
      "\n",
      "Scenario 2 Table\n",
      "      Ciara  Peter  Juan  Jim  Jane  Mary  Bruce  Anita\n",
      "PP_1    276      0     0    0     0     0      0      0\n",
      "PP_2      0     96     0    0   132     0     48      0\n",
      "AI_1      0     64    88   60     0     0      0     64\n",
      "AI_2      0     64    88   60     0     0      0     64\n",
      "AI_3      0     64    88   60     0     0      0     64\n",
      "WD        0      0   138    0     0    48      0     90\n",
      "DB        0      0     0    0   276     0      0      0\n",
      "SE        0      0     0  120     0    78     78      0\n"
     ]
    }
   ],
   "source": [
    "import pandas as pd\n",
    "\n",
    "# Scenario 1 table visualisation\n",
    "scenario_1 = {person: {role: 0 for role in roles} for person in people.keys()}\n",
    "for solution in solutions:\n",
    "    for role, person in solution.items():\n",
    "        if person:\n",
    "            scenario_1[person][role] +=1\n",
    "\n",
    "df_s1 = pd.DataFrame(scenario_1)\n",
    "\n",
    "print(\"Scenario 1 Table\")\n",
    "print(df_s1)\n",
    "\n",
    "print()\n",
    "\n",
    "# Scenario 2 table visualisation\n",
    "scenario_2 = {person: {role: 0 for role in roles} for person in people.keys()}\n",
    "for solution in solutions2:\n",
    "    for role, person in solution.items():\n",
    "        if person:\n",
    "            scenario_2[person][role] +=1\n",
    "\n",
    "df_s2 = pd.DataFrame(scenario_2)\n",
    "\n",
    "print(\"Scenario 2 Table\")\n",
    "print(df_s2)"
   ]
  },
  {
   "cell_type": "markdown",
   "id": "661ddea3",
   "metadata": {},
   "source": [
    "# Scenario 1\n"
   ]
  },
  {
   "cell_type": "code",
   "execution_count": 50,
   "id": "6da637e5",
   "metadata": {},
   "outputs": [],
   "source": [
    "import matplotlib.pyplot as plt\n",
    "import seaborn as sns\n",
    "import numpy as np\n",
    "import plotly.graph_objects as go"
   ]
  },
  {
   "cell_type": "code",
   "execution_count": 57,
   "id": "f1ceb29a",
   "metadata": {},
   "outputs": [
    {
     "data": {
      "application/vnd.plotly.v1+json": {
       "config": {
        "plotlyServerURL": "https://plot.ly"
       },
       "data": [
        {
         "name": "PP_1",
         "type": "bar",
         "x": [
          "Ciara",
          "Peter",
          "Juan",
          "Jim",
          "Jane",
          "Mary",
          "Bruce",
          "Anita"
         ],
         "y": [
          4,
          0,
          0,
          0,
          0,
          0,
          0,
          0
         ]
        },
        {
         "name": "PP_2",
         "type": "bar",
         "x": [
          "Ciara",
          "Peter",
          "Juan",
          "Jim",
          "Jane",
          "Mary",
          "Bruce",
          "Anita"
         ],
         "y": [
          0,
          0,
          0,
          0,
          4,
          0,
          0,
          0
         ]
        },
        {
         "name": "AI_1",
         "type": "bar",
         "x": [
          "Ciara",
          "Peter",
          "Juan",
          "Jim",
          "Jane",
          "Mary",
          "Bruce",
          "Anita"
         ],
         "y": [
          0,
          0,
          1,
          2,
          0,
          0,
          0,
          1
         ]
        },
        {
         "name": "AI_2",
         "type": "bar",
         "x": [
          "Ciara",
          "Peter",
          "Juan",
          "Jim",
          "Jane",
          "Mary",
          "Bruce",
          "Anita"
         ],
         "y": [
          0,
          0,
          1,
          2,
          0,
          0,
          0,
          1
         ]
        },
        {
         "name": "AI_3",
         "type": "bar",
         "x": [
          "Ciara",
          "Peter",
          "Juan",
          "Jim",
          "Jane",
          "Mary",
          "Bruce",
          "Anita"
         ],
         "y": [
          0,
          0,
          0,
          0,
          0,
          0,
          0,
          0
         ]
        },
        {
         "name": "WD",
         "type": "bar",
         "x": [
          "Ciara",
          "Peter",
          "Juan",
          "Jim",
          "Jane",
          "Mary",
          "Bruce",
          "Anita"
         ],
         "y": [
          0,
          0,
          2,
          0,
          0,
          0,
          0,
          2
         ]
        },
        {
         "name": "DB",
         "type": "bar",
         "x": [
          "Ciara",
          "Peter",
          "Juan",
          "Jim",
          "Jane",
          "Mary",
          "Bruce",
          "Anita"
         ],
         "y": [
          0,
          0,
          0,
          0,
          4,
          0,
          0,
          0
         ]
        },
        {
         "name": "SE",
         "type": "bar",
         "x": [
          "Ciara",
          "Peter",
          "Juan",
          "Jim",
          "Jane",
          "Mary",
          "Bruce",
          "Anita"
         ],
         "y": [
          0,
          0,
          0,
          4,
          0,
          0,
          0,
          0
         ]
        }
       ],
       "layout": {
        "barmode": "stack",
        "legend": {
         "title": {
          "text": "People"
         }
        },
        "template": {
         "data": {
          "bar": [
           {
            "error_x": {
             "color": "#2a3f5f"
            },
            "error_y": {
             "color": "#2a3f5f"
            },
            "marker": {
             "line": {
              "color": "#E5ECF6",
              "width": 0.5
             },
             "pattern": {
              "fillmode": "overlay",
              "size": 10,
              "solidity": 0.2
             }
            },
            "type": "bar"
           }
          ],
          "barpolar": [
           {
            "marker": {
             "line": {
              "color": "#E5ECF6",
              "width": 0.5
             },
             "pattern": {
              "fillmode": "overlay",
              "size": 10,
              "solidity": 0.2
             }
            },
            "type": "barpolar"
           }
          ],
          "carpet": [
           {
            "aaxis": {
             "endlinecolor": "#2a3f5f",
             "gridcolor": "white",
             "linecolor": "white",
             "minorgridcolor": "white",
             "startlinecolor": "#2a3f5f"
            },
            "baxis": {
             "endlinecolor": "#2a3f5f",
             "gridcolor": "white",
             "linecolor": "white",
             "minorgridcolor": "white",
             "startlinecolor": "#2a3f5f"
            },
            "type": "carpet"
           }
          ],
          "choropleth": [
           {
            "colorbar": {
             "outlinewidth": 0,
             "ticks": ""
            },
            "type": "choropleth"
           }
          ],
          "contour": [
           {
            "colorbar": {
             "outlinewidth": 0,
             "ticks": ""
            },
            "colorscale": [
             [
              0,
              "#0d0887"
             ],
             [
              0.1111111111111111,
              "#46039f"
             ],
             [
              0.2222222222222222,
              "#7201a8"
             ],
             [
              0.3333333333333333,
              "#9c179e"
             ],
             [
              0.4444444444444444,
              "#bd3786"
             ],
             [
              0.5555555555555556,
              "#d8576b"
             ],
             [
              0.6666666666666666,
              "#ed7953"
             ],
             [
              0.7777777777777778,
              "#fb9f3a"
             ],
             [
              0.8888888888888888,
              "#fdca26"
             ],
             [
              1,
              "#f0f921"
             ]
            ],
            "type": "contour"
           }
          ],
          "contourcarpet": [
           {
            "colorbar": {
             "outlinewidth": 0,
             "ticks": ""
            },
            "type": "contourcarpet"
           }
          ],
          "heatmap": [
           {
            "colorbar": {
             "outlinewidth": 0,
             "ticks": ""
            },
            "colorscale": [
             [
              0,
              "#0d0887"
             ],
             [
              0.1111111111111111,
              "#46039f"
             ],
             [
              0.2222222222222222,
              "#7201a8"
             ],
             [
              0.3333333333333333,
              "#9c179e"
             ],
             [
              0.4444444444444444,
              "#bd3786"
             ],
             [
              0.5555555555555556,
              "#d8576b"
             ],
             [
              0.6666666666666666,
              "#ed7953"
             ],
             [
              0.7777777777777778,
              "#fb9f3a"
             ],
             [
              0.8888888888888888,
              "#fdca26"
             ],
             [
              1,
              "#f0f921"
             ]
            ],
            "type": "heatmap"
           }
          ],
          "heatmapgl": [
           {
            "colorbar": {
             "outlinewidth": 0,
             "ticks": ""
            },
            "colorscale": [
             [
              0,
              "#0d0887"
             ],
             [
              0.1111111111111111,
              "#46039f"
             ],
             [
              0.2222222222222222,
              "#7201a8"
             ],
             [
              0.3333333333333333,
              "#9c179e"
             ],
             [
              0.4444444444444444,
              "#bd3786"
             ],
             [
              0.5555555555555556,
              "#d8576b"
             ],
             [
              0.6666666666666666,
              "#ed7953"
             ],
             [
              0.7777777777777778,
              "#fb9f3a"
             ],
             [
              0.8888888888888888,
              "#fdca26"
             ],
             [
              1,
              "#f0f921"
             ]
            ],
            "type": "heatmapgl"
           }
          ],
          "histogram": [
           {
            "marker": {
             "pattern": {
              "fillmode": "overlay",
              "size": 10,
              "solidity": 0.2
             }
            },
            "type": "histogram"
           }
          ],
          "histogram2d": [
           {
            "colorbar": {
             "outlinewidth": 0,
             "ticks": ""
            },
            "colorscale": [
             [
              0,
              "#0d0887"
             ],
             [
              0.1111111111111111,
              "#46039f"
             ],
             [
              0.2222222222222222,
              "#7201a8"
             ],
             [
              0.3333333333333333,
              "#9c179e"
             ],
             [
              0.4444444444444444,
              "#bd3786"
             ],
             [
              0.5555555555555556,
              "#d8576b"
             ],
             [
              0.6666666666666666,
              "#ed7953"
             ],
             [
              0.7777777777777778,
              "#fb9f3a"
             ],
             [
              0.8888888888888888,
              "#fdca26"
             ],
             [
              1,
              "#f0f921"
             ]
            ],
            "type": "histogram2d"
           }
          ],
          "histogram2dcontour": [
           {
            "colorbar": {
             "outlinewidth": 0,
             "ticks": ""
            },
            "colorscale": [
             [
              0,
              "#0d0887"
             ],
             [
              0.1111111111111111,
              "#46039f"
             ],
             [
              0.2222222222222222,
              "#7201a8"
             ],
             [
              0.3333333333333333,
              "#9c179e"
             ],
             [
              0.4444444444444444,
              "#bd3786"
             ],
             [
              0.5555555555555556,
              "#d8576b"
             ],
             [
              0.6666666666666666,
              "#ed7953"
             ],
             [
              0.7777777777777778,
              "#fb9f3a"
             ],
             [
              0.8888888888888888,
              "#fdca26"
             ],
             [
              1,
              "#f0f921"
             ]
            ],
            "type": "histogram2dcontour"
           }
          ],
          "mesh3d": [
           {
            "colorbar": {
             "outlinewidth": 0,
             "ticks": ""
            },
            "type": "mesh3d"
           }
          ],
          "parcoords": [
           {
            "line": {
             "colorbar": {
              "outlinewidth": 0,
              "ticks": ""
             }
            },
            "type": "parcoords"
           }
          ],
          "pie": [
           {
            "automargin": true,
            "type": "pie"
           }
          ],
          "scatter": [
           {
            "fillpattern": {
             "fillmode": "overlay",
             "size": 10,
             "solidity": 0.2
            },
            "type": "scatter"
           }
          ],
          "scatter3d": [
           {
            "line": {
             "colorbar": {
              "outlinewidth": 0,
              "ticks": ""
             }
            },
            "marker": {
             "colorbar": {
              "outlinewidth": 0,
              "ticks": ""
             }
            },
            "type": "scatter3d"
           }
          ],
          "scattercarpet": [
           {
            "marker": {
             "colorbar": {
              "outlinewidth": 0,
              "ticks": ""
             }
            },
            "type": "scattercarpet"
           }
          ],
          "scattergeo": [
           {
            "marker": {
             "colorbar": {
              "outlinewidth": 0,
              "ticks": ""
             }
            },
            "type": "scattergeo"
           }
          ],
          "scattergl": [
           {
            "marker": {
             "colorbar": {
              "outlinewidth": 0,
              "ticks": ""
             }
            },
            "type": "scattergl"
           }
          ],
          "scattermapbox": [
           {
            "marker": {
             "colorbar": {
              "outlinewidth": 0,
              "ticks": ""
             }
            },
            "type": "scattermapbox"
           }
          ],
          "scatterpolar": [
           {
            "marker": {
             "colorbar": {
              "outlinewidth": 0,
              "ticks": ""
             }
            },
            "type": "scatterpolar"
           }
          ],
          "scatterpolargl": [
           {
            "marker": {
             "colorbar": {
              "outlinewidth": 0,
              "ticks": ""
             }
            },
            "type": "scatterpolargl"
           }
          ],
          "scatterternary": [
           {
            "marker": {
             "colorbar": {
              "outlinewidth": 0,
              "ticks": ""
             }
            },
            "type": "scatterternary"
           }
          ],
          "surface": [
           {
            "colorbar": {
             "outlinewidth": 0,
             "ticks": ""
            },
            "colorscale": [
             [
              0,
              "#0d0887"
             ],
             [
              0.1111111111111111,
              "#46039f"
             ],
             [
              0.2222222222222222,
              "#7201a8"
             ],
             [
              0.3333333333333333,
              "#9c179e"
             ],
             [
              0.4444444444444444,
              "#bd3786"
             ],
             [
              0.5555555555555556,
              "#d8576b"
             ],
             [
              0.6666666666666666,
              "#ed7953"
             ],
             [
              0.7777777777777778,
              "#fb9f3a"
             ],
             [
              0.8888888888888888,
              "#fdca26"
             ],
             [
              1,
              "#f0f921"
             ]
            ],
            "type": "surface"
           }
          ],
          "table": [
           {
            "cells": {
             "fill": {
              "color": "#EBF0F8"
             },
             "line": {
              "color": "white"
             }
            },
            "header": {
             "fill": {
              "color": "#C8D4E3"
             },
             "line": {
              "color": "white"
             }
            },
            "type": "table"
           }
          ]
         },
         "layout": {
          "annotationdefaults": {
           "arrowcolor": "#2a3f5f",
           "arrowhead": 0,
           "arrowwidth": 1
          },
          "autotypenumbers": "strict",
          "coloraxis": {
           "colorbar": {
            "outlinewidth": 0,
            "ticks": ""
           }
          },
          "colorscale": {
           "diverging": [
            [
             0,
             "#8e0152"
            ],
            [
             0.1,
             "#c51b7d"
            ],
            [
             0.2,
             "#de77ae"
            ],
            [
             0.3,
             "#f1b6da"
            ],
            [
             0.4,
             "#fde0ef"
            ],
            [
             0.5,
             "#f7f7f7"
            ],
            [
             0.6,
             "#e6f5d0"
            ],
            [
             0.7,
             "#b8e186"
            ],
            [
             0.8,
             "#7fbc41"
            ],
            [
             0.9,
             "#4d9221"
            ],
            [
             1,
             "#276419"
            ]
           ],
           "sequential": [
            [
             0,
             "#0d0887"
            ],
            [
             0.1111111111111111,
             "#46039f"
            ],
            [
             0.2222222222222222,
             "#7201a8"
            ],
            [
             0.3333333333333333,
             "#9c179e"
            ],
            [
             0.4444444444444444,
             "#bd3786"
            ],
            [
             0.5555555555555556,
             "#d8576b"
            ],
            [
             0.6666666666666666,
             "#ed7953"
            ],
            [
             0.7777777777777778,
             "#fb9f3a"
            ],
            [
             0.8888888888888888,
             "#fdca26"
            ],
            [
             1,
             "#f0f921"
            ]
           ],
           "sequentialminus": [
            [
             0,
             "#0d0887"
            ],
            [
             0.1111111111111111,
             "#46039f"
            ],
            [
             0.2222222222222222,
             "#7201a8"
            ],
            [
             0.3333333333333333,
             "#9c179e"
            ],
            [
             0.4444444444444444,
             "#bd3786"
            ],
            [
             0.5555555555555556,
             "#d8576b"
            ],
            [
             0.6666666666666666,
             "#ed7953"
            ],
            [
             0.7777777777777778,
             "#fb9f3a"
            ],
            [
             0.8888888888888888,
             "#fdca26"
            ],
            [
             1,
             "#f0f921"
            ]
           ]
          },
          "colorway": [
           "#636efa",
           "#EF553B",
           "#00cc96",
           "#ab63fa",
           "#FFA15A",
           "#19d3f3",
           "#FF6692",
           "#B6E880",
           "#FF97FF",
           "#FECB52"
          ],
          "font": {
           "color": "#2a3f5f"
          },
          "geo": {
           "bgcolor": "white",
           "lakecolor": "white",
           "landcolor": "#E5ECF6",
           "showlakes": true,
           "showland": true,
           "subunitcolor": "white"
          },
          "hoverlabel": {
           "align": "left"
          },
          "hovermode": "closest",
          "mapbox": {
           "style": "light"
          },
          "paper_bgcolor": "white",
          "plot_bgcolor": "#E5ECF6",
          "polar": {
           "angularaxis": {
            "gridcolor": "white",
            "linecolor": "white",
            "ticks": ""
           },
           "bgcolor": "#E5ECF6",
           "radialaxis": {
            "gridcolor": "white",
            "linecolor": "white",
            "ticks": ""
           }
          },
          "scene": {
           "xaxis": {
            "backgroundcolor": "#E5ECF6",
            "gridcolor": "white",
            "gridwidth": 2,
            "linecolor": "white",
            "showbackground": true,
            "ticks": "",
            "zerolinecolor": "white"
           },
           "yaxis": {
            "backgroundcolor": "#E5ECF6",
            "gridcolor": "white",
            "gridwidth": 2,
            "linecolor": "white",
            "showbackground": true,
            "ticks": "",
            "zerolinecolor": "white"
           },
           "zaxis": {
            "backgroundcolor": "#E5ECF6",
            "gridcolor": "white",
            "gridwidth": 2,
            "linecolor": "white",
            "showbackground": true,
            "ticks": "",
            "zerolinecolor": "white"
           }
          },
          "shapedefaults": {
           "line": {
            "color": "#2a3f5f"
           }
          },
          "ternary": {
           "aaxis": {
            "gridcolor": "white",
            "linecolor": "white",
            "ticks": ""
           },
           "baxis": {
            "gridcolor": "white",
            "linecolor": "white",
            "ticks": ""
           },
           "bgcolor": "#E5ECF6",
           "caxis": {
            "gridcolor": "white",
            "linecolor": "white",
            "ticks": ""
           }
          },
          "title": {
           "x": 0.05
          },
          "xaxis": {
           "automargin": true,
           "gridcolor": "white",
           "linecolor": "white",
           "ticks": "",
           "title": {
            "standoff": 15
           },
           "zerolinecolor": "white",
           "zerolinewidth": 2
          },
          "yaxis": {
           "automargin": true,
           "gridcolor": "white",
           "linecolor": "white",
           "ticks": "",
           "title": {
            "standoff": 15
           },
           "zerolinecolor": "white",
           "zerolinewidth": 2
          }
         }
        },
        "title": {
         "text": "Scenario 1: Roles by Person"
        },
        "xaxis": {
         "title": {
          "text": "Roles"
         }
        },
        "yaxis": {
         "title": {
          "text": "Number of Roles"
         }
        }
       }
      },
      "text/html": [
       "<div>                            <div id=\"078f973c-3f0a-4fab-88d5-b6244ffca565\" class=\"plotly-graph-div\" style=\"height:525px; width:100%;\"></div>            <script type=\"text/javascript\">                require([\"plotly\"], function(Plotly) {                    window.PLOTLYENV=window.PLOTLYENV || {};                                    if (document.getElementById(\"078f973c-3f0a-4fab-88d5-b6244ffca565\")) {                    Plotly.newPlot(                        \"078f973c-3f0a-4fab-88d5-b6244ffca565\",                        [{\"name\":\"PP_1\",\"x\":[\"Ciara\",\"Peter\",\"Juan\",\"Jim\",\"Jane\",\"Mary\",\"Bruce\",\"Anita\"],\"y\":[4,0,0,0,0,0,0,0],\"type\":\"bar\"},{\"name\":\"PP_2\",\"x\":[\"Ciara\",\"Peter\",\"Juan\",\"Jim\",\"Jane\",\"Mary\",\"Bruce\",\"Anita\"],\"y\":[0,0,0,0,4,0,0,0],\"type\":\"bar\"},{\"name\":\"AI_1\",\"x\":[\"Ciara\",\"Peter\",\"Juan\",\"Jim\",\"Jane\",\"Mary\",\"Bruce\",\"Anita\"],\"y\":[0,0,1,2,0,0,0,1],\"type\":\"bar\"},{\"name\":\"AI_2\",\"x\":[\"Ciara\",\"Peter\",\"Juan\",\"Jim\",\"Jane\",\"Mary\",\"Bruce\",\"Anita\"],\"y\":[0,0,1,2,0,0,0,1],\"type\":\"bar\"},{\"name\":\"AI_3\",\"x\":[\"Ciara\",\"Peter\",\"Juan\",\"Jim\",\"Jane\",\"Mary\",\"Bruce\",\"Anita\"],\"y\":[0,0,0,0,0,0,0,0],\"type\":\"bar\"},{\"name\":\"WD\",\"x\":[\"Ciara\",\"Peter\",\"Juan\",\"Jim\",\"Jane\",\"Mary\",\"Bruce\",\"Anita\"],\"y\":[0,0,2,0,0,0,0,2],\"type\":\"bar\"},{\"name\":\"DB\",\"x\":[\"Ciara\",\"Peter\",\"Juan\",\"Jim\",\"Jane\",\"Mary\",\"Bruce\",\"Anita\"],\"y\":[0,0,0,0,4,0,0,0],\"type\":\"bar\"},{\"name\":\"SE\",\"x\":[\"Ciara\",\"Peter\",\"Juan\",\"Jim\",\"Jane\",\"Mary\",\"Bruce\",\"Anita\"],\"y\":[0,0,0,4,0,0,0,0],\"type\":\"bar\"}],                        {\"template\":{\"data\":{\"histogram2dcontour\":[{\"type\":\"histogram2dcontour\",\"colorbar\":{\"outlinewidth\":0,\"ticks\":\"\"},\"colorscale\":[[0.0,\"#0d0887\"],[0.1111111111111111,\"#46039f\"],[0.2222222222222222,\"#7201a8\"],[0.3333333333333333,\"#9c179e\"],[0.4444444444444444,\"#bd3786\"],[0.5555555555555556,\"#d8576b\"],[0.6666666666666666,\"#ed7953\"],[0.7777777777777778,\"#fb9f3a\"],[0.8888888888888888,\"#fdca26\"],[1.0,\"#f0f921\"]]}],\"choropleth\":[{\"type\":\"choropleth\",\"colorbar\":{\"outlinewidth\":0,\"ticks\":\"\"}}],\"histogram2d\":[{\"type\":\"histogram2d\",\"colorbar\":{\"outlinewidth\":0,\"ticks\":\"\"},\"colorscale\":[[0.0,\"#0d0887\"],[0.1111111111111111,\"#46039f\"],[0.2222222222222222,\"#7201a8\"],[0.3333333333333333,\"#9c179e\"],[0.4444444444444444,\"#bd3786\"],[0.5555555555555556,\"#d8576b\"],[0.6666666666666666,\"#ed7953\"],[0.7777777777777778,\"#fb9f3a\"],[0.8888888888888888,\"#fdca26\"],[1.0,\"#f0f921\"]]}],\"heatmap\":[{\"type\":\"heatmap\",\"colorbar\":{\"outlinewidth\":0,\"ticks\":\"\"},\"colorscale\":[[0.0,\"#0d0887\"],[0.1111111111111111,\"#46039f\"],[0.2222222222222222,\"#7201a8\"],[0.3333333333333333,\"#9c179e\"],[0.4444444444444444,\"#bd3786\"],[0.5555555555555556,\"#d8576b\"],[0.6666666666666666,\"#ed7953\"],[0.7777777777777778,\"#fb9f3a\"],[0.8888888888888888,\"#fdca26\"],[1.0,\"#f0f921\"]]}],\"heatmapgl\":[{\"type\":\"heatmapgl\",\"colorbar\":{\"outlinewidth\":0,\"ticks\":\"\"},\"colorscale\":[[0.0,\"#0d0887\"],[0.1111111111111111,\"#46039f\"],[0.2222222222222222,\"#7201a8\"],[0.3333333333333333,\"#9c179e\"],[0.4444444444444444,\"#bd3786\"],[0.5555555555555556,\"#d8576b\"],[0.6666666666666666,\"#ed7953\"],[0.7777777777777778,\"#fb9f3a\"],[0.8888888888888888,\"#fdca26\"],[1.0,\"#f0f921\"]]}],\"contourcarpet\":[{\"type\":\"contourcarpet\",\"colorbar\":{\"outlinewidth\":0,\"ticks\":\"\"}}],\"contour\":[{\"type\":\"contour\",\"colorbar\":{\"outlinewidth\":0,\"ticks\":\"\"},\"colorscale\":[[0.0,\"#0d0887\"],[0.1111111111111111,\"#46039f\"],[0.2222222222222222,\"#7201a8\"],[0.3333333333333333,\"#9c179e\"],[0.4444444444444444,\"#bd3786\"],[0.5555555555555556,\"#d8576b\"],[0.6666666666666666,\"#ed7953\"],[0.7777777777777778,\"#fb9f3a\"],[0.8888888888888888,\"#fdca26\"],[1.0,\"#f0f921\"]]}],\"surface\":[{\"type\":\"surface\",\"colorbar\":{\"outlinewidth\":0,\"ticks\":\"\"},\"colorscale\":[[0.0,\"#0d0887\"],[0.1111111111111111,\"#46039f\"],[0.2222222222222222,\"#7201a8\"],[0.3333333333333333,\"#9c179e\"],[0.4444444444444444,\"#bd3786\"],[0.5555555555555556,\"#d8576b\"],[0.6666666666666666,\"#ed7953\"],[0.7777777777777778,\"#fb9f3a\"],[0.8888888888888888,\"#fdca26\"],[1.0,\"#f0f921\"]]}],\"mesh3d\":[{\"type\":\"mesh3d\",\"colorbar\":{\"outlinewidth\":0,\"ticks\":\"\"}}],\"scatter\":[{\"fillpattern\":{\"fillmode\":\"overlay\",\"size\":10,\"solidity\":0.2},\"type\":\"scatter\"}],\"parcoords\":[{\"type\":\"parcoords\",\"line\":{\"colorbar\":{\"outlinewidth\":0,\"ticks\":\"\"}}}],\"scatterpolargl\":[{\"type\":\"scatterpolargl\",\"marker\":{\"colorbar\":{\"outlinewidth\":0,\"ticks\":\"\"}}}],\"bar\":[{\"error_x\":{\"color\":\"#2a3f5f\"},\"error_y\":{\"color\":\"#2a3f5f\"},\"marker\":{\"line\":{\"color\":\"#E5ECF6\",\"width\":0.5},\"pattern\":{\"fillmode\":\"overlay\",\"size\":10,\"solidity\":0.2}},\"type\":\"bar\"}],\"scattergeo\":[{\"type\":\"scattergeo\",\"marker\":{\"colorbar\":{\"outlinewidth\":0,\"ticks\":\"\"}}}],\"scatterpolar\":[{\"type\":\"scatterpolar\",\"marker\":{\"colorbar\":{\"outlinewidth\":0,\"ticks\":\"\"}}}],\"histogram\":[{\"marker\":{\"pattern\":{\"fillmode\":\"overlay\",\"size\":10,\"solidity\":0.2}},\"type\":\"histogram\"}],\"scattergl\":[{\"type\":\"scattergl\",\"marker\":{\"colorbar\":{\"outlinewidth\":0,\"ticks\":\"\"}}}],\"scatter3d\":[{\"type\":\"scatter3d\",\"line\":{\"colorbar\":{\"outlinewidth\":0,\"ticks\":\"\"}},\"marker\":{\"colorbar\":{\"outlinewidth\":0,\"ticks\":\"\"}}}],\"scattermapbox\":[{\"type\":\"scattermapbox\",\"marker\":{\"colorbar\":{\"outlinewidth\":0,\"ticks\":\"\"}}}],\"scatterternary\":[{\"type\":\"scatterternary\",\"marker\":{\"colorbar\":{\"outlinewidth\":0,\"ticks\":\"\"}}}],\"scattercarpet\":[{\"type\":\"scattercarpet\",\"marker\":{\"colorbar\":{\"outlinewidth\":0,\"ticks\":\"\"}}}],\"carpet\":[{\"aaxis\":{\"endlinecolor\":\"#2a3f5f\",\"gridcolor\":\"white\",\"linecolor\":\"white\",\"minorgridcolor\":\"white\",\"startlinecolor\":\"#2a3f5f\"},\"baxis\":{\"endlinecolor\":\"#2a3f5f\",\"gridcolor\":\"white\",\"linecolor\":\"white\",\"minorgridcolor\":\"white\",\"startlinecolor\":\"#2a3f5f\"},\"type\":\"carpet\"}],\"table\":[{\"cells\":{\"fill\":{\"color\":\"#EBF0F8\"},\"line\":{\"color\":\"white\"}},\"header\":{\"fill\":{\"color\":\"#C8D4E3\"},\"line\":{\"color\":\"white\"}},\"type\":\"table\"}],\"barpolar\":[{\"marker\":{\"line\":{\"color\":\"#E5ECF6\",\"width\":0.5},\"pattern\":{\"fillmode\":\"overlay\",\"size\":10,\"solidity\":0.2}},\"type\":\"barpolar\"}],\"pie\":[{\"automargin\":true,\"type\":\"pie\"}]},\"layout\":{\"autotypenumbers\":\"strict\",\"colorway\":[\"#636efa\",\"#EF553B\",\"#00cc96\",\"#ab63fa\",\"#FFA15A\",\"#19d3f3\",\"#FF6692\",\"#B6E880\",\"#FF97FF\",\"#FECB52\"],\"font\":{\"color\":\"#2a3f5f\"},\"hovermode\":\"closest\",\"hoverlabel\":{\"align\":\"left\"},\"paper_bgcolor\":\"white\",\"plot_bgcolor\":\"#E5ECF6\",\"polar\":{\"bgcolor\":\"#E5ECF6\",\"angularaxis\":{\"gridcolor\":\"white\",\"linecolor\":\"white\",\"ticks\":\"\"},\"radialaxis\":{\"gridcolor\":\"white\",\"linecolor\":\"white\",\"ticks\":\"\"}},\"ternary\":{\"bgcolor\":\"#E5ECF6\",\"aaxis\":{\"gridcolor\":\"white\",\"linecolor\":\"white\",\"ticks\":\"\"},\"baxis\":{\"gridcolor\":\"white\",\"linecolor\":\"white\",\"ticks\":\"\"},\"caxis\":{\"gridcolor\":\"white\",\"linecolor\":\"white\",\"ticks\":\"\"}},\"coloraxis\":{\"colorbar\":{\"outlinewidth\":0,\"ticks\":\"\"}},\"colorscale\":{\"sequential\":[[0.0,\"#0d0887\"],[0.1111111111111111,\"#46039f\"],[0.2222222222222222,\"#7201a8\"],[0.3333333333333333,\"#9c179e\"],[0.4444444444444444,\"#bd3786\"],[0.5555555555555556,\"#d8576b\"],[0.6666666666666666,\"#ed7953\"],[0.7777777777777778,\"#fb9f3a\"],[0.8888888888888888,\"#fdca26\"],[1.0,\"#f0f921\"]],\"sequentialminus\":[[0.0,\"#0d0887\"],[0.1111111111111111,\"#46039f\"],[0.2222222222222222,\"#7201a8\"],[0.3333333333333333,\"#9c179e\"],[0.4444444444444444,\"#bd3786\"],[0.5555555555555556,\"#d8576b\"],[0.6666666666666666,\"#ed7953\"],[0.7777777777777778,\"#fb9f3a\"],[0.8888888888888888,\"#fdca26\"],[1.0,\"#f0f921\"]],\"diverging\":[[0,\"#8e0152\"],[0.1,\"#c51b7d\"],[0.2,\"#de77ae\"],[0.3,\"#f1b6da\"],[0.4,\"#fde0ef\"],[0.5,\"#f7f7f7\"],[0.6,\"#e6f5d0\"],[0.7,\"#b8e186\"],[0.8,\"#7fbc41\"],[0.9,\"#4d9221\"],[1,\"#276419\"]]},\"xaxis\":{\"gridcolor\":\"white\",\"linecolor\":\"white\",\"ticks\":\"\",\"title\":{\"standoff\":15},\"zerolinecolor\":\"white\",\"automargin\":true,\"zerolinewidth\":2},\"yaxis\":{\"gridcolor\":\"white\",\"linecolor\":\"white\",\"ticks\":\"\",\"title\":{\"standoff\":15},\"zerolinecolor\":\"white\",\"automargin\":true,\"zerolinewidth\":2},\"scene\":{\"xaxis\":{\"backgroundcolor\":\"#E5ECF6\",\"gridcolor\":\"white\",\"linecolor\":\"white\",\"showbackground\":true,\"ticks\":\"\",\"zerolinecolor\":\"white\",\"gridwidth\":2},\"yaxis\":{\"backgroundcolor\":\"#E5ECF6\",\"gridcolor\":\"white\",\"linecolor\":\"white\",\"showbackground\":true,\"ticks\":\"\",\"zerolinecolor\":\"white\",\"gridwidth\":2},\"zaxis\":{\"backgroundcolor\":\"#E5ECF6\",\"gridcolor\":\"white\",\"linecolor\":\"white\",\"showbackground\":true,\"ticks\":\"\",\"zerolinecolor\":\"white\",\"gridwidth\":2}},\"shapedefaults\":{\"line\":{\"color\":\"#2a3f5f\"}},\"annotationdefaults\":{\"arrowcolor\":\"#2a3f5f\",\"arrowhead\":0,\"arrowwidth\":1},\"geo\":{\"bgcolor\":\"white\",\"landcolor\":\"#E5ECF6\",\"subunitcolor\":\"white\",\"showland\":true,\"showlakes\":true,\"lakecolor\":\"white\"},\"title\":{\"x\":0.05},\"mapbox\":{\"style\":\"light\"}}},\"title\":{\"text\":\"Scenario 1: Roles by Person\"},\"xaxis\":{\"title\":{\"text\":\"Roles\"}},\"yaxis\":{\"title\":{\"text\":\"Number of Roles\"}},\"barmode\":\"stack\",\"legend\":{\"title\":{\"text\":\"People\"}}},                        {\"responsive\": true}                    ).then(function(){\n",
       "                            \n",
       "var gd = document.getElementById('078f973c-3f0a-4fab-88d5-b6244ffca565');\n",
       "var x = new MutationObserver(function (mutations, observer) {{\n",
       "        var display = window.getComputedStyle(gd).display;\n",
       "        if (!display || display === 'none') {{\n",
       "            console.log([gd, 'removed!']);\n",
       "            Plotly.purge(gd);\n",
       "            observer.disconnect();\n",
       "        }}\n",
       "}});\n",
       "\n",
       "// Listen for the removal of the full notebook cells\n",
       "var notebookContainer = gd.closest('#notebook-container');\n",
       "if (notebookContainer) {{\n",
       "    x.observe(notebookContainer, {childList: true});\n",
       "}}\n",
       "\n",
       "// Listen for the clearing of the current output cell\n",
       "var outputEl = gd.closest('.output');\n",
       "if (outputEl) {{\n",
       "    x.observe(outputEl, {childList: true});\n",
       "}}\n",
       "\n",
       "                        })                };                });            </script>        </div>"
      ]
     },
     "metadata": {},
     "output_type": "display_data"
    }
   ],
   "source": [
    "def plot_s1():\n",
    "    fig = go.Figure()\n",
    "    \n",
    "    for person in df_s1.index:\n",
    "        fig.add_trace(go.Bar(\n",
    "            x=df_s1.columns,\n",
    "            y=df_s1.loc[person],\n",
    "            name=person\n",
    "        ))\n",
    "        \n",
    "    fig.update_layout(\n",
    "        title = \"Scenario 1: Roles by Person\",\n",
    "        xaxis_title=\"Roles\",\n",
    "        yaxis_title=\"Number of Roles\",\n",
    "        barmode=\"stack\",\n",
    "        legend_title=\"People\"\n",
    "    )\n",
    "        \n",
    "    fig.show()\n",
    "        \n",
    "plot_s1()        "
   ]
  },
  {
   "cell_type": "code",
   "execution_count": 58,
   "id": "93e3aea5",
   "metadata": {},
   "outputs": [
    {
     "data": {
      "application/vnd.plotly.v1+json": {
       "config": {
        "plotlyServerURL": "https://plot.ly"
       },
       "data": [
        {
         "mode": "lines+markers",
         "name": "PP_1",
         "type": "scatter",
         "x": [
          "Ciara",
          "Peter",
          "Juan",
          "Jim",
          "Jane",
          "Mary",
          "Bruce",
          "Anita"
         ],
         "y": [
          276,
          0,
          0,
          0,
          0,
          0,
          0,
          0
         ]
        },
        {
         "mode": "lines+markers",
         "name": "PP_2",
         "type": "scatter",
         "x": [
          "Ciara",
          "Peter",
          "Juan",
          "Jim",
          "Jane",
          "Mary",
          "Bruce",
          "Anita"
         ],
         "y": [
          0,
          96,
          0,
          0,
          132,
          0,
          48,
          0
         ]
        },
        {
         "mode": "lines+markers",
         "name": "AI_1",
         "type": "scatter",
         "x": [
          "Ciara",
          "Peter",
          "Juan",
          "Jim",
          "Jane",
          "Mary",
          "Bruce",
          "Anita"
         ],
         "y": [
          0,
          64,
          88,
          60,
          0,
          0,
          0,
          64
         ]
        },
        {
         "mode": "lines+markers",
         "name": "AI_2",
         "type": "scatter",
         "x": [
          "Ciara",
          "Peter",
          "Juan",
          "Jim",
          "Jane",
          "Mary",
          "Bruce",
          "Anita"
         ],
         "y": [
          0,
          64,
          88,
          60,
          0,
          0,
          0,
          64
         ]
        },
        {
         "mode": "lines+markers",
         "name": "AI_3",
         "type": "scatter",
         "x": [
          "Ciara",
          "Peter",
          "Juan",
          "Jim",
          "Jane",
          "Mary",
          "Bruce",
          "Anita"
         ],
         "y": [
          0,
          64,
          88,
          60,
          0,
          0,
          0,
          64
         ]
        },
        {
         "mode": "lines+markers",
         "name": "WD",
         "type": "scatter",
         "x": [
          "Ciara",
          "Peter",
          "Juan",
          "Jim",
          "Jane",
          "Mary",
          "Bruce",
          "Anita"
         ],
         "y": [
          0,
          0,
          138,
          0,
          0,
          48,
          0,
          90
         ]
        },
        {
         "mode": "lines+markers",
         "name": "DB",
         "type": "scatter",
         "x": [
          "Ciara",
          "Peter",
          "Juan",
          "Jim",
          "Jane",
          "Mary",
          "Bruce",
          "Anita"
         ],
         "y": [
          0,
          0,
          0,
          0,
          276,
          0,
          0,
          0
         ]
        },
        {
         "mode": "lines+markers",
         "name": "SE",
         "type": "scatter",
         "x": [
          "Ciara",
          "Peter",
          "Juan",
          "Jim",
          "Jane",
          "Mary",
          "Bruce",
          "Anita"
         ],
         "y": [
          0,
          0,
          0,
          120,
          0,
          78,
          78,
          0
         ]
        }
       ],
       "layout": {
        "barmode": "stack",
        "legend": {
         "title": {
          "text": "People"
         }
        },
        "template": {
         "data": {
          "bar": [
           {
            "error_x": {
             "color": "#2a3f5f"
            },
            "error_y": {
             "color": "#2a3f5f"
            },
            "marker": {
             "line": {
              "color": "#E5ECF6",
              "width": 0.5
             },
             "pattern": {
              "fillmode": "overlay",
              "size": 10,
              "solidity": 0.2
             }
            },
            "type": "bar"
           }
          ],
          "barpolar": [
           {
            "marker": {
             "line": {
              "color": "#E5ECF6",
              "width": 0.5
             },
             "pattern": {
              "fillmode": "overlay",
              "size": 10,
              "solidity": 0.2
             }
            },
            "type": "barpolar"
           }
          ],
          "carpet": [
           {
            "aaxis": {
             "endlinecolor": "#2a3f5f",
             "gridcolor": "white",
             "linecolor": "white",
             "minorgridcolor": "white",
             "startlinecolor": "#2a3f5f"
            },
            "baxis": {
             "endlinecolor": "#2a3f5f",
             "gridcolor": "white",
             "linecolor": "white",
             "minorgridcolor": "white",
             "startlinecolor": "#2a3f5f"
            },
            "type": "carpet"
           }
          ],
          "choropleth": [
           {
            "colorbar": {
             "outlinewidth": 0,
             "ticks": ""
            },
            "type": "choropleth"
           }
          ],
          "contour": [
           {
            "colorbar": {
             "outlinewidth": 0,
             "ticks": ""
            },
            "colorscale": [
             [
              0,
              "#0d0887"
             ],
             [
              0.1111111111111111,
              "#46039f"
             ],
             [
              0.2222222222222222,
              "#7201a8"
             ],
             [
              0.3333333333333333,
              "#9c179e"
             ],
             [
              0.4444444444444444,
              "#bd3786"
             ],
             [
              0.5555555555555556,
              "#d8576b"
             ],
             [
              0.6666666666666666,
              "#ed7953"
             ],
             [
              0.7777777777777778,
              "#fb9f3a"
             ],
             [
              0.8888888888888888,
              "#fdca26"
             ],
             [
              1,
              "#f0f921"
             ]
            ],
            "type": "contour"
           }
          ],
          "contourcarpet": [
           {
            "colorbar": {
             "outlinewidth": 0,
             "ticks": ""
            },
            "type": "contourcarpet"
           }
          ],
          "heatmap": [
           {
            "colorbar": {
             "outlinewidth": 0,
             "ticks": ""
            },
            "colorscale": [
             [
              0,
              "#0d0887"
             ],
             [
              0.1111111111111111,
              "#46039f"
             ],
             [
              0.2222222222222222,
              "#7201a8"
             ],
             [
              0.3333333333333333,
              "#9c179e"
             ],
             [
              0.4444444444444444,
              "#bd3786"
             ],
             [
              0.5555555555555556,
              "#d8576b"
             ],
             [
              0.6666666666666666,
              "#ed7953"
             ],
             [
              0.7777777777777778,
              "#fb9f3a"
             ],
             [
              0.8888888888888888,
              "#fdca26"
             ],
             [
              1,
              "#f0f921"
             ]
            ],
            "type": "heatmap"
           }
          ],
          "heatmapgl": [
           {
            "colorbar": {
             "outlinewidth": 0,
             "ticks": ""
            },
            "colorscale": [
             [
              0,
              "#0d0887"
             ],
             [
              0.1111111111111111,
              "#46039f"
             ],
             [
              0.2222222222222222,
              "#7201a8"
             ],
             [
              0.3333333333333333,
              "#9c179e"
             ],
             [
              0.4444444444444444,
              "#bd3786"
             ],
             [
              0.5555555555555556,
              "#d8576b"
             ],
             [
              0.6666666666666666,
              "#ed7953"
             ],
             [
              0.7777777777777778,
              "#fb9f3a"
             ],
             [
              0.8888888888888888,
              "#fdca26"
             ],
             [
              1,
              "#f0f921"
             ]
            ],
            "type": "heatmapgl"
           }
          ],
          "histogram": [
           {
            "marker": {
             "pattern": {
              "fillmode": "overlay",
              "size": 10,
              "solidity": 0.2
             }
            },
            "type": "histogram"
           }
          ],
          "histogram2d": [
           {
            "colorbar": {
             "outlinewidth": 0,
             "ticks": ""
            },
            "colorscale": [
             [
              0,
              "#0d0887"
             ],
             [
              0.1111111111111111,
              "#46039f"
             ],
             [
              0.2222222222222222,
              "#7201a8"
             ],
             [
              0.3333333333333333,
              "#9c179e"
             ],
             [
              0.4444444444444444,
              "#bd3786"
             ],
             [
              0.5555555555555556,
              "#d8576b"
             ],
             [
              0.6666666666666666,
              "#ed7953"
             ],
             [
              0.7777777777777778,
              "#fb9f3a"
             ],
             [
              0.8888888888888888,
              "#fdca26"
             ],
             [
              1,
              "#f0f921"
             ]
            ],
            "type": "histogram2d"
           }
          ],
          "histogram2dcontour": [
           {
            "colorbar": {
             "outlinewidth": 0,
             "ticks": ""
            },
            "colorscale": [
             [
              0,
              "#0d0887"
             ],
             [
              0.1111111111111111,
              "#46039f"
             ],
             [
              0.2222222222222222,
              "#7201a8"
             ],
             [
              0.3333333333333333,
              "#9c179e"
             ],
             [
              0.4444444444444444,
              "#bd3786"
             ],
             [
              0.5555555555555556,
              "#d8576b"
             ],
             [
              0.6666666666666666,
              "#ed7953"
             ],
             [
              0.7777777777777778,
              "#fb9f3a"
             ],
             [
              0.8888888888888888,
              "#fdca26"
             ],
             [
              1,
              "#f0f921"
             ]
            ],
            "type": "histogram2dcontour"
           }
          ],
          "mesh3d": [
           {
            "colorbar": {
             "outlinewidth": 0,
             "ticks": ""
            },
            "type": "mesh3d"
           }
          ],
          "parcoords": [
           {
            "line": {
             "colorbar": {
              "outlinewidth": 0,
              "ticks": ""
             }
            },
            "type": "parcoords"
           }
          ],
          "pie": [
           {
            "automargin": true,
            "type": "pie"
           }
          ],
          "scatter": [
           {
            "fillpattern": {
             "fillmode": "overlay",
             "size": 10,
             "solidity": 0.2
            },
            "type": "scatter"
           }
          ],
          "scatter3d": [
           {
            "line": {
             "colorbar": {
              "outlinewidth": 0,
              "ticks": ""
             }
            },
            "marker": {
             "colorbar": {
              "outlinewidth": 0,
              "ticks": ""
             }
            },
            "type": "scatter3d"
           }
          ],
          "scattercarpet": [
           {
            "marker": {
             "colorbar": {
              "outlinewidth": 0,
              "ticks": ""
             }
            },
            "type": "scattercarpet"
           }
          ],
          "scattergeo": [
           {
            "marker": {
             "colorbar": {
              "outlinewidth": 0,
              "ticks": ""
             }
            },
            "type": "scattergeo"
           }
          ],
          "scattergl": [
           {
            "marker": {
             "colorbar": {
              "outlinewidth": 0,
              "ticks": ""
             }
            },
            "type": "scattergl"
           }
          ],
          "scattermapbox": [
           {
            "marker": {
             "colorbar": {
              "outlinewidth": 0,
              "ticks": ""
             }
            },
            "type": "scattermapbox"
           }
          ],
          "scatterpolar": [
           {
            "marker": {
             "colorbar": {
              "outlinewidth": 0,
              "ticks": ""
             }
            },
            "type": "scatterpolar"
           }
          ],
          "scatterpolargl": [
           {
            "marker": {
             "colorbar": {
              "outlinewidth": 0,
              "ticks": ""
             }
            },
            "type": "scatterpolargl"
           }
          ],
          "scatterternary": [
           {
            "marker": {
             "colorbar": {
              "outlinewidth": 0,
              "ticks": ""
             }
            },
            "type": "scatterternary"
           }
          ],
          "surface": [
           {
            "colorbar": {
             "outlinewidth": 0,
             "ticks": ""
            },
            "colorscale": [
             [
              0,
              "#0d0887"
             ],
             [
              0.1111111111111111,
              "#46039f"
             ],
             [
              0.2222222222222222,
              "#7201a8"
             ],
             [
              0.3333333333333333,
              "#9c179e"
             ],
             [
              0.4444444444444444,
              "#bd3786"
             ],
             [
              0.5555555555555556,
              "#d8576b"
             ],
             [
              0.6666666666666666,
              "#ed7953"
             ],
             [
              0.7777777777777778,
              "#fb9f3a"
             ],
             [
              0.8888888888888888,
              "#fdca26"
             ],
             [
              1,
              "#f0f921"
             ]
            ],
            "type": "surface"
           }
          ],
          "table": [
           {
            "cells": {
             "fill": {
              "color": "#EBF0F8"
             },
             "line": {
              "color": "white"
             }
            },
            "header": {
             "fill": {
              "color": "#C8D4E3"
             },
             "line": {
              "color": "white"
             }
            },
            "type": "table"
           }
          ]
         },
         "layout": {
          "annotationdefaults": {
           "arrowcolor": "#2a3f5f",
           "arrowhead": 0,
           "arrowwidth": 1
          },
          "autotypenumbers": "strict",
          "coloraxis": {
           "colorbar": {
            "outlinewidth": 0,
            "ticks": ""
           }
          },
          "colorscale": {
           "diverging": [
            [
             0,
             "#8e0152"
            ],
            [
             0.1,
             "#c51b7d"
            ],
            [
             0.2,
             "#de77ae"
            ],
            [
             0.3,
             "#f1b6da"
            ],
            [
             0.4,
             "#fde0ef"
            ],
            [
             0.5,
             "#f7f7f7"
            ],
            [
             0.6,
             "#e6f5d0"
            ],
            [
             0.7,
             "#b8e186"
            ],
            [
             0.8,
             "#7fbc41"
            ],
            [
             0.9,
             "#4d9221"
            ],
            [
             1,
             "#276419"
            ]
           ],
           "sequential": [
            [
             0,
             "#0d0887"
            ],
            [
             0.1111111111111111,
             "#46039f"
            ],
            [
             0.2222222222222222,
             "#7201a8"
            ],
            [
             0.3333333333333333,
             "#9c179e"
            ],
            [
             0.4444444444444444,
             "#bd3786"
            ],
            [
             0.5555555555555556,
             "#d8576b"
            ],
            [
             0.6666666666666666,
             "#ed7953"
            ],
            [
             0.7777777777777778,
             "#fb9f3a"
            ],
            [
             0.8888888888888888,
             "#fdca26"
            ],
            [
             1,
             "#f0f921"
            ]
           ],
           "sequentialminus": [
            [
             0,
             "#0d0887"
            ],
            [
             0.1111111111111111,
             "#46039f"
            ],
            [
             0.2222222222222222,
             "#7201a8"
            ],
            [
             0.3333333333333333,
             "#9c179e"
            ],
            [
             0.4444444444444444,
             "#bd3786"
            ],
            [
             0.5555555555555556,
             "#d8576b"
            ],
            [
             0.6666666666666666,
             "#ed7953"
            ],
            [
             0.7777777777777778,
             "#fb9f3a"
            ],
            [
             0.8888888888888888,
             "#fdca26"
            ],
            [
             1,
             "#f0f921"
            ]
           ]
          },
          "colorway": [
           "#636efa",
           "#EF553B",
           "#00cc96",
           "#ab63fa",
           "#FFA15A",
           "#19d3f3",
           "#FF6692",
           "#B6E880",
           "#FF97FF",
           "#FECB52"
          ],
          "font": {
           "color": "#2a3f5f"
          },
          "geo": {
           "bgcolor": "white",
           "lakecolor": "white",
           "landcolor": "#E5ECF6",
           "showlakes": true,
           "showland": true,
           "subunitcolor": "white"
          },
          "hoverlabel": {
           "align": "left"
          },
          "hovermode": "closest",
          "mapbox": {
           "style": "light"
          },
          "paper_bgcolor": "white",
          "plot_bgcolor": "#E5ECF6",
          "polar": {
           "angularaxis": {
            "gridcolor": "white",
            "linecolor": "white",
            "ticks": ""
           },
           "bgcolor": "#E5ECF6",
           "radialaxis": {
            "gridcolor": "white",
            "linecolor": "white",
            "ticks": ""
           }
          },
          "scene": {
           "xaxis": {
            "backgroundcolor": "#E5ECF6",
            "gridcolor": "white",
            "gridwidth": 2,
            "linecolor": "white",
            "showbackground": true,
            "ticks": "",
            "zerolinecolor": "white"
           },
           "yaxis": {
            "backgroundcolor": "#E5ECF6",
            "gridcolor": "white",
            "gridwidth": 2,
            "linecolor": "white",
            "showbackground": true,
            "ticks": "",
            "zerolinecolor": "white"
           },
           "zaxis": {
            "backgroundcolor": "#E5ECF6",
            "gridcolor": "white",
            "gridwidth": 2,
            "linecolor": "white",
            "showbackground": true,
            "ticks": "",
            "zerolinecolor": "white"
           }
          },
          "shapedefaults": {
           "line": {
            "color": "#2a3f5f"
           }
          },
          "ternary": {
           "aaxis": {
            "gridcolor": "white",
            "linecolor": "white",
            "ticks": ""
           },
           "baxis": {
            "gridcolor": "white",
            "linecolor": "white",
            "ticks": ""
           },
           "bgcolor": "#E5ECF6",
           "caxis": {
            "gridcolor": "white",
            "linecolor": "white",
            "ticks": ""
           }
          },
          "title": {
           "x": 0.05
          },
          "xaxis": {
           "automargin": true,
           "gridcolor": "white",
           "linecolor": "white",
           "ticks": "",
           "title": {
            "standoff": 15
           },
           "zerolinecolor": "white",
           "zerolinewidth": 2
          },
          "yaxis": {
           "automargin": true,
           "gridcolor": "white",
           "linecolor": "white",
           "ticks": "",
           "title": {
            "standoff": 15
           },
           "zerolinecolor": "white",
           "zerolinewidth": 2
          }
         }
        },
        "title": {
         "text": "Scenario 2: Roles by Person"
        },
        "xaxis": {
         "title": {
          "text": "Roles"
         }
        },
        "yaxis": {
         "title": {
          "text": "Number of Roles"
         }
        }
       }
      },
      "text/html": [
       "<div>                            <div id=\"bdc0673c-fc8f-45e6-b65e-6bbf8aaaac00\" class=\"plotly-graph-div\" style=\"height:525px; width:100%;\"></div>            <script type=\"text/javascript\">                require([\"plotly\"], function(Plotly) {                    window.PLOTLYENV=window.PLOTLYENV || {};                                    if (document.getElementById(\"bdc0673c-fc8f-45e6-b65e-6bbf8aaaac00\")) {                    Plotly.newPlot(                        \"bdc0673c-fc8f-45e6-b65e-6bbf8aaaac00\",                        [{\"mode\":\"lines+markers\",\"name\":\"PP_1\",\"x\":[\"Ciara\",\"Peter\",\"Juan\",\"Jim\",\"Jane\",\"Mary\",\"Bruce\",\"Anita\"],\"y\":[276,0,0,0,0,0,0,0],\"type\":\"scatter\"},{\"mode\":\"lines+markers\",\"name\":\"PP_2\",\"x\":[\"Ciara\",\"Peter\",\"Juan\",\"Jim\",\"Jane\",\"Mary\",\"Bruce\",\"Anita\"],\"y\":[0,96,0,0,132,0,48,0],\"type\":\"scatter\"},{\"mode\":\"lines+markers\",\"name\":\"AI_1\",\"x\":[\"Ciara\",\"Peter\",\"Juan\",\"Jim\",\"Jane\",\"Mary\",\"Bruce\",\"Anita\"],\"y\":[0,64,88,60,0,0,0,64],\"type\":\"scatter\"},{\"mode\":\"lines+markers\",\"name\":\"AI_2\",\"x\":[\"Ciara\",\"Peter\",\"Juan\",\"Jim\",\"Jane\",\"Mary\",\"Bruce\",\"Anita\"],\"y\":[0,64,88,60,0,0,0,64],\"type\":\"scatter\"},{\"mode\":\"lines+markers\",\"name\":\"AI_3\",\"x\":[\"Ciara\",\"Peter\",\"Juan\",\"Jim\",\"Jane\",\"Mary\",\"Bruce\",\"Anita\"],\"y\":[0,64,88,60,0,0,0,64],\"type\":\"scatter\"},{\"mode\":\"lines+markers\",\"name\":\"WD\",\"x\":[\"Ciara\",\"Peter\",\"Juan\",\"Jim\",\"Jane\",\"Mary\",\"Bruce\",\"Anita\"],\"y\":[0,0,138,0,0,48,0,90],\"type\":\"scatter\"},{\"mode\":\"lines+markers\",\"name\":\"DB\",\"x\":[\"Ciara\",\"Peter\",\"Juan\",\"Jim\",\"Jane\",\"Mary\",\"Bruce\",\"Anita\"],\"y\":[0,0,0,0,276,0,0,0],\"type\":\"scatter\"},{\"mode\":\"lines+markers\",\"name\":\"SE\",\"x\":[\"Ciara\",\"Peter\",\"Juan\",\"Jim\",\"Jane\",\"Mary\",\"Bruce\",\"Anita\"],\"y\":[0,0,0,120,0,78,78,0],\"type\":\"scatter\"}],                        {\"template\":{\"data\":{\"histogram2dcontour\":[{\"type\":\"histogram2dcontour\",\"colorbar\":{\"outlinewidth\":0,\"ticks\":\"\"},\"colorscale\":[[0.0,\"#0d0887\"],[0.1111111111111111,\"#46039f\"],[0.2222222222222222,\"#7201a8\"],[0.3333333333333333,\"#9c179e\"],[0.4444444444444444,\"#bd3786\"],[0.5555555555555556,\"#d8576b\"],[0.6666666666666666,\"#ed7953\"],[0.7777777777777778,\"#fb9f3a\"],[0.8888888888888888,\"#fdca26\"],[1.0,\"#f0f921\"]]}],\"choropleth\":[{\"type\":\"choropleth\",\"colorbar\":{\"outlinewidth\":0,\"ticks\":\"\"}}],\"histogram2d\":[{\"type\":\"histogram2d\",\"colorbar\":{\"outlinewidth\":0,\"ticks\":\"\"},\"colorscale\":[[0.0,\"#0d0887\"],[0.1111111111111111,\"#46039f\"],[0.2222222222222222,\"#7201a8\"],[0.3333333333333333,\"#9c179e\"],[0.4444444444444444,\"#bd3786\"],[0.5555555555555556,\"#d8576b\"],[0.6666666666666666,\"#ed7953\"],[0.7777777777777778,\"#fb9f3a\"],[0.8888888888888888,\"#fdca26\"],[1.0,\"#f0f921\"]]}],\"heatmap\":[{\"type\":\"heatmap\",\"colorbar\":{\"outlinewidth\":0,\"ticks\":\"\"},\"colorscale\":[[0.0,\"#0d0887\"],[0.1111111111111111,\"#46039f\"],[0.2222222222222222,\"#7201a8\"],[0.3333333333333333,\"#9c179e\"],[0.4444444444444444,\"#bd3786\"],[0.5555555555555556,\"#d8576b\"],[0.6666666666666666,\"#ed7953\"],[0.7777777777777778,\"#fb9f3a\"],[0.8888888888888888,\"#fdca26\"],[1.0,\"#f0f921\"]]}],\"heatmapgl\":[{\"type\":\"heatmapgl\",\"colorbar\":{\"outlinewidth\":0,\"ticks\":\"\"},\"colorscale\":[[0.0,\"#0d0887\"],[0.1111111111111111,\"#46039f\"],[0.2222222222222222,\"#7201a8\"],[0.3333333333333333,\"#9c179e\"],[0.4444444444444444,\"#bd3786\"],[0.5555555555555556,\"#d8576b\"],[0.6666666666666666,\"#ed7953\"],[0.7777777777777778,\"#fb9f3a\"],[0.8888888888888888,\"#fdca26\"],[1.0,\"#f0f921\"]]}],\"contourcarpet\":[{\"type\":\"contourcarpet\",\"colorbar\":{\"outlinewidth\":0,\"ticks\":\"\"}}],\"contour\":[{\"type\":\"contour\",\"colorbar\":{\"outlinewidth\":0,\"ticks\":\"\"},\"colorscale\":[[0.0,\"#0d0887\"],[0.1111111111111111,\"#46039f\"],[0.2222222222222222,\"#7201a8\"],[0.3333333333333333,\"#9c179e\"],[0.4444444444444444,\"#bd3786\"],[0.5555555555555556,\"#d8576b\"],[0.6666666666666666,\"#ed7953\"],[0.7777777777777778,\"#fb9f3a\"],[0.8888888888888888,\"#fdca26\"],[1.0,\"#f0f921\"]]}],\"surface\":[{\"type\":\"surface\",\"colorbar\":{\"outlinewidth\":0,\"ticks\":\"\"},\"colorscale\":[[0.0,\"#0d0887\"],[0.1111111111111111,\"#46039f\"],[0.2222222222222222,\"#7201a8\"],[0.3333333333333333,\"#9c179e\"],[0.4444444444444444,\"#bd3786\"],[0.5555555555555556,\"#d8576b\"],[0.6666666666666666,\"#ed7953\"],[0.7777777777777778,\"#fb9f3a\"],[0.8888888888888888,\"#fdca26\"],[1.0,\"#f0f921\"]]}],\"mesh3d\":[{\"type\":\"mesh3d\",\"colorbar\":{\"outlinewidth\":0,\"ticks\":\"\"}}],\"scatter\":[{\"fillpattern\":{\"fillmode\":\"overlay\",\"size\":10,\"solidity\":0.2},\"type\":\"scatter\"}],\"parcoords\":[{\"type\":\"parcoords\",\"line\":{\"colorbar\":{\"outlinewidth\":0,\"ticks\":\"\"}}}],\"scatterpolargl\":[{\"type\":\"scatterpolargl\",\"marker\":{\"colorbar\":{\"outlinewidth\":0,\"ticks\":\"\"}}}],\"bar\":[{\"error_x\":{\"color\":\"#2a3f5f\"},\"error_y\":{\"color\":\"#2a3f5f\"},\"marker\":{\"line\":{\"color\":\"#E5ECF6\",\"width\":0.5},\"pattern\":{\"fillmode\":\"overlay\",\"size\":10,\"solidity\":0.2}},\"type\":\"bar\"}],\"scattergeo\":[{\"type\":\"scattergeo\",\"marker\":{\"colorbar\":{\"outlinewidth\":0,\"ticks\":\"\"}}}],\"scatterpolar\":[{\"type\":\"scatterpolar\",\"marker\":{\"colorbar\":{\"outlinewidth\":0,\"ticks\":\"\"}}}],\"histogram\":[{\"marker\":{\"pattern\":{\"fillmode\":\"overlay\",\"size\":10,\"solidity\":0.2}},\"type\":\"histogram\"}],\"scattergl\":[{\"type\":\"scattergl\",\"marker\":{\"colorbar\":{\"outlinewidth\":0,\"ticks\":\"\"}}}],\"scatter3d\":[{\"type\":\"scatter3d\",\"line\":{\"colorbar\":{\"outlinewidth\":0,\"ticks\":\"\"}},\"marker\":{\"colorbar\":{\"outlinewidth\":0,\"ticks\":\"\"}}}],\"scattermapbox\":[{\"type\":\"scattermapbox\",\"marker\":{\"colorbar\":{\"outlinewidth\":0,\"ticks\":\"\"}}}],\"scatterternary\":[{\"type\":\"scatterternary\",\"marker\":{\"colorbar\":{\"outlinewidth\":0,\"ticks\":\"\"}}}],\"scattercarpet\":[{\"type\":\"scattercarpet\",\"marker\":{\"colorbar\":{\"outlinewidth\":0,\"ticks\":\"\"}}}],\"carpet\":[{\"aaxis\":{\"endlinecolor\":\"#2a3f5f\",\"gridcolor\":\"white\",\"linecolor\":\"white\",\"minorgridcolor\":\"white\",\"startlinecolor\":\"#2a3f5f\"},\"baxis\":{\"endlinecolor\":\"#2a3f5f\",\"gridcolor\":\"white\",\"linecolor\":\"white\",\"minorgridcolor\":\"white\",\"startlinecolor\":\"#2a3f5f\"},\"type\":\"carpet\"}],\"table\":[{\"cells\":{\"fill\":{\"color\":\"#EBF0F8\"},\"line\":{\"color\":\"white\"}},\"header\":{\"fill\":{\"color\":\"#C8D4E3\"},\"line\":{\"color\":\"white\"}},\"type\":\"table\"}],\"barpolar\":[{\"marker\":{\"line\":{\"color\":\"#E5ECF6\",\"width\":0.5},\"pattern\":{\"fillmode\":\"overlay\",\"size\":10,\"solidity\":0.2}},\"type\":\"barpolar\"}],\"pie\":[{\"automargin\":true,\"type\":\"pie\"}]},\"layout\":{\"autotypenumbers\":\"strict\",\"colorway\":[\"#636efa\",\"#EF553B\",\"#00cc96\",\"#ab63fa\",\"#FFA15A\",\"#19d3f3\",\"#FF6692\",\"#B6E880\",\"#FF97FF\",\"#FECB52\"],\"font\":{\"color\":\"#2a3f5f\"},\"hovermode\":\"closest\",\"hoverlabel\":{\"align\":\"left\"},\"paper_bgcolor\":\"white\",\"plot_bgcolor\":\"#E5ECF6\",\"polar\":{\"bgcolor\":\"#E5ECF6\",\"angularaxis\":{\"gridcolor\":\"white\",\"linecolor\":\"white\",\"ticks\":\"\"},\"radialaxis\":{\"gridcolor\":\"white\",\"linecolor\":\"white\",\"ticks\":\"\"}},\"ternary\":{\"bgcolor\":\"#E5ECF6\",\"aaxis\":{\"gridcolor\":\"white\",\"linecolor\":\"white\",\"ticks\":\"\"},\"baxis\":{\"gridcolor\":\"white\",\"linecolor\":\"white\",\"ticks\":\"\"},\"caxis\":{\"gridcolor\":\"white\",\"linecolor\":\"white\",\"ticks\":\"\"}},\"coloraxis\":{\"colorbar\":{\"outlinewidth\":0,\"ticks\":\"\"}},\"colorscale\":{\"sequential\":[[0.0,\"#0d0887\"],[0.1111111111111111,\"#46039f\"],[0.2222222222222222,\"#7201a8\"],[0.3333333333333333,\"#9c179e\"],[0.4444444444444444,\"#bd3786\"],[0.5555555555555556,\"#d8576b\"],[0.6666666666666666,\"#ed7953\"],[0.7777777777777778,\"#fb9f3a\"],[0.8888888888888888,\"#fdca26\"],[1.0,\"#f0f921\"]],\"sequentialminus\":[[0.0,\"#0d0887\"],[0.1111111111111111,\"#46039f\"],[0.2222222222222222,\"#7201a8\"],[0.3333333333333333,\"#9c179e\"],[0.4444444444444444,\"#bd3786\"],[0.5555555555555556,\"#d8576b\"],[0.6666666666666666,\"#ed7953\"],[0.7777777777777778,\"#fb9f3a\"],[0.8888888888888888,\"#fdca26\"],[1.0,\"#f0f921\"]],\"diverging\":[[0,\"#8e0152\"],[0.1,\"#c51b7d\"],[0.2,\"#de77ae\"],[0.3,\"#f1b6da\"],[0.4,\"#fde0ef\"],[0.5,\"#f7f7f7\"],[0.6,\"#e6f5d0\"],[0.7,\"#b8e186\"],[0.8,\"#7fbc41\"],[0.9,\"#4d9221\"],[1,\"#276419\"]]},\"xaxis\":{\"gridcolor\":\"white\",\"linecolor\":\"white\",\"ticks\":\"\",\"title\":{\"standoff\":15},\"zerolinecolor\":\"white\",\"automargin\":true,\"zerolinewidth\":2},\"yaxis\":{\"gridcolor\":\"white\",\"linecolor\":\"white\",\"ticks\":\"\",\"title\":{\"standoff\":15},\"zerolinecolor\":\"white\",\"automargin\":true,\"zerolinewidth\":2},\"scene\":{\"xaxis\":{\"backgroundcolor\":\"#E5ECF6\",\"gridcolor\":\"white\",\"linecolor\":\"white\",\"showbackground\":true,\"ticks\":\"\",\"zerolinecolor\":\"white\",\"gridwidth\":2},\"yaxis\":{\"backgroundcolor\":\"#E5ECF6\",\"gridcolor\":\"white\",\"linecolor\":\"white\",\"showbackground\":true,\"ticks\":\"\",\"zerolinecolor\":\"white\",\"gridwidth\":2},\"zaxis\":{\"backgroundcolor\":\"#E5ECF6\",\"gridcolor\":\"white\",\"linecolor\":\"white\",\"showbackground\":true,\"ticks\":\"\",\"zerolinecolor\":\"white\",\"gridwidth\":2}},\"shapedefaults\":{\"line\":{\"color\":\"#2a3f5f\"}},\"annotationdefaults\":{\"arrowcolor\":\"#2a3f5f\",\"arrowhead\":0,\"arrowwidth\":1},\"geo\":{\"bgcolor\":\"white\",\"landcolor\":\"#E5ECF6\",\"subunitcolor\":\"white\",\"showland\":true,\"showlakes\":true,\"lakecolor\":\"white\"},\"title\":{\"x\":0.05},\"mapbox\":{\"style\":\"light\"}}},\"title\":{\"text\":\"Scenario 2: Roles by Person\"},\"xaxis\":{\"title\":{\"text\":\"Roles\"}},\"yaxis\":{\"title\":{\"text\":\"Number of Roles\"}},\"barmode\":\"stack\",\"legend\":{\"title\":{\"text\":\"People\"}}},                        {\"responsive\": true}                    ).then(function(){\n",
       "                            \n",
       "var gd = document.getElementById('bdc0673c-fc8f-45e6-b65e-6bbf8aaaac00');\n",
       "var x = new MutationObserver(function (mutations, observer) {{\n",
       "        var display = window.getComputedStyle(gd).display;\n",
       "        if (!display || display === 'none') {{\n",
       "            console.log([gd, 'removed!']);\n",
       "            Plotly.purge(gd);\n",
       "            observer.disconnect();\n",
       "        }}\n",
       "}});\n",
       "\n",
       "// Listen for the removal of the full notebook cells\n",
       "var notebookContainer = gd.closest('#notebook-container');\n",
       "if (notebookContainer) {{\n",
       "    x.observe(notebookContainer, {childList: true});\n",
       "}}\n",
       "\n",
       "// Listen for the clearing of the current output cell\n",
       "var outputEl = gd.closest('.output');\n",
       "if (outputEl) {{\n",
       "    x.observe(outputEl, {childList: true});\n",
       "}}\n",
       "\n",
       "                        })                };                });            </script>        </div>"
      ]
     },
     "metadata": {},
     "output_type": "display_data"
    }
   ],
   "source": [
    "def plot_s2():\n",
    "    fig = go.Figure()\n",
    "    \n",
    "    for person in df_s2.index:\n",
    "        fig.add_trace(go.Scatter(\n",
    "            x=df_s2.columns,\n",
    "            y=df_s2.loc[person],\n",
    "            mode = \"lines+markers\",\n",
    "            name=person\n",
    "        ))\n",
    "        \n",
    "    fig.update_layout(\n",
    "        title = \"Scenario 2: Roles by Person\",\n",
    "        xaxis_title=\"Roles\",\n",
    "        yaxis_title=\"Number of Roles\",\n",
    "        barmode=\"stack\",\n",
    "        legend_title=\"People\"\n",
    "    )\n",
    "        \n",
    "    fig.show()\n",
    "        \n",
    "plot_s2()        \n"
   ]
  },
  {
   "cell_type": "markdown",
   "id": "da6b9427",
   "metadata": {},
   "source": [
    "## GUI"
   ]
  },
  {
   "cell_type": "code",
   "execution_count": 44,
   "id": "b59151c3",
   "metadata": {},
   "outputs": [],
   "source": [
    "import tkinter as tk\n",
    "from matplotlib.backends.backend_tkagg import FigureCanvasTkAgg"
   ]
  },
  {
   "cell_type": "code",
   "execution_count": null,
   "id": "7793f6a2",
   "metadata": {},
   "outputs": [],
   "source": []
  }
 ],
 "metadata": {
  "kernelspec": {
   "display_name": "Python 3 (ipykernel)",
   "language": "python",
   "name": "python3"
  },
  "language_info": {
   "codemirror_mode": {
    "name": "ipython",
    "version": 3
   },
   "file_extension": ".py",
   "mimetype": "text/x-python",
   "name": "python",
   "nbconvert_exporter": "python",
   "pygments_lexer": "ipython3",
   "version": "3.11.5"
  }
 },
 "nbformat": 4,
 "nbformat_minor": 5
}
