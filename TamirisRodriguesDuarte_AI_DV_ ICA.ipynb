{
 "cells": [
  {
   "cell_type": "markdown",
   "id": "22d4646f",
   "metadata": {},
   "source": [
    "# CCT College\n",
    "\n",
    "###### Module Title(s):\t\n",
    "Artificial Inteligence, Data Visualisation & Comms \n",
    "###### Lecturer Name(s):\t\n",
    "David McQuaid, Sam Weiss\n",
    "###### Assessment Title:\t\n",
    "AI_DV _Lv8_ICA_v5\n",
    "###### Student Name: \n",
    "Tamiris Rodrigues Duarte\n",
    "###### Student Number:\n",
    "2020294\n",
    "###### Due Date (Deadline):\t\n",
    "5th January 2024\n",
    "\n",
    "###### GitHub:\t\n",
    "https://github.com/tamirisrd/AI_DV_ICA"
   ]
  },
  {
   "cell_type": "markdown",
   "id": "251426f3",
   "metadata": {},
   "source": [
    "Ciara is looking for employees for her new company, which develops and provides AI based logistic software for retailers. Ciara has determined that she needs:\n",
    "\n",
    "2 Python Programmers, 2 AI Engineers, 1 Web Designer, 1 Database Admin, and 1 Systems Engineer.\n",
    "Assume that if a person has two abilities, he or she can take on two roles in the company.\n",
    "\n",
    "So Ciara narrowed down her selections to the following people:\n",
    "\n",
    "Name \tAbilities\n",
    "Peter \tPython and AI\n",
    "Juan \tWeb and AI\n",
    "Jim \tAI and Systems\n",
    "Jane \tPython and Database\n",
    "Mary \tWeb and Systems\n",
    "Bruce \tSystems and Python\n",
    "Anita \tWeb and AI\n",
    "\n",
    "Variables: PP, AE, WD, DA, SE\n",
    "\n",
    "Value: 2, 2, 1, 1, 1\n",
    "\n",
    "Domain: Peter (PP, AI), Juan (WD, AE), Jim (AE, SE), Jane (PP, DA), Mary (WD, SE), Bruce (SE, PP), Anita (WD, AE)"
   ]
  },
  {
   "cell_type": "markdown",
   "id": "c5751366",
   "metadata": {},
   "source": [
    "\n",
    "\n",
    "# Task 1\n",
    "#### Suppose Ciara knows Python, and only has funds to hire three more people."
   ]
  },
  {
   "cell_type": "code",
   "execution_count": 24,
   "id": "83b41e42",
   "metadata": {},
   "outputs": [
    {
     "name": "stdout",
     "output_type": "stream",
     "text": [
      "Requirement already satisfied: python-constraint in c:\\users\\tahro\\anaconda3\\lib\\site-packages (1.4.0)\n"
     ]
    }
   ],
   "source": [
    "!pip install python-constraint"
   ]
  },
  {
   "cell_type": "code",
   "execution_count": 25,
   "id": "396e9fc8",
   "metadata": {},
   "outputs": [],
   "source": [
    "from constraint import *"
   ]
  },
  {
   "cell_type": "code",
   "execution_count": 40,
   "id": "7ef181db",
   "metadata": {},
   "outputs": [],
   "source": [
    "roles = {\n",
    "    'PP': 2, \n",
    "    'AE': 2,\n",
    "    'WD': 1,\n",
    "    'DA': 1,\n",
    "    'SE': 1    \n",
    "}\n",
    "\n",
    "people = {\n",
    "    'Peter': ['PP', 'AI'], \n",
    "    'Juan': ['WD', 'AE'], \n",
    "    'Jim': ['AE', 'SE'], \n",
    "    'Jane': ['PP', 'DA'], \n",
    "    'Mary': ['WD', 'SE'], \n",
    "    'Bruce': ['SE', 'PP'], \n",
    "    'Anita': ['WD', 'AE']\n",
    "}"
   ]
  },
  {
   "cell_type": "code",
   "execution_count": 43,
   "id": "3099eba7",
   "metadata": {},
   "outputs": [
    {
     "name": "stdout",
     "output_type": "stream",
     "text": [
      "Hire: ['Peter', 'Juan', 'Jim']\n"
     ]
    }
   ],
   "source": [
    "ciara = ['PP']\n",
    "python_skills = people\n",
    "\n",
    "def candidates (people, roles):\n",
    "    candidate_position = {}\n",
    "\n",
    "    for position, count in roles.items():\n",
    "        for name, abilities in python_skills.items():\n",
    "            if count > 0 and (position.split()[0] in abilities\n",
    "                             or position.split()[1] in abilities):\n",
    "                python_skills[name] = abilities\n",
    "                count -=1\n",
    "                \n",
    "hired = list (python_skills.keys())[:3]\n",
    "print(\"Hire:\", hired)\n",
    "                "
   ]
  },
  {
   "cell_type": "markdown",
   "id": "00765ae7",
   "metadata": {},
   "source": [
    "# Task 2\n",
    "#### 1.Using any CSP (Constraint Satisfaction Problem) framework (using variables, value domains, and constraints), discover if the above problems can be solved and if so detail who would be in hired.[0-30] "
   ]
  },
  {
   "cell_type": "code",
   "execution_count": null,
   "id": "1a14ef44",
   "metadata": {},
   "outputs": [],
   "source": [
    "problem = p()\n",
    "\n",
    "p.addVariable(Ann)"
   ]
  },
  {
   "cell_type": "markdown",
   "id": "2bbe2117",
   "metadata": {},
   "source": [
    "# References\n",
    "https://pypi.org/project/python-constraint/ [28/12/2023]\n"
   ]
  }
 ],
 "metadata": {
  "kernelspec": {
   "display_name": "Python 3 (ipykernel)",
   "language": "python",
   "name": "python3"
  },
  "language_info": {
   "codemirror_mode": {
    "name": "ipython",
    "version": 3
   },
   "file_extension": ".py",
   "mimetype": "text/x-python",
   "name": "python",
   "nbconvert_exporter": "python",
   "pygments_lexer": "ipython3",
   "version": "3.11.5"
  }
 },
 "nbformat": 4,
 "nbformat_minor": 5
}
