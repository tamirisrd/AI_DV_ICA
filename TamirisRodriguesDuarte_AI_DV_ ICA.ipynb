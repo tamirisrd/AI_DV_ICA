{
 "cells": [
  {
   "cell_type": "markdown",
   "id": "d84aa016",
   "metadata": {},
   "source": [
    "# CCT College\n",
    "\n",
    "###### Module Title(s):\t\n",
    "Artificial Inteligence, Data Visualisation & Comms \n",
    "###### Lecturer Name(s):\t\n",
    "David McQuaid, Sam Weiss\n",
    "###### Assessment Title:\t\n",
    "AI_DV _Lv8_ICA_v5\n",
    "###### Student Name: \n",
    "Tamiris Rodrigues Duarte\n",
    "###### Student Number:\n",
    "2020294\n",
    "###### Due Date (Deadline):\t\n",
    "5th January 2024\n",
    "\n",
    "###### GitHub:\t\n",
    "https://github.com/tamirisrd/AI_DV_ICA"
   ]
  },
  {
   "cell_type": "markdown",
   "id": "b90d2d8b",
   "metadata": {},
   "source": [
    "Ciara is looking for employees for her new company, which develops and provides AI based logistic software for retailers. Ciara has determined that she needs:\n",
    "\n",
    "2 Python Programmers, 2 AI Engineers, 1 Web Designer, 1 Database Admin, and 1 Systems Engineer.\n",
    "Assume that if a person has two abilities, he or she can take on two roles in the company.\n",
    "\n",
    "So Ciara narrowed down her selections to the following people:\n",
    "\n",
    "Name \tAbilities\n",
    "Peter \tPython and AI\n",
    "Juan \tWeb and AI\n",
    "Jim \tAI and Systems\n",
    "Jane \tPython and Database\n",
    "Mary \tWeb and Systems\n",
    "Bruce \tSystems and Python\n",
    "Anita \tWeb and AI\n",
    "\n",
    "Variables: PP, AE, WD, DA, SE\n",
    "\n",
    "Value: 2, 2, 1, 1, 1\n",
    "\n",
    "Domain: Peter (PP, AE), Juan (WD, AE), Jim (AE, SE), Jane (PP, DA), Mary (WD, SE), Bruce (SE, PP), Anita (WD, AE)"
   ]
  },
  {
   "cell_type": "markdown",
   "id": "c3b5c6fd",
   "metadata": {},
   "source": [
    "\n",
    "\n",
    "# Scenario 1\n",
    "#### Suppose Ciara knows Python, and only has funds to hire three more people.\n",
    "\n",
    "Ciara knows python, so the other 3 people need to cover the areas: AE, WD, SE and/or DA.\n",
    "\n",
    "Variables: PP, AE, WD, DA, SE /\n",
    "Value: Peter, Juan, Jim, Anita, Jim, Mary, Bruce, Jane\n",
    "(2, 2, 1, 1, 1)\n",
    "Constrain: Ciara knows python, hire only 3 people. \n",
    "\n",
    "\n",
    "For AE: Peter, Juan, Jim, Anita\n",
    "\n",
    "For WD: Juan, Mary, Anita\n",
    "\n",
    "For SE: Jim, Mary, Bruce\n",
    "\n",
    "DA: Jane\n",
    "\n",
    "For AE: Peter can be selected, as the other skill is python\n",
    "For WD: Juan or Anita\n",
    "For SE: Mary or Bruce\n",
    "DA: Jane is the only one  with this skill\n"
   ]
  },
  {
   "cell_type": "code",
   "execution_count": null,
   "id": "88094728",
   "metadata": {},
   "outputs": [],
   "source": [
    "!pip uninstall python-constraint\n"
   ]
  },
  {
   "cell_type": "code",
   "execution_count": 14,
   "id": "acb7f131",
   "metadata": {},
   "outputs": [
    {
     "ename": "ImportError",
     "evalue": "cannot import name 'Constraint' from 'csp' (C:\\Users\\tahro\\anaconda3\\Lib\\site-packages\\csp\\__init__.py)",
     "output_type": "error",
     "traceback": [
      "\u001b[1;31m---------------------------------------------------------------------------\u001b[0m",
      "\u001b[1;31mImportError\u001b[0m                               Traceback (most recent call last)",
      "Cell \u001b[1;32mIn[14], line 2\u001b[0m\n\u001b[0;32m      1\u001b[0m \u001b[38;5;28;01mimport\u001b[39;00m \u001b[38;5;21;01mcsp\u001b[39;00m\n\u001b[1;32m----> 2\u001b[0m \u001b[38;5;28;01mfrom\u001b[39;00m \u001b[38;5;21;01mcsp\u001b[39;00m \u001b[38;5;28;01mimport\u001b[39;00m Constraint, CSP\n\u001b[0;32m      3\u001b[0m \u001b[38;5;28;01mfrom\u001b[39;00m \u001b[38;5;21;01mtyping\u001b[39;00m \u001b[38;5;28;01mimport\u001b[39;00m List, Dict, Optional\n",
      "\u001b[1;31mImportError\u001b[0m: cannot import name 'Constraint' from 'csp' (C:\\Users\\tahro\\anaconda3\\Lib\\site-packages\\csp\\__init__.py)"
     ]
    }
   ],
   "source": [
    "import csp\n",
    "from csp import Constraint, CSP\n",
    "from typing import List, Dict, Optional"
   ]
  },
  {
   "cell_type": "code",
   "execution_count": 3,
   "id": "c02c69c8",
   "metadata": {},
   "outputs": [],
   "source": [
    "roles = {\n",
    "    'PP': 2, \n",
    "    'AE': 2,\n",
    "    'WD': 1,\n",
    "    'DA': 1,\n",
    "    'SE': 1    \n",
    "}\n",
    "\n",
    "people = {\n",
    "    'Peter': ['PP', 'AE'], \n",
    "    'Juan': ['WD', 'AE'], \n",
    "    'Jim': ['AE', 'SE'], \n",
    "    'Jane': ['PP', 'DA'], \n",
    "    'Mary': ['WD', 'SE'], \n",
    "    'Bruce': ['SE', 'PP'], \n",
    "    'Anita': ['WD', 'AE']\n",
    "}"
   ]
  },
  {
   "cell_type": "markdown",
   "id": "4d19ea1b",
   "metadata": {},
   "source": [
    "# Task 1\n",
    "#### 1.Using any CSP (Constraint Satisfaction Problem) framework (using variables, value domains, and constraints), discover if the above problems can be solved and if so detail who would be in hired.[0-30] "
   ]
  },
  {
   "cell_type": "code",
   "execution_count": 7,
   "id": "b100acb8",
   "metadata": {},
   "outputs": [
    {
     "ename": "NameError",
     "evalue": "name 'CSP' is not defined",
     "output_type": "error",
     "traceback": [
      "\u001b[1;31m---------------------------------------------------------------------------\u001b[0m",
      "\u001b[1;31mNameError\u001b[0m                                 Traceback (most recent call last)",
      "Cell \u001b[1;32mIn[7], line 37\u001b[0m\n\u001b[0;32m     21\u001b[0m domains: Dict[\u001b[38;5;28mstr\u001b[39m, List[\u001b[38;5;28mstr\u001b[39m]] \u001b[38;5;241m=\u001b[39m {\n\u001b[0;32m     22\u001b[0m     \u001b[38;5;124m\"\u001b[39m\u001b[38;5;124mPP\u001b[39m\u001b[38;5;124m\"\u001b[39m: [\u001b[38;5;124m\"\u001b[39m\u001b[38;5;124mPeter\u001b[39m\u001b[38;5;124m\"\u001b[39m, \u001b[38;5;124m\"\u001b[39m\u001b[38;5;124mJane\u001b[39m\u001b[38;5;124m\"\u001b[39m, \u001b[38;5;124m\"\u001b[39m\u001b[38;5;124mBruce\u001b[39m\u001b[38;5;124m\"\u001b[39m],\n\u001b[0;32m     23\u001b[0m     \u001b[38;5;124m\"\u001b[39m\u001b[38;5;124mAE\u001b[39m\u001b[38;5;124m\"\u001b[39m: [\u001b[38;5;124m\"\u001b[39m\u001b[38;5;124mPeter\u001b[39m\u001b[38;5;124m\"\u001b[39m, \u001b[38;5;124m\"\u001b[39m\u001b[38;5;124mJuan\u001b[39m\u001b[38;5;124m\"\u001b[39m, \u001b[38;5;124m\"\u001b[39m\u001b[38;5;124mJim\u001b[39m\u001b[38;5;124m\"\u001b[39m, \u001b[38;5;124m\"\u001b[39m\u001b[38;5;124mAnita\u001b[39m\u001b[38;5;124m\"\u001b[39m],\n\u001b[1;32m   (...)\u001b[0m\n\u001b[0;32m     26\u001b[0m     \u001b[38;5;124m\"\u001b[39m\u001b[38;5;124mSE\u001b[39m\u001b[38;5;124m\"\u001b[39m: [\u001b[38;5;124m\"\u001b[39m\u001b[38;5;124mJim\u001b[39m\u001b[38;5;124m\"\u001b[39m, \u001b[38;5;124m\"\u001b[39m\u001b[38;5;124mMary\u001b[39m\u001b[38;5;124m\"\u001b[39m, \u001b[38;5;124m\"\u001b[39m\u001b[38;5;124mBruce\u001b[39m\u001b[38;5;124m\"\u001b[39m]\n\u001b[0;32m     27\u001b[0m }\n\u001b[0;32m     29\u001b[0m max_hires: Dict[\u001b[38;5;28mstr\u001b[39m, \u001b[38;5;28mint\u001b[39m] \u001b[38;5;241m=\u001b[39m {\n\u001b[0;32m     30\u001b[0m     \u001b[38;5;124m'\u001b[39m\u001b[38;5;124mPP\u001b[39m\u001b[38;5;124m'\u001b[39m: \u001b[38;5;241m2\u001b[39m, \n\u001b[0;32m     31\u001b[0m     \u001b[38;5;124m'\u001b[39m\u001b[38;5;124mAE\u001b[39m\u001b[38;5;124m'\u001b[39m: \u001b[38;5;241m2\u001b[39m,\n\u001b[1;32m   (...)\u001b[0m\n\u001b[0;32m     34\u001b[0m     \u001b[38;5;124m'\u001b[39m\u001b[38;5;124mSE\u001b[39m\u001b[38;5;124m'\u001b[39m: \u001b[38;5;241m1\u001b[39m \n\u001b[0;32m     35\u001b[0m }\n\u001b[1;32m---> 37\u001b[0m csp: CSP[\u001b[38;5;28mstr\u001b[39m, \u001b[38;5;28mint\u001b[39m] \u001b[38;5;241m=\u001b[39m CSP(variable, domains)\n\u001b[0;32m     38\u001b[0m csp\u001b[38;5;241m.\u001b[39madd_constraint(HiringConstraint(variables, max_hires))\n\u001b[0;32m     40\u001b[0m solution: Optional[Dict[\u001b[38;5;28mstr\u001b[39m, \u001b[38;5;28mint\u001b[39m]] \u001b[38;5;241m=\u001b[39m csp\u001b[38;5;241m.\u001b[39mbacktracking_search()\n",
      "\u001b[1;31mNameError\u001b[0m: name 'CSP' is not defined"
     ]
    }
   ],
   "source": [
    "class JobsConstraint(Constraint):\n",
    "    def __init__(self, roles: List[str], max_hires: Dict [str, int]) -> None:\n",
    "        super().__init__(roles)\n",
    "        self.roles = roles\n",
    "        self.max_hires = max.hires\n",
    "        \n",
    "    def satisfied (self, assignment: Dict[str, int]) -> bool:\n",
    "        count_roles = { role: 0 for role in self.roles}\n",
    "        \n",
    "        for person, role in assignment.items():\n",
    "            count_roles[role] += 1\n",
    "            \n",
    "        for role, count in self.max_hires.items():\n",
    "            if count_roles.get(role, 0) > count:\n",
    "                return False\n",
    "        \n",
    "        return True\n",
    "    \n",
    "if __name__ == \"__main__\":\n",
    "    variables: List[str] = ['PP', 'AE', 'WD', 'DA', 'SE']\n",
    "    domains: Dict[str, List[str]] = {\n",
    "        \"PP\": [\"Peter\", \"Jane\", \"Bruce\"],\n",
    "        \"AE\": [\"Peter\", \"Juan\", \"Jim\", \"Anita\"],\n",
    "        \"WD\": [\"Juan\", \"Mary\", \"Anita\"],\n",
    "        \"DA\": [\"Jane\"],\n",
    "        \"SE\": [\"Jim\", \"Mary\", \"Bruce\"]\n",
    "    }\n",
    "        \n",
    "    max_hires: Dict[str, int] = {\n",
    "        'PP': 2, \n",
    "        'AE': 2,\n",
    "        'WD': 1,\n",
    "        'DA': 1,\n",
    "        'SE': 1 \n",
    "    }\n",
    "            \n",
    "    csp: CSP[str, int] = CSP(variable, domains)\n",
    "    csp.add_constraint(HiringConstraint(variables, max_hires))\n",
    "    \n",
    "    solution: Optional[Dict[str, int]] = csp.backtracking_search()\n",
    "    \n",
    "    if solution is None:\n",
    "        print(\"No solution found\")\n",
    "    else:\n",
    "        print(\"Hired:\", solution)\n",
    "            "
   ]
  },
  {
   "cell_type": "markdown",
   "id": "c36542f7",
   "metadata": {},
   "source": [
    "# References\n",
    "https://pypi.org/project/python-constraint/ [28/12/2023]\n",
    "Fire Officer Constraint file (in class) [30/12/2023]"
   ]
  }
 ],
 "metadata": {
  "kernelspec": {
   "display_name": "Python 3 (ipykernel)",
   "language": "python",
   "name": "python3"
  },
  "language_info": {
   "codemirror_mode": {
    "name": "ipython",
    "version": 3
   },
   "file_extension": ".py",
   "mimetype": "text/x-python",
   "name": "python",
   "nbconvert_exporter": "python",
   "pygments_lexer": "ipython3",
   "version": "3.11.5"
  }
 },
 "nbformat": 4,
 "nbformat_minor": 5
}
